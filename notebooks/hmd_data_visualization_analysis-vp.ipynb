{
 "cells": [
  {
   "cell_type": "markdown",
   "id": "19baae9a",
   "metadata": {
    "slideshow": {
     "slide_type": "slide"
    }
   },
   "source": [
    "# Project 1 Presentation\n",
    "## Group 6"
   ]
  },
  {
   "cell_type": "markdown",
   "id": "32a0c090",
   "metadata": {
    "slideshow": {
     "slide_type": "subslide"
    }
   },
   "source": [
    "Im writing something here"
   ]
  },
  {
   "cell_type": "code",
   "execution_count": null,
   "id": "c6de2886",
   "metadata": {
    "slideshow": {
     "slide_type": "notes"
    }
   },
   "outputs": [],
   "source": [
    "import numpy as np\n",
    "import pandas as pd\n",
    "import plotly.graph_objects as go\n",
    "import plotly.express as px\n",
    "import pycountry_convert as pc"
   ]
  },
  {
   "cell_type": "code",
   "execution_count": null,
   "id": "cf4ab5f9",
   "metadata": {
    "slideshow": {
     "slide_type": "skip"
    }
   },
   "outputs": [],
   "source": [
    "%store -r clean_df all_clean_df"
   ]
  },
  {
   "cell_type": "code",
   "execution_count": null,
   "id": "cea8ffa7",
   "metadata": {
    "slideshow": {
     "slide_type": "skip"
    }
   },
   "outputs": [],
   "source": [
    "def alpha3_to_country(alpha3):\n",
    "    alpha2 = pc.country_alpha3_to_country_alpha2(alpha3)\n",
    "    return pc.country_alpha2_to_country_name(alpha2)"
   ]
  },
  {
   "cell_type": "code",
   "execution_count": null,
   "id": "2cbbedd6",
   "metadata": {},
   "outputs": [],
   "source": [
    "all_clean_df[all_clean_df['PopCode'] =='RUS']"
   ]
  },
  {
   "cell_type": "code",
   "execution_count": null,
   "id": "9b1624f2",
   "metadata": {
    "slideshow": {
     "slide_type": "slide"
    }
   },
   "outputs": [],
   "source": [
    "usa_df = all_clean_df[all_clean_df['PopCode']=='USA']\n",
    "d_by_week = usa_df.groupby(by=['Year','Week'])['Deaths'].sum().reset_index()\n",
    "usa_fig = px.line(d_by_week, x='Week', y='Deaths', color='Year', title='Death count in USA')\n",
    "usa_fig.show()"
   ]
  },
  {
   "cell_type": "code",
   "execution_count": null,
   "id": "6c770953",
   "metadata": {},
   "outputs": [],
   "source": [
    "fig = go.Figure(data=go.Scatter(x=x, y=x**2))\n",
    "fig.show()"
   ]
  },
  {
   "cell_type": "code",
   "execution_count": null,
   "id": "0a342e78",
   "metadata": {},
   "outputs": [],
   "source": [
    "df = px.data.gapminder().query(\"continent == 'Oceania'\")\n",
    "df.head()\n",
    "# fig = px.line(df, x='year', y='lifeExp', color='country', markers=True)\n",
    "# fig.show()"
   ]
  },
  {
   "cell_type": "code",
   "execution_count": null,
   "id": "c7a91c3e",
   "metadata": {},
   "outputs": [],
   "source": [
    "month = all_clean_df['Week'].apply(month_convert)"
   ]
  },
  {
   "cell_type": "markdown",
   "id": "e6fe2736",
   "metadata": {
    "slideshow": {
     "slide_type": "fragment"
    }
   },
   "source": [
    "# header\n",
    "## header 2\n",
    "+ <b>number 1</b>\n",
    "+ <i>number 2</i>"
   ]
  },
  {
   "cell_type": "code",
   "execution_count": null,
   "id": "61339ede",
   "metadata": {
    "slideshow": {
     "slide_type": "skip"
    }
   },
   "outputs": [],
   "source": [
    "agg_func = {'Deaths': 'sum', 'iso_alpha3': 'first', 'continent': 'first'}\n",
    "year2021_df = all_clean_df[all_clean_df['Year'] == 2021]\n",
    "d2021_by_country = year2021_df.groupby(by=['PopCode']).aggregate(agg_func)\n",
    "d2021_by_country['Country'] = d2021_by_country['iso_alpha3'].apply(alpha3_to_country)\n",
    "d2021_fig = px.scatter_geo(d2021_by_country, locations=\"iso_alpha3\", color=\"continent\",\n",
    "                     hover_name=\"Country\", size=\"Deaths\",\n",
    "                     projection=\"natural earth\", title=\"2021 Deaths \")"
   ]
  },
  {
   "cell_type": "code",
   "execution_count": null,
   "id": "729b6412",
   "metadata": {
    "slideshow": {
     "slide_type": "slide"
    }
   },
   "outputs": [],
   "source": [
    "d2021_fig.show()"
   ]
  },
  {
   "cell_type": "markdown",
   "id": "feeab5e9",
   "metadata": {},
   "source": []
  },
  {
   "cell_type": "code",
   "execution_count": null,
   "id": "dc0cd06a",
   "metadata": {},
   "outputs": [],
   "source": [
    "year_df = all_clean_df[all_clean_df['Year'] == 2020]\n",
    "agg_func = {'Deaths': 'sum', 'iso_alpha3': 'first', 'continent': 'first'}\n",
    "d_by_country = year_df.groupby(by=['PopCode']).aggregate(agg_func)\n",
    "d_by_country['Country'] = d_by_country['iso_alpha3'].apply(alpha3_to_country)\n",
    "\n",
    "fig = go.Figure(data=go.Scattergeo(\n",
    "        locations = d_by_country['iso_alpha3'],\n",
    "        text = d_by_country['Country'],\n",
    "        mode = 'markers',\n",
    "        marker_color = d_by_country['Deaths'],\n",
    "#         marker_color = d_by_country['continent'],\n",
    "#         marker_size = d_by_country['Deaths'],\n",
    "        ))\n",
    "\n",
    "fig.update_layout(\n",
    "        title = 'Most trafficked US airports<br>(Hover for airport names)',\n",
    "#         geo_scope='usa',\n",
    "    )\n",
    "fig.show()"
   ]
  },
  {
   "cell_type": "code",
   "execution_count": null,
   "id": "96a0bc1e",
   "metadata": {
    "slideshow": {
     "slide_type": "skip"
    }
   },
   "outputs": [],
   "source": [
    "years_df_l = []\n",
    "agg_func = {'Deaths': 'sum', 'iso_alpha3': 'first', 'continent': 'first'}\n",
    "\n",
    "# generate data list from 2010 to 2020\n",
    "for year in range(2010,2021):\n",
    "    year_df = all_clean_df[all_clean_df['Year'] == year]\n",
    "    d_by_country = year_df.groupby(by=['PopCode']).aggregate(agg_func)\n",
    "    d_by_country['Country'] = d_by_country['iso_alpha3'].apply(alpha3_to_country)\n",
    "    years_df_l.append(d_by_country)\n",
    "\n",
    "# Create figure\n",
    "beautiful_fig = go.Figure(data=go.Choropleth(locations = years_df_l[0]['iso_alpha3'],\n",
    "                                   z = years_df_l[0]['Deaths'],\n",
    "                                   text = years_df_l[0]['Country'],\n",
    "                                   colorbar_title = \"Deaths\",\n",
    "                                   colorscale=\"Jet\"))\n",
    "\n",
    "# Add dropdowns\n",
    "beautiful_fig.update_layout(\n",
    "    updatemenus=[\n",
    "        dict(\n",
    "            buttons=list([\n",
    "                dict(\n",
    "                    args=[{\"z\":[years_df_l[0]['Deaths']],\n",
    "                           \"locations\":[years_df_l[0]['iso_alpha3']],\n",
    "                           \"text\":[years_df_l[0]['Country']]}],\n",
    "                    label=\"2010\",\n",
    "                    method=\"restyle\"\n",
    "                ),\n",
    "                dict(\n",
    "                    args=[{\"z\":[years_df_l[1]['Deaths']],\n",
    "                           \"locations\":[years_df_l[1]['iso_alpha3']],\n",
    "                           \"text\":[years_df_l[1]['Country']]}],\n",
    "                    label=\"2011\",\n",
    "                    method=\"restyle\"\n",
    "                ),\n",
    "                dict(\n",
    "                    args=[{\"z\":[years_df_l[2]['Deaths']],\n",
    "                           \"locations\":[years_df_l[2]['iso_alpha3']],\n",
    "                           \"text\":[years_df_l[2]['Country']]}],\n",
    "                    label=\"2012\",\n",
    "                    method=\"restyle\"\n",
    "                ),\n",
    "                dict(\n",
    "                    args=[{\"z\":[years_df_l[3]['Deaths']],\n",
    "                           \"locations\":[years_df_l[3]['iso_alpha3']],\n",
    "                           \"text\":[years_df_l[3]['Country']]}],\n",
    "                    label=\"2013\",\n",
    "                    method=\"restyle\"\n",
    "                ),\n",
    "                dict(\n",
    "                    args=[{\"z\":[years_df_l[4]['Deaths']],\n",
    "                           \"locations\":[years_df_l[4]['iso_alpha3']],\n",
    "                           \"text\":[years_df_l[4]['Country']]}],\n",
    "                    label=\"2014\",\n",
    "                    method=\"restyle\"\n",
    "                ),\n",
    "                dict(\n",
    "                    args=[{\"z\":[years_df_l[5]['Deaths']],\n",
    "                           \"locations\":[years_df_l[5]['iso_alpha3']],\n",
    "                           \"text\":[years_df_l[5]['Country']]}],\n",
    "                    label=\"2015\",\n",
    "                    method=\"restyle\"\n",
    "                ),\n",
    "                dict(\n",
    "                    args=[{\"z\":[years_df_l[6]['Deaths']],\n",
    "                           \"locations\":[years_df_l[6]['iso_alpha3']],\n",
    "                           \"text\":[years_df_l[6]['Country']]}],\n",
    "                    label=\"2016\",\n",
    "                    method=\"restyle\"\n",
    "                ),\n",
    "                dict(\n",
    "                    args=[{\"z\":[years_df_l[7]['Deaths']],\n",
    "                           \"locations\":[years_df_l[7]['iso_alpha3']],\n",
    "                           \"text\":[years_df_l[7]['Country']]}],\n",
    "                    label=\"2017\",\n",
    "                    method=\"restyle\"\n",
    "                ),\n",
    "                dict(\n",
    "                    args=[{\"z\":[years_df_l[8]['Deaths']],\n",
    "                           \"locations\":[years_df_l[8]['iso_alpha3']],\n",
    "                           \"text\":[years_df_l[8]['Country']]}],\n",
    "                    label=\"2018\",\n",
    "                    method=\"restyle\"\n",
    "                ),\n",
    "                dict(\n",
    "                    args=[{\"z\":[years_df_l[9]['Deaths']],\n",
    "                           \"locations\":[years_df_l[9]['iso_alpha3']],\n",
    "                           \"text\":[years_df_l[9]['Country']]}],\n",
    "                    label=\"2019\",\n",
    "                    method=\"restyle\"\n",
    "                ),\n",
    "                dict(\n",
    "                    args=[{\"z\":[years_df_l[10]['Deaths']],\n",
    "                           \"locations\":[years_df_l[10]['iso_alpha3']],\n",
    "                           \"text\":[years_df_l[10]['Country']]}],\n",
    "                    label=\"2020\",\n",
    "                    method=\"restyle\"\n",
    "                ),\n",
    "            ]),\n",
    "            direction=\"down\",\n",
    "            pad={\"r\": 1, \"t\": 1},\n",
    "            showactive=True,\n",
    "            x=0.7,\n",
    "            xanchor=\"center\",\n",
    "            y=1.18,\n",
    "            yanchor=\"top\"\n",
    "        ),\n",
    "    ]\n",
    ")\n",
    "\n",
    "beautiful_fig.update_layout(\n",
    "#     annotations=[\n",
    "#         dict(text=\"Year\", x=0.5, xref=\"paper\", y=0.79, yref=\"paper\",\n",
    "#                              align=\"left\", showarrow=False),\n",
    "#     ],\n",
    "    title={\n",
    "        'text': \"Deaths by Year\",\n",
    "        'y':0.9,\n",
    "        'x':0.5,\n",
    "        'xanchor': 'center',\n",
    "        'yanchor': 'top'}\n",
    ")"
   ]
  },
  {
   "cell_type": "code",
   "execution_count": null,
   "id": "07bf5ab6",
   "metadata": {
    "slideshow": {
     "slide_type": "slide"
    }
   },
   "outputs": [],
   "source": [
    "# display figure\n",
    "beautiful_fig.show()"
   ]
  },
  {
   "cell_type": "code",
   "execution_count": null,
   "id": "adf28e7e",
   "metadata": {
    "slideshow": {
     "slide_type": "skip"
    }
   },
   "outputs": [],
   "source": [
    "# all_clean_df[all_clean_df['PopCode'] == 'USA']\n",
    "# years_df_l[5]\n",
    "test_clean_df = all_clean_df[all_clean_df['PopCode'] == 'USA']\n",
    "test_clean_df['Year'].unique()\n",
    "# agg_func = {'Year':'first', 'Deaths': 'sum', 'iso_alpha3': 'first', 'continent': 'first'}\n",
    "# test_df = clean_df.groupby(by='PopCode').aggregate(agg_func)\n",
    "# test_df"
   ]
  },
  {
   "cell_type": "code",
   "execution_count": null,
   "id": "c5f1d44b",
   "metadata": {},
   "outputs": [],
   "source": []
  }
 ],
 "metadata": {
  "celltoolbar": "Slideshow",
  "kernelspec": {
   "display_name": "Python 3",
   "language": "python",
   "name": "python3"
  },
  "language_info": {
   "codemirror_mode": {
    "name": "ipython",
    "version": 3
   },
   "file_extension": ".py",
   "mimetype": "text/x-python",
   "name": "python",
   "nbconvert_exporter": "python",
   "pygments_lexer": "ipython3",
   "version": "3.8.8"
  }
 },
 "nbformat": 4,
 "nbformat_minor": 5
}
