{
 "cells": [
  {
   "cell_type": "code",
   "execution_count": null,
   "id": "c6de2886",
   "metadata": {},
   "outputs": [],
   "source": [
    "import numpy as np\n",
    "import pandas as pd\n",
    "import plotly.graph_objects as go\n",
    "import plotly.express as px"
   ]
  },
  {
   "cell_type": "code",
   "execution_count": null,
   "id": "cf4ab5f9",
   "metadata": {},
   "outputs": [],
   "source": [
    "%store -r clean_df all_clean_df"
   ]
  },
  {
   "cell_type": "code",
   "execution_count": null,
   "id": "47ecebee",
   "metadata": {},
   "outputs": [],
   "source": [
    "clean_df.head()"
   ]
  },
  {
   "cell_type": "code",
   "execution_count": null,
   "id": "1d4744e3",
   "metadata": {},
   "outputs": [],
   "source": [
    "all_clean_df.head()"
   ]
  },
  {
   "cell_type": "code",
   "execution_count": null,
   "id": "282fb9f3",
   "metadata": {},
   "outputs": [],
   "source": [
    "group_1 = clean_df.groupby(\"Year\")[\"Deaths\"].sum()\n",
    "plot_up = px.line(group_1)\n",
    "plot_up.update_xaxes(\n",
    "        tickangle = 70,\n",
    "        title_text = \"YEARS\",\n",
    "        title_font = {\"size\": 20},\n",
    "        title_standoff = 25)\n",
    "\n",
    "plot_up.update_yaxes(\n",
    "        title_text = \"TOTAL NUMBER OF DEATHS\",\n",
    "        title_font = {\"size\": 20},\n",
    "        title_standoff = 25)\n",
    "plot_up.update_layout(title_text='LINE CHART OF TOTAL NUMBER OF DEATHS VERSUS YEARS', title_x=0.5)\n",
    "\n",
    "plot_up.show()"
   ]
  },
  {
   "cell_type": "markdown",
   "id": "89341fc4",
   "metadata": {},
   "source": [
    "### 1. The Line chart displays a steady increase of deaths from the year 2000 to 2019\n",
    "\n",
    "### 2. A sharp rise occurred from 2019 to 2020\n",
    "\n",
    "### 3. The graph plummeted from 2020 to 2021, indicating the curtailment in mortality"
   ]
  },
  {
   "cell_type": "code",
   "execution_count": null,
   "id": "37214d63",
   "metadata": {},
   "outputs": [],
   "source": [
    "death_ave = clean_df.groupby(\"PopCode\")[\"Deaths\"].mean()\n",
    "death_ave_df = pd.DataFrame(death_ave)\n",
    "bar_plot = px.bar(death_ave_df)\n",
    "bar_plot.update_xaxes(tickangle = 70,\n",
    "        title_text = \"POPULATION CODE\",\n",
    "        title_font = {\"size\": 20},\n",
    "        title_standoff = 20)\n",
    "bar_plot.update_yaxes(\n",
    "        title_text = \"AVERAGE OF DEATHS\",\n",
    "        title_font = {\"size\": 20},\n",
    "        title_standoff = 40)\n",
    "bar_plot.update_layout(title_text='BAR CHART OF AVERAGE DEATHS VERSUS POPULATION CODE', title_x=0.5)\n",
    "bar_plot.show()"
   ]
  },
  {
   "cell_type": "markdown",
   "id": "cb2942ea",
   "metadata": {},
   "source": [
    "### 1. USA leads with an Average of Deaths of approximately 2,918\n",
    "\n",
    "### 2. Russia comes second with equivalently 1,010 Average of Deaths, followed by Canada\n",
    "\n",
    "### 3. From observation, North America appears to top the chart with a high mortality rate"
   ]
  },
  {
   "cell_type": "code",
   "execution_count": null,
   "id": "7e11bcf4",
   "metadata": {},
   "outputs": [],
   "source": [
    "ave_group = clean_df.groupby(\"continent\")[\"Deaths\"].mean()\n",
    "ave_df = pd.DataFrame(ave_group)\n",
    "new_df = ave_df.reset_index()\n",
    "fig = px.pie(new_df, values='Deaths', names=\"continent\", title='AVERAGE OF DEATHS PER CONTINENT')\n",
    "fig.show()"
   ]
  },
  {
   "cell_type": "markdown",
   "id": "9f0a989b",
   "metadata": {},
   "source": [
    "### 1. North America presents a percentage of 73.7\n",
    "\n",
    "### 2. South America manifests as the continent with the lowest percentage of Death Average"
   ]
  },
  {
   "cell_type": "code",
   "execution_count": null,
   "id": "82e75e0c",
   "metadata": {},
   "outputs": [],
   "source": [
    "USA_CAN = clean_df[(clean_df['PopCode']=='USA') | (clean_df['PopCode']== 'CAN')].reset_index()\n",
    "n_df= USA_CAN.groupby(['Year','Sex'])['Deaths'].mean()\n",
    "reset = n_df.reset_index()\n",
    "box_plot = px.box(reset, x='Sex', y='Deaths')\n",
    "box_plot.update_layout(xaxis_title = 'SEX', yaxis_title='AVERAGE OF DEATHS', title = 'BOX PLOT OF MALE & FEMALE DEATHS IN NORTH AMERICA', title_x = 0.5)\n",
    "box_plot.show()"
   ]
  },
  {
   "cell_type": "markdown",
   "id": "efc69390",
   "metadata": {},
   "source": [
    "### With the upper quartile (Q4) of about 695 Death Average for Males and a corresponding Average of 667 for their female counterparts, there was the observation of higher death rate in males than in females, considering the range of years in North America."
   ]
  }
 ],
 "metadata": {
  "kernelspec": {
   "display_name": "Python 3",
   "language": "python",
   "name": "python3"
  },
  "language_info": {
   "codemirror_mode": {
    "name": "ipython",
    "version": 3
   },
   "file_extension": ".py",
   "mimetype": "text/x-python",
   "name": "python",
   "nbconvert_exporter": "python",
   "pygments_lexer": "ipython3",
   "version": "3.8.8"
  }
 },
 "nbformat": 4,
 "nbformat_minor": 5
}
