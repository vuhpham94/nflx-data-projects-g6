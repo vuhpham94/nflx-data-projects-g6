{
 "cells": [
  {
   "cell_type": "code",
   "execution_count": null,
   "id": "c6de2886",
   "metadata": {},
   "outputs": [],
   "source": [
    "import numpy as np\n",
    "import pandas as pd\n",
    "import plotly.graph_objects as go\n",
    "import plotly.express as px\n",
    "import matplotlib.pyplot as plt"
   ]
  },
  {
   "cell_type": "code",
   "execution_count": null,
   "id": "cf4ab5f9",
   "metadata": {},
   "outputs": [],
   "source": [
    "%store -r clean_df all_clean_df\n",
    "clean_df =clean_df.drop(columns = [\"AgeInterval\",\"Type\",\"Access\"])\n",
    "clean_df[\"Age\"] = clean_df[\"Age\"].astype('int64')\n",
    "clean_df.info()"
   ]
  },
  {
   "cell_type": "code",
   "execution_count": null,
   "id": "d9ca676b",
   "metadata": {},
   "outputs": [],
   "source": [
    "clean_df.corr()"
   ]
  },
  {
   "cell_type": "code",
   "execution_count": null,
   "id": "facbb89a",
   "metadata": {},
   "outputs": [],
   "source": [
    "sample_df = clean_df.sample(frac = 0.01) \n",
    "sample_df.head()"
   ]
  },
  {
   "cell_type": "code",
   "execution_count": null,
   "id": "9b1624f2",
   "metadata": {},
   "outputs": [],
   "source": [
    "px.histogram(clean_df, x='PopCode', y='Deaths')"
   ]
  },
  {
   "cell_type": "code",
   "execution_count": null,
   "id": "92a823a7",
   "metadata": {},
   "outputs": [],
   "source": [
    "px.histogram(clean_df,\"Year\",\"Deaths\")"
   ]
  },
  {
   "cell_type": "code",
   "execution_count": null,
   "id": "73fbc3c4",
   "metadata": {},
   "outputs": [],
   "source": [
    "px.histogram(clean_df,\"Age\",\"Deaths\")"
   ]
  },
  {
   "cell_type": "code",
   "execution_count": null,
   "id": "9d8791ae",
   "metadata": {},
   "outputs": [],
   "source": [
    "d_by_country = sample_df.groupby(by='PopCode')['Deaths'].sum()\n",
    "d_by_country.head()"
   ]
  },
  {
   "cell_type": "code",
   "execution_count": null,
   "id": "282fb9f3",
   "metadata": {},
   "outputs": [],
   "source": [
    "d_by_age = sample_df.groupby(by='Age')['Deaths'].sum()\n",
    "d_by_age.head()"
   ]
  },
  {
   "cell_type": "code",
   "execution_count": null,
   "id": "faab4131",
   "metadata": {},
   "outputs": [],
   "source": [
    "list_of_year = sample_df[\"Year\"].unique()\n",
    "fig, axs =plt.subplots(len(list_of_year))\n",
    "count = 0\n",
    "for yr in list_of_year:\n",
    "    s_df=sample_df.loc[sample_df[\"Year\"] == yr]\n",
    "    x = s_df[\"PopCode\"]\n",
    "    y = s_df[\"Deaths\"]\n",
    "    axs[count].bar(x,y)\n",
    "    axs[count].set_xlabel(\"PopCode\")\n",
    "    axs[count].set_ylabel(\"Death\")\n",
    "    axs[count].set_title(yr)\n",
    "    count +=1\n",
    "plt.subplots_adjust(top=15,right=2.5,hspace=2)"
   ]
  },
  {
   "cell_type": "code",
   "execution_count": null,
   "id": "d069da55",
   "metadata": {},
   "outputs": [],
   "source": [
    "list_of_year = sample_df[\"PopCode\"].unique()\n",
    "fig, axs =plt.subplots(len(list_of_year))\n",
    "count = 0\n",
    "for yr in list_of_year:\n",
    "    s_df=sample_df.loc[sample_df[\"PopCode\"] == yr ]\n",
    "    x = s_df[\"Year\"]\n",
    "    y = s_df[\"Deaths\"]\n",
    "    axs[count].bar(x,y)\n",
    "    axs[count].set_xlabel(\"Year\")\n",
    "    axs[count].set_ylabel(\"Death\")\n",
    "    axs[count].set_title(yr)\n",
    "    count +=1\n",
    "plt.subplots_adjust(top=15,right=2.5,hspace=2)"
   ]
  },
  {
   "cell_type": "code",
   "execution_count": null,
   "id": "a0ea7879",
   "metadata": {},
   "outputs": [],
   "source": [
    "list_of_year = sample_df[\"continent\"].unique()\n",
    "fig, axs =plt.subplots(len(list_of_year))\n",
    "count = 0\n",
    "for yr in list_of_year:\n",
    "    s_df=sample_df.loc[sample_df[\"continent\"] == yr ]\n",
    "    x = s_df[\"Year\"]\n",
    "    y = s_df[\"Deaths\"]\n",
    "    axs[count].bar(x,y)\n",
    "    axs[count].set_xlabel(\"Year\")\n",
    "    axs[count].set_ylabel(\"Death\")\n",
    "    axs[count].set_title(yr)\n",
    "    count +=1\n",
    "plt.subplots_adjust(top=15,right=2.5,hspace=2)"
   ]
  },
  {
   "cell_type": "code",
   "execution_count": null,
   "id": "271b1e5c",
   "metadata": {},
   "outputs": [],
   "source": [
    "px.histogram(sample_df,\"Sex\",\"Deaths\")"
   ]
  },
  {
   "cell_type": "code",
   "execution_count": null,
   "id": "cebc2bd4",
   "metadata": {},
   "outputs": [],
   "source": []
  }
 ],
 "metadata": {
  "kernelspec": {
   "display_name": "Python 3",
   "language": "python",
   "name": "python3"
  },
  "language_info": {
   "codemirror_mode": {
    "name": "ipython",
    "version": 3
   },
   "file_extension": ".py",
   "mimetype": "text/x-python",
   "name": "python",
   "nbconvert_exporter": "python",
   "pygments_lexer": "ipython3",
   "version": "3.8.8"
  }
 },
 "nbformat": 4,
 "nbformat_minor": 5
}
