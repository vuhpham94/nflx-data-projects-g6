{
 "cells": [
  {
   "cell_type": "code",
   "execution_count": null,
   "id": "c6de2886",
   "metadata": {},
   "outputs": [],
   "source": [
    "import numpy as np\n",
    "import pandas as pd\n",
    "import plotly.graph_objects as go\n",
    "import plotly.express as px"
   ]
  },
  {
   "cell_type": "code",
   "execution_count": null,
   "id": "cf4ab5f9",
   "metadata": {},
   "outputs": [],
   "source": [
    "%store -r clean_df all_clean_df"
   ]
  },
  {
   "cell_type": "code",
   "execution_count": null,
   "id": "ef50a845",
   "metadata": {},
   "outputs": [],
   "source": [
    "both_clean_df = clean_df[clean_df['Sex'] == 'b'].reset_index(drop=True)\n",
    "both_clean_df.head()"
   ]
  },
  {
   "cell_type": "code",
   "execution_count": null,
   "id": "9b1624f2",
   "metadata": {},
   "outputs": [],
   "source": [
    "px.histogram(both_clean_df, x='PopCode', y='Deaths')"
   ]
  },
  {
   "cell_type": "code",
   "execution_count": null,
   "id": "9d8791ae",
   "metadata": {},
   "outputs": [],
   "source": [
    "d_by_country = year_df.groupby(by='PopCode')['Deaths'].sum()\n",
    "d_by_country.head()"
   ]
  },
  {
   "cell_type": "code",
   "execution_count": null,
   "id": "282fb9f3",
   "metadata": {},
   "outputs": [],
   "source": []
  }
 ],
 "metadata": {
  "kernelspec": {
   "display_name": "Python 3",
   "language": "python",
   "name": "python3"
  },
  "language_info": {
   "codemirror_mode": {
    "name": "ipython",
    "version": 3
   },
   "file_extension": ".py",
   "mimetype": "text/x-python",
   "name": "python",
   "nbconvert_exporter": "python",
   "pygments_lexer": "ipython3",
   "version": "3.8.8"
  }
 },
 "nbformat": 4,
 "nbformat_minor": 5
}
