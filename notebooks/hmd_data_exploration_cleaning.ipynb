{
 "cells": [
  {
   "cell_type": "code",
   "execution_count": null,
   "id": "839b7abd",
   "metadata": {
    "slideshow": {
     "slide_type": "skip"
    }
   },
   "outputs": [],
   "source": [
    "# import dependencies\n",
    "from IPython.display import Image\n",
    "import pandas as pd\n",
    "import numpy as np\n",
    "import os\n",
    "import glob\n",
    "import pycountry_convert as pc"
   ]
  },
  {
   "cell_type": "markdown",
   "id": "4c3e4e64",
   "metadata": {
    "slideshow": {
     "slide_type": "slide"
    }
   },
   "source": [
    "# Netflix Applied Data Science - Project 1\n",
    "## Part 1: Dataset selection and data exploration\n",
    "### Group 6 - Vu, Alex, Kwabena\n"
   ]
  },
  {
   "cell_type": "markdown",
   "id": "57b9b9de",
   "metadata": {
    "slideshow": {
     "slide_type": "slide"
    }
   },
   "source": [
    "### Short-term Mortality Fluctuations (STMF) data series.\n",
    "Available at <b>Human Mortality Database (HMD)</b> https://www.mortality.org/\n",
    "<p>STMF input dataset provides weekly death counts for 38 countries: Austria, Australia, Belgium, Bulgaria, Chile, Canada, Croatia, Czech Republic, Denmark, England and Wales, Estonia, Finland, France, Germany, Greece, Hungary, Iceland, Israel, Italy, Latvia, Lithuania, Luxembourg, Netherlands, New Zealand, Northern Ireland, Norway, Poland, Portugal, Republic of Korea, Russia, Scotland, Slovenia, Slovakia, Spain, Sweden, Switzerland, Taiwan and the USA.</p>"
   ]
  },
  {
   "cell_type": "code",
   "execution_count": null,
   "id": "20febe57",
   "metadata": {
    "slideshow": {
     "slide_type": "slide"
    }
   },
   "outputs": [],
   "source": [
    "Image(\"../resources/images/smtf_viz_tool.png\")"
   ]
  },
  {
   "cell_type": "markdown",
   "id": "b3e53e9b",
   "metadata": {
    "slideshow": {
     "slide_type": "slide"
    }
   },
   "source": [
    "### Example of USA SMTF input CSV file"
   ]
  },
  {
   "cell_type": "code",
   "execution_count": null,
   "id": "f84fbc13",
   "metadata": {
    "slideshow": {
     "slide_type": "fragment"
    }
   },
   "outputs": [],
   "source": [
    "stmf_df = pd.read_csv('../resources/dataset/STMFinput/USAstmf.csv')\n",
    "stmf_df.head()"
   ]
  },
  {
   "cell_type": "code",
   "execution_count": null,
   "id": "e642fb6b",
   "metadata": {
    "slideshow": {
     "slide_type": "skip"
    }
   },
   "outputs": [],
   "source": [
    "def alpha3_to_continent(alpha3):\n",
    "    alpha2 = pc.country_alpha3_to_country_alpha2(alpha3)\n",
    "    cont_code = pc.country_alpha2_to_continent_code(alpha2)\n",
    "    return pc.convert_continent_code_to_continent_name(cont_code)"
   ]
  },
  {
   "cell_type": "markdown",
   "id": "89446f67",
   "metadata": {
    "slideshow": {
     "slide_type": "slide"
    }
   },
   "source": [
    "Import data from countries and merge them into single dataframe "
   ]
  },
  {
   "cell_type": "code",
   "execution_count": null,
   "id": "d7941b6d",
   "metadata": {
    "slideshow": {
     "slide_type": "fragment"
    }
   },
   "outputs": [],
   "source": [
    "# read and merge all the CSV dataset in STMFinput/\n",
    "path = '../resources/dataset/STMFinput'\n",
    "all_files = glob.glob(os.path.join(path, \"*.csv\"))\n",
    "df = pd.concat([pd.read_csv(f, low_memory=False) for f in all_files], ignore_index=True)\n",
    "df.info()"
   ]
  },
  {
   "cell_type": "markdown",
   "id": "38160c20",
   "metadata": {
    "slideshow": {
     "slide_type": "slide"
    }
   },
   "source": [
    "### Dataset cleaning\n",
    "+ Correct mismatch input columns of CSV files\n",
    "+ Convert Deaths column to 64-bit integer\n",
    "+ Add iso_alpha3 and continent columns\n",
    "+ Drop unnecessary rows (TOT and UNK in Age column)\n",
    "+ Split dataframe into two, one with gender difference, and other with combination of gender."
   ]
  },
  {
   "cell_type": "code",
   "execution_count": null,
   "id": "5d55d776",
   "metadata": {
    "slideshow": {
     "slide_type": "fragment"
    }
   },
   "outputs": [],
   "source": [
    "df['PopCode'] = df['PopCode'].replace(['a'], 'NOR')\n",
    "df['iso_alpha3'] = df['PopCode'].apply(lambda x: x[:3])\n",
    "df['continent'] = df['iso_alpha3'].apply(alpha3_to_continent)\n",
    "df['Deaths'] = df['Deaths'].replace(['.'], '0')\n",
    "df['Deaths'] = df['Deaths'].astype('int64')\n",
    "clean_df = df[(df['Age']!='TOT') & (df['Age']!='UNK')]\n",
    "all_clean_df = clean_df[clean_df['Sex']=='b'].reset_index(drop=True)\n",
    "clean_df = clean_df[clean_df['Sex']!='b'].reset_index(drop=True)"
   ]
  },
  {
   "cell_type": "markdown",
   "id": "8cd06ed2",
   "metadata": {
    "slideshow": {
     "slide_type": "slide"
    }
   },
   "source": [
    "<b>clean_df</b> includes <b>12 columns</b> and <b>1,254,796 rows</b> after cleaning."
   ]
  },
  {
   "cell_type": "code",
   "execution_count": null,
   "id": "e6400b67",
   "metadata": {
    "slideshow": {
     "slide_type": "fragment"
    }
   },
   "outputs": [],
   "source": [
    "print(clean_df.info())"
   ]
  },
  {
   "cell_type": "code",
   "execution_count": null,
   "id": "a0c2f3d6",
   "metadata": {
    "slideshow": {
     "slide_type": "skip"
    }
   },
   "outputs": [],
   "source": [
    "print(clean_df.describe())"
   ]
  },
  {
   "cell_type": "code",
   "execution_count": null,
   "id": "42da1724",
   "metadata": {
    "slideshow": {
     "slide_type": "subslide"
    }
   },
   "outputs": [],
   "source": [
    "clean_df.head(15)"
   ]
  },
  {
   "cell_type": "markdown",
   "id": "0c081cc3",
   "metadata": {
    "slideshow": {
     "slide_type": "slide"
    }
   },
   "source": [
    "<b>all_clean_df</b> includes <b>12 columns</b> and <b>626,773 rows</b> after cleaning."
   ]
  },
  {
   "cell_type": "code",
   "execution_count": null,
   "id": "f4b02281",
   "metadata": {
    "slideshow": {
     "slide_type": "fragment"
    }
   },
   "outputs": [],
   "source": [
    "print(all_clean_df.info())"
   ]
  },
  {
   "cell_type": "code",
   "execution_count": null,
   "id": "5ad4e964",
   "metadata": {
    "slideshow": {
     "slide_type": "subslide"
    }
   },
   "outputs": [],
   "source": [
    "all_clean_df.head(15)"
   ]
  },
  {
   "cell_type": "markdown",
   "id": "d756472c",
   "metadata": {
    "slideshow": {
     "slide_type": "slide"
    }
   },
   "source": [
    "Store <b>clean_df</b> and <b>all_clean_df</b> variables to use in other Jupyter notebooks"
   ]
  },
  {
   "cell_type": "code",
   "execution_count": null,
   "id": "5689ecf8",
   "metadata": {
    "slideshow": {
     "slide_type": "fragment"
    }
   },
   "outputs": [],
   "source": [
    "%store clean_df all_clean_df"
   ]
  }
 ],
 "metadata": {
  "celltoolbar": "Slideshow",
  "kernelspec": {
   "display_name": "Python 3",
   "language": "python",
   "name": "python3"
  },
  "language_info": {
   "codemirror_mode": {
    "name": "ipython",
    "version": 3
   },
   "file_extension": ".py",
   "mimetype": "text/x-python",
   "name": "python",
   "nbconvert_exporter": "python",
   "pygments_lexer": "ipython3",
   "version": "3.8.8"
  }
 },
 "nbformat": 4,
 "nbformat_minor": 5
}
