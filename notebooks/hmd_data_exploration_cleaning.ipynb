{
 "cells": [
  {
   "cell_type": "code",
   "execution_count": 1,
   "id": "839b7abd",
   "metadata": {},
   "outputs": [],
   "source": [
    "import pandas as pd"
   ]
  },
  {
   "cell_type": "code",
   "execution_count": 6,
   "id": "f84fbc13",
   "metadata": {},
   "outputs": [
    {
     "name": "stdout",
     "output_type": "stream",
     "text": [
      "<class 'pandas.core.frame.DataFrame'>\n",
      "RangeIndex: 107211 entries, 0 to 107210\n",
      "Data columns (total 19 columns):\n",
      " #   Column       Non-Null Count   Dtype  \n",
      "---  ------       --------------   -----  \n",
      " 0   CountryCode  107211 non-null  object \n",
      " 1   Year         107211 non-null  int64  \n",
      " 2   Week         107211 non-null  int64  \n",
      " 3   Sex          107211 non-null  object \n",
      " 4   D0_14        107211 non-null  float64\n",
      " 5   D15_64       107211 non-null  float64\n",
      " 6   D65_74       107211 non-null  float64\n",
      " 7   D75_84       107211 non-null  float64\n",
      " 8   D85p         107211 non-null  float64\n",
      " 9   DTotal       107211 non-null  float64\n",
      " 10  R0_14        107211 non-null  float64\n",
      " 11  R15_64       107211 non-null  float64\n",
      " 12  R65_74       107211 non-null  float64\n",
      " 13  R75_84       107211 non-null  float64\n",
      " 14  R85p         107211 non-null  float64\n",
      " 15  RTotal       107211 non-null  float64\n",
      " 16  Split        107211 non-null  int64  \n",
      " 17  SplitSex     107211 non-null  int64  \n",
      " 18  Forecast     107211 non-null  int64  \n",
      "dtypes: float64(12), int64(5), object(2)\n",
      "memory usage: 15.5+ MB\n"
     ]
    }
   ],
   "source": [
    "stmf_df = pd.read_csv('../resources/dataset/stmf.csv',header=1)\n",
    "stmf_df.info()"
   ]
  },
  {
   "cell_type": "code",
   "execution_count": 11,
   "id": "8725b799",
   "metadata": {},
   "outputs": [
    {
     "data": {
      "text/html": [
       "<div>\n",
       "<style scoped>\n",
       "    .dataframe tbody tr th:only-of-type {\n",
       "        vertical-align: middle;\n",
       "    }\n",
       "\n",
       "    .dataframe tbody tr th {\n",
       "        vertical-align: top;\n",
       "    }\n",
       "\n",
       "    .dataframe thead th {\n",
       "        text-align: right;\n",
       "    }\n",
       "</style>\n",
       "<table border=\"1\" class=\"dataframe\">\n",
       "  <thead>\n",
       "    <tr style=\"text-align: right;\">\n",
       "      <th></th>\n",
       "      <th>Area</th>\n",
       "      <th>Year</th>\n",
       "      <th>Week</th>\n",
       "      <th>Deaths</th>\n",
       "    </tr>\n",
       "  </thead>\n",
       "  <tbody>\n",
       "    <tr>\n",
       "      <th>count</th>\n",
       "      <td>6102.0</td>\n",
       "      <td>6102.000000</td>\n",
       "      <td>6102.000000</td>\n",
       "      <td>6102.000000</td>\n",
       "    </tr>\n",
       "    <tr>\n",
       "      <th>mean</th>\n",
       "      <td>1.0</td>\n",
       "      <td>2017.758112</td>\n",
       "      <td>25.660767</td>\n",
       "      <td>602.016060</td>\n",
       "    </tr>\n",
       "    <tr>\n",
       "      <th>std</th>\n",
       "      <td>0.0</td>\n",
       "      <td>1.886423</td>\n",
       "      <td>15.101687</td>\n",
       "      <td>666.252286</td>\n",
       "    </tr>\n",
       "    <tr>\n",
       "      <th>min</th>\n",
       "      <td>1.0</td>\n",
       "      <td>2015.000000</td>\n",
       "      <td>1.000000</td>\n",
       "      <td>13.000000</td>\n",
       "    </tr>\n",
       "    <tr>\n",
       "      <th>25%</th>\n",
       "      <td>1.0</td>\n",
       "      <td>2016.000000</td>\n",
       "      <td>13.000000</td>\n",
       "      <td>159.000000</td>\n",
       "    </tr>\n",
       "    <tr>\n",
       "      <th>50%</th>\n",
       "      <td>1.0</td>\n",
       "      <td>2018.000000</td>\n",
       "      <td>25.000000</td>\n",
       "      <td>366.000000</td>\n",
       "    </tr>\n",
       "    <tr>\n",
       "      <th>75%</th>\n",
       "      <td>1.0</td>\n",
       "      <td>2019.000000</td>\n",
       "      <td>39.000000</td>\n",
       "      <td>774.000000</td>\n",
       "    </tr>\n",
       "    <tr>\n",
       "      <th>max</th>\n",
       "      <td>1.0</td>\n",
       "      <td>2021.000000</td>\n",
       "      <td>53.000000</td>\n",
       "      <td>3369.000000</td>\n",
       "    </tr>\n",
       "  </tbody>\n",
       "</table>\n",
       "</div>"
      ],
      "text/plain": [
       "         Area         Year         Week       Deaths\n",
       "count  6102.0  6102.000000  6102.000000  6102.000000\n",
       "mean      1.0  2017.758112    25.660767   602.016060\n",
       "std       0.0     1.886423    15.101687   666.252286\n",
       "min       1.0  2015.000000     1.000000    13.000000\n",
       "25%       1.0  2016.000000    13.000000   159.000000\n",
       "50%       1.0  2018.000000    25.000000   366.000000\n",
       "75%       1.0  2019.000000    39.000000   774.000000\n",
       "max       1.0  2021.000000    53.000000  3369.000000"
      ]
     },
     "execution_count": 11,
     "metadata": {},
     "output_type": "execute_result"
    }
   ],
   "source": [
    "aus_df = pd.read_csv('../resources/dataset/STMFinput/AUS2stmf.csv')#,header=1)\n",
    "aus_df.describe()"
   ]
  },
  {
   "cell_type": "code",
   "execution_count": null,
   "id": "d7941b6d",
   "metadata": {},
   "outputs": [],
   "source": []
  }
 ],
 "metadata": {
  "kernelspec": {
   "display_name": "Python 3",
   "language": "python",
   "name": "python3"
  },
  "language_info": {
   "codemirror_mode": {
    "name": "ipython",
    "version": 3
   },
   "file_extension": ".py",
   "mimetype": "text/x-python",
   "name": "python",
   "nbconvert_exporter": "python",
   "pygments_lexer": "ipython3",
   "version": "3.8.8"
  }
 },
 "nbformat": 4,
 "nbformat_minor": 5
}
