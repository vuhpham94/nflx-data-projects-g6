{
 "cells": [
  {
   "cell_type": "code",
   "execution_count": null,
   "id": "839b7abd",
   "metadata": {},
   "outputs": [],
   "source": [
    "import pandas as pd\n",
    "import numpy as np\n",
    "import os\n",
    "import glob"
   ]
  },
  {
   "cell_type": "code",
   "execution_count": null,
   "id": "fa31dc5b",
   "metadata": {},
   "outputs": [],
   "source": []
  },
  {
   "cell_type": "code",
   "execution_count": null,
   "id": "f84fbc13",
   "metadata": {},
   "outputs": [],
   "source": [
    "# stmf_df = pd.read_csv('../resources/dataset/stmf.csv',header=1)\n",
    "# stmf_df.info()"
   ]
  },
  {
   "cell_type": "code",
   "execution_count": null,
   "id": "d7941b6d",
   "metadata": {},
   "outputs": [],
   "source": [
    "# read and merge all the CSV dataset in STMFinput/\n",
    "path = '../resources/dataset/STMFinput'\n",
    "all_files = glob.glob(os.path.join(path, \"*.csv\"))\n",
    "\n",
    "df = pd.concat([pd.read_csv(f) for f in all_files], ignore_index=True)"
   ]
  },
  {
   "cell_type": "code",
   "execution_count": null,
   "id": "5d55d776",
   "metadata": {},
   "outputs": [],
   "source": [
    "clean_df = df[(df['Age']!='TOT') & (df['Age']!='UNK')].reset_index()\n",
    "print(clean_df.info())\n",
    "clean_df.head(20)"
   ]
  },
  {
   "cell_type": "code",
   "execution_count": null,
   "id": "b94297e6",
   "metadata": {},
   "outputs": [],
   "source": [
    "# graph \"Year\" Versus \"Deaths\"---Try line chart\n",
    "group_1 = clean_df.groupby(\"Year\")[\"Deaths\"].sum()\n",
    "print(group_1)\n",
    "#plot_up = px.line(group_1, x = 'Year', y = '#the name from the groupby')"
   ]
  },
  {
   "cell_type": "code",
   "execution_count": null,
   "id": "920c0964",
   "metadata": {},
   "outputs": [],
   "source": [
    "# graph \"PopCode\" Versus \"Deaths\" --- Try Histogram"
   ]
  },
  {
   "cell_type": "code",
   "execution_count": null,
   "id": "fd0c1e38",
   "metadata": {},
   "outputs": [],
   "source": [
    "clean_df[\"PopCode\"].unique()"
   ]
  },
  {
   "cell_type": "code",
   "execution_count": null,
   "id": "7ac1dc09",
   "metadata": {},
   "outputs": [],
   "source": [
    "grouped_df = clean_df.groupby(\"PopCode\")[\"Deaths\"].sum()"
   ]
  },
  {
   "cell_type": "code",
   "execution_count": null,
   "id": "85a7ad76",
   "metadata": {},
   "outputs": [],
   "source": [
    "sorted_df = group_df.sort_values(ascending=False)"
   ]
  },
  {
   "cell_type": "code",
   "execution_count": null,
   "id": "2003ac71",
   "metadata": {},
   "outputs": [],
   "source": [
    "first_five = sorted_df.loc[:5]"
   ]
  },
  {
   "cell_type": "code",
   "execution_count": null,
   "id": "d48b2125",
   "metadata": {},
   "outputs": [],
   "source": [
    "plotting = px.histogram(first_five)"
   ]
  }
 ],
 "metadata": {
  "kernelspec": {
   "display_name": "Python 3",
   "language": "python",
   "name": "python3"
  },
  "language_info": {
   "codemirror_mode": {
    "name": "ipython",
    "version": 3
   },
   "file_extension": ".py",
   "mimetype": "text/x-python",
   "name": "python",
   "nbconvert_exporter": "python",
   "pygments_lexer": "ipython3",
   "version": "3.8.8"
  }
 },
 "nbformat": 4,
 "nbformat_minor": 5
}
