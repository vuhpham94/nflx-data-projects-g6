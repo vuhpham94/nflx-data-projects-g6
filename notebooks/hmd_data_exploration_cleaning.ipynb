{
 "cells": [
  {
   "cell_type": "code",
   "execution_count": 1,
   "id": "839b7abd",
   "metadata": {},
   "outputs": [],
   "source": [
    "import pandas as pd\n",
    "import numpy as np\n",
    "import plotly.express as px\n",
    "import os\n",
    "import glob"
   ]
  },
  {
   "cell_type": "code",
   "execution_count": null,
   "id": "f84fbc13",
   "metadata": {},
   "outputs": [],
   "source": [
    "# stmf_df = pd.read_csv('../resources/dataset/stmf.csv',header=1)\n",
    "# stmf_df.info()"
   ]
  },
  {
   "cell_type": "code",
   "execution_count": 2,
   "id": "d7941b6d",
   "metadata": {},
   "outputs": [
    {
     "name": "stderr",
     "output_type": "stream",
     "text": [
      "C:\\Users\\NENEL\\anaconda3\\lib\\site-packages\\IPython\\core\\interactiveshell.py:3357: DtypeWarning: Columns (3) have mixed types.Specify dtype option on import or set low_memory=False.\n",
      "  if (await self.run_code(code, result,  async_=asy)):\n",
      "C:\\Users\\NENEL\\anaconda3\\lib\\site-packages\\IPython\\core\\interactiveshell.py:3357: DtypeWarning: Columns (7) have mixed types.Specify dtype option on import or set low_memory=False.\n",
      "  if (await self.run_code(code, result,  async_=asy)):\n"
     ]
    }
   ],
   "source": [
    "# read and merge all the CSV dataset in STMFinput/\n",
    "path = '../resources/dataset/STMFinput'\n",
    "all_files = glob.glob(os.path.join(path, \"*.csv\"))\n",
    "\n",
    "df = pd.concat([pd.read_csv(f) for f in all_files], ignore_index=True)"
   ]
  },
  {
   "cell_type": "code",
   "execution_count": 10,
   "id": "5d55d776",
   "metadata": {},
   "outputs": [
    {
     "name": "stderr",
     "output_type": "stream",
     "text": [
      "<ipython-input-10-4d6be5166766>:1: SettingWithCopyWarning: \n",
      "A value is trying to be set on a copy of a slice from a DataFrame.\n",
      "Try using .loc[row_indexer,col_indexer] = value instead\n",
      "\n",
      "See the caveats in the documentation: https://pandas.pydata.org/pandas-docs/stable/user_guide/indexing.html#returning-a-view-versus-a-copy\n",
      "  df[df['PopCode'] == 'a']['PopCode'] = 'NOR'\n"
     ]
    }
   ],
   "source": [
    "df[df['PopCode'] == 'a']['PopCode'] = 'NOR'\n",
    "clean_df = df[(df['Age']!='TOT') & (df['Age']!='UNK')].reset_index()\n",
    "# print(clean_df.info())\n",
    "# clean_df.head(20)"
   ]
  },
  {
   "cell_type": "code",
   "execution_count": null,
   "id": "b94297e6",
   "metadata": {},
   "outputs": [],
   "source": [
    "clean_df[clean_df['Deaths']=='.']"
   ]
  },
  {
   "cell_type": "code",
   "execution_count": null,
   "id": "a85add7c",
   "metadata": {},
   "outputs": [],
   "source": [
    "clean_df['PopCode'].unique()"
   ]
  },
  {
   "cell_type": "code",
   "execution_count": null,
   "id": "1e8b7ff9",
   "metadata": {},
   "outputs": [],
   "source": [
    "clean_df[clean_df['PopCode'] == 'a']"
   ]
  },
  {
   "cell_type": "code",
   "execution_count": 3,
   "id": "01f25790",
   "metadata": {},
   "outputs": [
    {
     "data": {
      "text/html": [
       "<div>\n",
       "<style scoped>\n",
       "    .dataframe tbody tr th:only-of-type {\n",
       "        vertical-align: middle;\n",
       "    }\n",
       "\n",
       "    .dataframe tbody tr th {\n",
       "        vertical-align: top;\n",
       "    }\n",
       "\n",
       "    .dataframe thead th {\n",
       "        text-align: right;\n",
       "    }\n",
       "</style>\n",
       "<table border=\"1\" class=\"dataframe\">\n",
       "  <thead>\n",
       "    <tr style=\"text-align: right;\">\n",
       "      <th></th>\n",
       "      <th>PopCode</th>\n",
       "      <th>Area</th>\n",
       "      <th>Year</th>\n",
       "      <th>Week</th>\n",
       "      <th>Sex</th>\n",
       "      <th>Age</th>\n",
       "      <th>AgeInterval</th>\n",
       "      <th>Deaths</th>\n",
       "      <th>Type</th>\n",
       "      <th>Access</th>\n",
       "    </tr>\n",
       "  </thead>\n",
       "  <tbody>\n",
       "    <tr>\n",
       "      <th>1544227</th>\n",
       "      <td>a</td>\n",
       "      <td>1</td>\n",
       "      <td>2021</td>\n",
       "      <td>18</td>\n",
       "      <td>b</td>\n",
       "      <td>90</td>\n",
       "      <td>5</td>\n",
       "      <td>117</td>\n",
       "      <td>O</td>\n",
       "      <td>O</td>\n",
       "    </tr>\n",
       "  </tbody>\n",
       "</table>\n",
       "</div>"
      ],
      "text/plain": [
       "        PopCode  Area  Year Week Sex Age AgeInterval Deaths Type Access\n",
       "1544227       a     1  2021   18   b  90           5    117    O      O"
      ]
     },
     "execution_count": 3,
     "metadata": {},
     "output_type": "execute_result"
    }
   ],
   "source": [
    "df[df['PopCode'] == 'a']"
   ]
  },
  {
   "cell_type": "code",
   "execution_count": 13,
   "id": "286d8c17",
   "metadata": {},
   "outputs": [
    {
     "data": {
      "text/plain": [
       "PopCode           a\n",
       "Area              1\n",
       "Year           2021\n",
       "Week             18\n",
       "Sex               b\n",
       "Age              90\n",
       "AgeInterval       5\n",
       "Deaths          117\n",
       "Type              O\n",
       "Access            O\n",
       "Name: 1544227, dtype: object"
      ]
     },
     "execution_count": 13,
     "metadata": {},
     "output_type": "execute_result"
    }
   ],
   "source": [
    "df.iloc[1544227]"
   ]
  },
  {
   "cell_type": "code",
   "execution_count": 12,
   "id": "687b3728",
   "metadata": {},
   "outputs": [
    {
     "ename": "TypeError",
     "evalue": "'RangeIndex' object is not callable",
     "output_type": "error",
     "traceback": [
      "\u001b[1;31m---------------------------------------------------------------------------\u001b[0m",
      "\u001b[1;31mTypeError\u001b[0m                                 Traceback (most recent call last)",
      "\u001b[1;32m<ipython-input-12-4249810cec96>\u001b[0m in \u001b[0;36m<module>\u001b[1;34m\u001b[0m\n\u001b[1;32m----> 1\u001b[1;33m \u001b[0mdf\u001b[0m\u001b[1;33m.\u001b[0m\u001b[0mindex\u001b[0m\u001b[1;33m(\u001b[0m\u001b[0mdf\u001b[0m\u001b[1;33m[\u001b[0m\u001b[1;34m'PopCode'\u001b[0m\u001b[1;33m]\u001b[0m \u001b[1;33m==\u001b[0m \u001b[1;34m'a'\u001b[0m\u001b[1;33m)\u001b[0m\u001b[1;33m\u001b[0m\u001b[1;33m\u001b[0m\u001b[0m\n\u001b[0m",
      "\u001b[1;31mTypeError\u001b[0m: 'RangeIndex' object is not callable"
     ]
    }
   ],
   "source": [
    "df.index(df['PopCode'] == 'a')"
   ]
  },
  {
   "cell_type": "code",
   "execution_count": null,
   "id": "f0d6ea6c",
   "metadata": {},
   "outputs": [],
   "source": []
  }
 ],
 "metadata": {
  "kernelspec": {
   "display_name": "Python 3",
   "language": "python",
   "name": "python3"
  },
  "language_info": {
   "codemirror_mode": {
    "name": "ipython",
    "version": 3
   },
   "file_extension": ".py",
   "mimetype": "text/x-python",
   "name": "python",
   "nbconvert_exporter": "python",
   "pygments_lexer": "ipython3",
   "version": "3.8.8"
  }
 },
 "nbformat": 4,
 "nbformat_minor": 5
}
