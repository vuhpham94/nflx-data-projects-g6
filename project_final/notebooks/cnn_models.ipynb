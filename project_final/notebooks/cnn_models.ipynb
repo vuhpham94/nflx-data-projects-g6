{
  "nbformat": 4,
  "nbformat_minor": 0,
  "metadata": {
    "colab": {
      "name": "cnn_models.ipynb",
      "provenance": [],
      "collapsed_sections": [],
      "toc_visible": true,
      "authorship_tag": "ABX9TyP9mbBet/ZXJZ2Th5xq3Wyk",
      "include_colab_link": true
    },
    "kernelspec": {
      "name": "python3",
      "display_name": "Python 3"
    },
    "language_info": {
      "name": "python"
    },
    "accelerator": "TPU"
  },
  "cells": [
    {
      "cell_type": "markdown",
      "metadata": {
        "id": "view-in-github",
        "colab_type": "text"
      },
      "source": [
        "<a href=\"https://colab.research.google.com/github/vuhpham94/nflx-data-projects-g6/blob/main/project_final/notebooks/cnn_models.ipynb\" target=\"_parent\"><img src=\"https://colab.research.google.com/assets/colab-badge.svg\" alt=\"Open In Colab\"/></a>"
      ]
    },
    {
      "cell_type": "markdown",
      "source": [
        "# Dependencies and connection"
      ],
      "metadata": {
        "id": "6OLxhZQME55l"
      }
    },
    {
      "cell_type": "code",
      "execution_count": 1,
      "metadata": {
        "id": "-ORUVsdvw3Hj",
        "colab": {
          "base_uri": "https://localhost:8080/"
        },
        "outputId": "6dbf1250-6435-4195-f7ed-b9c2cef764cb"
      },
      "outputs": [
        {
          "output_type": "stream",
          "name": "stdout",
          "text": [
            "Mounted at /content/drive\n"
          ]
        }
      ],
      "source": [
        "# gdrive connection\n",
        "from google.colab import drive\n",
        "drive.mount('/content/drive')"
      ]
    },
    {
      "cell_type": "code",
      "source": [
        "import cv2\n",
        "from tqdm import tqdm\n",
        "\n",
        "import os\n",
        "import pathlib\n",
        "import PIL\n",
        "\n",
        "import matplotlib.pyplot as plt\n",
        "import numpy as np\n",
        "import pandas as pd\n",
        "\n",
        "import tensorflow as tf\n",
        "from tensorflow import keras\n",
        "from tensorflow.keras import layers\n",
        "from tensorflow.keras.models import Sequential"
      ],
      "metadata": {
        "id": "JnOTDRYv4ajZ"
      },
      "execution_count": 2,
      "outputs": []
    },
    {
      "cell_type": "markdown",
      "source": [
        "# Load dataset"
      ],
      "metadata": {
        "id": "R7-QO4YtQsjv"
      }
    },
    {
      "cell_type": "code",
      "source": [
        "data_dir = '/content/drive/Shareddrives/FinalProject/yt_dataset'\n",
        "data_dir = pathlib.Path(data_dir)\n",
        "image_count = len(list(data_dir.glob('*/*.jpg')))\n",
        "print(image_count)"
      ],
      "metadata": {
        "id": "fAK7Cuk9FC6v",
        "colab": {
          "base_uri": "https://localhost:8080/"
        },
        "outputId": "e566366f-8d2f-444d-a556-4b6b84d73f94"
      },
      "execution_count": 3,
      "outputs": [
        {
          "output_type": "stream",
          "name": "stdout",
          "text": [
            "10614\n"
          ]
        }
      ]
    },
    {
      "cell_type": "code",
      "source": [
        "batch_size = 32\n",
        "img_height = 128\n",
        "img_width = 128"
      ],
      "metadata": {
        "id": "bX7BUteb-xPH"
      },
      "execution_count": 4,
      "outputs": []
    },
    {
      "cell_type": "markdown",
      "source": [
        "## Training set"
      ],
      "metadata": {
        "id": "csHyUCuGEBpc"
      }
    },
    {
      "cell_type": "code",
      "source": [
        "train_ds = tf.keras.utils.image_dataset_from_directory(\n",
        "  data_dir,\n",
        "  validation_split=0.2,\n",
        "  subset=\"training\",\n",
        "  seed=123,\n",
        "  image_size=(img_height, img_width),\n",
        "  batch_size=batch_size)"
      ],
      "metadata": {
        "id": "l_UZBM13Dj5v",
        "colab": {
          "base_uri": "https://localhost:8080/"
        },
        "outputId": "43f2789f-5cba-4304-d7ff-cc5872406f3c"
      },
      "execution_count": 15,
      "outputs": [
        {
          "output_type": "stream",
          "name": "stdout",
          "text": [
            "Found 10614 files belonging to 2 classes.\n",
            "Using 8492 files for training.\n"
          ]
        }
      ]
    },
    {
      "cell_type": "markdown",
      "source": [
        "## Validation set"
      ],
      "metadata": {
        "id": "JqqAnpQnEIIr"
      }
    },
    {
      "cell_type": "code",
      "source": [
        "val_ds = tf.keras.utils.image_dataset_from_directory(\n",
        "  data_dir,\n",
        "  validation_split=0.2,\n",
        "  subset=\"validation\",\n",
        "  seed=123,\n",
        "  image_size=(img_height, img_width),\n",
        "  batch_size=batch_size)"
      ],
      "metadata": {
        "id": "GG3AyqLWDqa2",
        "colab": {
          "base_uri": "https://localhost:8080/"
        },
        "outputId": "d112f8c2-8913-4bef-da96-7ccb03452410"
      },
      "execution_count": 16,
      "outputs": [
        {
          "output_type": "stream",
          "name": "stdout",
          "text": [
            "Found 10614 files belonging to 2 classes.\n",
            "Using 2122 files for validation.\n"
          ]
        }
      ]
    },
    {
      "cell_type": "markdown",
      "source": [
        "## Labels"
      ],
      "metadata": {
        "id": "PSjmY0w8EQFz"
      }
    },
    {
      "cell_type": "code",
      "source": [
        "class_names = train_ds.class_names\n",
        "print(class_names)"
      ],
      "metadata": {
        "id": "jNZwO7CCDtFH",
        "colab": {
          "base_uri": "https://localhost:8080/"
        },
        "outputId": "30adeea9-171c-46b3-d877-5c1c43214c2a"
      },
      "execution_count": 7,
      "outputs": [
        {
          "output_type": "stream",
          "name": "stdout",
          "text": [
            "['kid_friendly', 'not_kid_friendly']\n"
          ]
        }
      ]
    },
    {
      "cell_type": "code",
      "source": [
        "for image_batch, labels_batch in train_ds:\n",
        "  print(image_batch.shape)\n",
        "  print(labels_batch.shape)\n",
        "  break"
      ],
      "metadata": {
        "id": "1ETbCZ3RD2PP",
        "colab": {
          "base_uri": "https://localhost:8080/"
        },
        "outputId": "7f6a9a24-993f-4b10-cf35-1c7f3edb6b28"
      },
      "execution_count": 8,
      "outputs": [
        {
          "output_type": "stream",
          "name": "stdout",
          "text": [
            "(32, 128, 128, 3)\n",
            "(32,)\n"
          ]
        }
      ]
    },
    {
      "cell_type": "markdown",
      "source": [
        "# CNN Models"
      ],
      "metadata": {
        "id": "I-8EhQ2tFD6U"
      }
    },
    {
      "cell_type": "code",
      "source": [
        "AUTOTUNE = tf.data.AUTOTUNE\n",
        "\n",
        "train_ds = train_ds.cache().shuffle(1000).prefetch(buffer_size=AUTOTUNE)\n",
        "val_ds = val_ds.cache().prefetch(buffer_size=AUTOTUNE)"
      ],
      "metadata": {
        "id": "1U0CWYRuEDL3"
      },
      "execution_count": 17,
      "outputs": []
    },
    {
      "cell_type": "markdown",
      "source": [
        "## Outer model normalization (optional)"
      ],
      "metadata": {
        "id": "huu3lDtREVYD"
      }
    },
    {
      "cell_type": "code",
      "source": [
        "normalization_layer = layers.Rescaling(1./255)"
      ],
      "metadata": {
        "id": "jUEIvTVQED3f"
      },
      "execution_count": null,
      "outputs": []
    },
    {
      "cell_type": "code",
      "source": [
        "normalized_ds = train_ds.map(lambda x, y: (normalization_layer(x), y))\n",
        "image_batch, labels_batch = next(iter(normalized_ds))\n",
        "first_image = image_batch[0]"
      ],
      "metadata": {
        "id": "DXzeRqV1EMqX"
      },
      "execution_count": null,
      "outputs": []
    },
    {
      "cell_type": "markdown",
      "source": [
        "## CNN model"
      ],
      "metadata": {
        "id": "1nKXwj7zEb9M"
      }
    },
    {
      "cell_type": "code",
      "source": [
        "num_classes = len(class_names)\n",
        "\n",
        "model = Sequential([\n",
        "  layers.Rescaling(1./255, input_shape=(img_height, img_width, 3)),\n",
        "  layers.Conv2D(16, 3, padding='same', activation='relu'),\n",
        "  layers.MaxPooling2D(),\n",
        "  layers.Conv2D(32, 3, padding='same', activation='relu'),\n",
        "  layers.MaxPooling2D(),\n",
        "  layers.Conv2D(64, 3, padding='same', activation='relu'),\n",
        "  layers.MaxPooling2D(),\n",
        "  layers.Flatten(),\n",
        "  layers.Dense(128, activation='relu'),\n",
        "  layers.Dense(num_classes)\n",
        "])"
      ],
      "metadata": {
        "id": "5P1re1toESu_"
      },
      "execution_count": 18,
      "outputs": []
    },
    {
      "cell_type": "code",
      "source": [
        "model.compile(optimizer='adam',\n",
        "              loss=tf.keras.losses.SparseCategoricalCrossentropy(from_logits=True),\n",
        "              metrics=['accuracy'])"
      ],
      "metadata": {
        "id": "5KCugKV6EYxe"
      },
      "execution_count": 19,
      "outputs": []
    },
    {
      "cell_type": "code",
      "source": [
        "model.summary()"
      ],
      "metadata": {
        "id": "_7mlPWoAEc9m",
        "colab": {
          "base_uri": "https://localhost:8080/"
        },
        "outputId": "398d6c16-7739-48dc-d55a-c300e178329c"
      },
      "execution_count": 20,
      "outputs": [
        {
          "output_type": "stream",
          "name": "stdout",
          "text": [
            "Model: \"sequential_1\"\n",
            "_________________________________________________________________\n",
            " Layer (type)                Output Shape              Param #   \n",
            "=================================================================\n",
            " rescaling_1 (Rescaling)     (None, 128, 128, 3)       0         \n",
            "                                                                 \n",
            " conv2d_3 (Conv2D)           (None, 128, 128, 16)      448       \n",
            "                                                                 \n",
            " max_pooling2d_3 (MaxPooling  (None, 64, 64, 16)       0         \n",
            " 2D)                                                             \n",
            "                                                                 \n",
            " conv2d_4 (Conv2D)           (None, 64, 64, 32)        4640      \n",
            "                                                                 \n",
            " max_pooling2d_4 (MaxPooling  (None, 32, 32, 32)       0         \n",
            " 2D)                                                             \n",
            "                                                                 \n",
            " conv2d_5 (Conv2D)           (None, 32, 32, 64)        18496     \n",
            "                                                                 \n",
            " max_pooling2d_5 (MaxPooling  (None, 16, 16, 64)       0         \n",
            " 2D)                                                             \n",
            "                                                                 \n",
            " flatten_1 (Flatten)         (None, 16384)             0         \n",
            "                                                                 \n",
            " dense_2 (Dense)             (None, 128)               2097280   \n",
            "                                                                 \n",
            " dense_3 (Dense)             (None, 2)                 258       \n",
            "                                                                 \n",
            "=================================================================\n",
            "Total params: 2,121,122\n",
            "Trainable params: 2,121,122\n",
            "Non-trainable params: 0\n",
            "_________________________________________________________________\n"
          ]
        }
      ]
    },
    {
      "cell_type": "code",
      "source": [
        "epochs=20\n",
        "history = model.fit(\n",
        "  train_ds,\n",
        "  validation_data=val_ds,\n",
        "  epochs=epochs\n",
        ")"
      ],
      "metadata": {
        "id": "rrSmpYrPEfLO",
        "colab": {
          "base_uri": "https://localhost:8080/"
        },
        "outputId": "4da275ef-2d3c-45b5-b543-c184cb7f47ac"
      },
      "execution_count": 21,
      "outputs": [
        {
          "output_type": "stream",
          "name": "stdout",
          "text": [
            "Epoch 1/20\n",
            "266/266 [==============================] - 161s 553ms/step - loss: 0.6416 - accuracy: 0.6182 - val_loss: 0.5397 - val_accuracy: 0.7234\n",
            "Epoch 2/20\n",
            "266/266 [==============================] - 135s 507ms/step - loss: 0.4959 - accuracy: 0.7447 - val_loss: 0.4646 - val_accuracy: 0.7615\n",
            "Epoch 3/20\n",
            "266/266 [==============================] - 135s 508ms/step - loss: 0.3871 - accuracy: 0.8159 - val_loss: 0.4385 - val_accuracy: 0.8030\n",
            "Epoch 4/20\n",
            "266/266 [==============================] - 135s 507ms/step - loss: 0.2942 - accuracy: 0.8642 - val_loss: 0.3987 - val_accuracy: 0.8190\n",
            "Epoch 5/20\n",
            "266/266 [==============================] - 135s 509ms/step - loss: 0.2125 - accuracy: 0.9071 - val_loss: 0.4356 - val_accuracy: 0.8313\n",
            "Epoch 6/20\n",
            "266/266 [==============================] - 135s 507ms/step - loss: 0.1524 - accuracy: 0.9399 - val_loss: 0.5567 - val_accuracy: 0.8087\n",
            "Epoch 7/20\n",
            "266/266 [==============================] - 135s 508ms/step - loss: 0.1215 - accuracy: 0.9496 - val_loss: 0.5712 - val_accuracy: 0.8077\n",
            "Epoch 8/20\n",
            "266/266 [==============================] - 135s 509ms/step - loss: 0.0831 - accuracy: 0.9651 - val_loss: 0.6114 - val_accuracy: 0.8351\n",
            "Epoch 9/20\n",
            "266/266 [==============================] - 135s 509ms/step - loss: 0.0837 - accuracy: 0.9642 - val_loss: 0.6662 - val_accuracy: 0.8167\n",
            "Epoch 10/20\n",
            "266/266 [==============================] - 134s 505ms/step - loss: 0.0900 - accuracy: 0.9668 - val_loss: 0.6359 - val_accuracy: 0.8303\n",
            "Epoch 11/20\n",
            "266/266 [==============================] - 135s 508ms/step - loss: 0.0494 - accuracy: 0.9783 - val_loss: 0.6962 - val_accuracy: 0.8360\n",
            "Epoch 12/20\n",
            "266/266 [==============================] - 136s 510ms/step - loss: 0.0565 - accuracy: 0.9773 - val_loss: 0.7520 - val_accuracy: 0.8261\n",
            "Epoch 13/20\n",
            "266/266 [==============================] - 135s 508ms/step - loss: 0.0543 - accuracy: 0.9782 - val_loss: 0.7963 - val_accuracy: 0.8228\n",
            "Epoch 14/20\n",
            "266/266 [==============================] - 135s 510ms/step - loss: 0.0433 - accuracy: 0.9800 - val_loss: 0.8644 - val_accuracy: 0.8341\n",
            "Epoch 15/20\n",
            "266/266 [==============================] - 135s 506ms/step - loss: 0.0346 - accuracy: 0.9835 - val_loss: 0.8677 - val_accuracy: 0.8398\n",
            "Epoch 16/20\n",
            "266/266 [==============================] - 135s 507ms/step - loss: 0.0251 - accuracy: 0.9865 - val_loss: 0.9898 - val_accuracy: 0.8346\n",
            "Epoch 17/20\n",
            "266/266 [==============================] - 135s 507ms/step - loss: 0.0507 - accuracy: 0.9775 - val_loss: 0.8288 - val_accuracy: 0.8308\n",
            "Epoch 18/20\n",
            "266/266 [==============================] - 134s 505ms/step - loss: 0.0514 - accuracy: 0.9794 - val_loss: 0.7502 - val_accuracy: 0.8407\n",
            "Epoch 19/20\n",
            "266/266 [==============================] - 135s 507ms/step - loss: 0.0444 - accuracy: 0.9800 - val_loss: 0.8661 - val_accuracy: 0.8219\n",
            "Epoch 20/20\n",
            "266/266 [==============================] - 135s 507ms/step - loss: 0.0308 - accuracy: 0.9849 - val_loss: 0.9177 - val_accuracy: 0.8322\n"
          ]
        }
      ]
    },
    {
      "cell_type": "markdown",
      "source": [
        "### Result evaluation & visualization"
      ],
      "metadata": {
        "id": "55kyXjQGEhUj"
      }
    },
    {
      "cell_type": "code",
      "source": [
        "acc = history.history['accuracy']\n",
        "val_acc = history.history['val_accuracy']\n",
        "\n",
        "loss = history.history['loss']\n",
        "val_loss = history.history['val_loss']\n",
        "\n",
        "epochs_range = range(epochs)\n",
        "\n",
        "plt.figure(figsize=(8, 8))\n",
        "plt.subplot(1, 2, 1)\n",
        "plt.plot(epochs_range, acc, label='Training Accuracy')\n",
        "plt.plot(epochs_range, val_acc, label='Validation Accuracy')\n",
        "plt.legend(loc='lower right')\n",
        "plt.title('Training and Validation Accuracy')\n",
        "\n",
        "plt.subplot(1, 2, 2)\n",
        "plt.plot(epochs_range, loss, label='Training Loss')\n",
        "plt.plot(epochs_range, val_loss, label='Validation Loss')\n",
        "plt.legend(loc='upper right')\n",
        "plt.title('Training and Validation Loss')\n",
        "plt.show()"
      ],
      "metadata": {
        "id": "Ce4bg1WiEoQn",
        "colab": {
          "base_uri": "https://localhost:8080/",
          "height": 499
        },
        "outputId": "3c005722-4863-49af-c08f-546ba288a842"
      },
      "execution_count": 22,
      "outputs": [
        {
          "output_type": "display_data",
          "data": {
            "image/png": "[encoded data removed]",
            "text/plain": [
              "<Figure size 576x576 with 2 Axes>"
            ]
          },
          "metadata": {
            "needs_background": "light"
          }
        }
      ]
    },
    {
      "cell_type": "markdown",
      "source": [
        "## CNN model adding Dropout layer(s) and L2 regularizaters"
      ],
      "metadata": {
        "id": "9YsfcEGtEpcT"
      }
    },
    {
      "cell_type": "code",
      "source": [
        "AUTOTUNE = tf.data.AUTOTUNE\n",
        "\n",
        "train_ds = train_ds.cache().shuffle(1000).prefetch(buffer_size=AUTOTUNE)\n",
        "val_ds = val_ds.cache().prefetch(buffer_size=AUTOTUNE)"
      ],
      "metadata": {
        "id": "lTAcOXy0AUOZ"
      },
      "execution_count": 23,
      "outputs": []
    },
    {
      "cell_type": "code",
      "source": [
        "from tensorflow.keras import regularizers"
      ],
      "metadata": {
        "id": "jndokcLfRSNB"
      },
      "execution_count": 27,
      "outputs": []
    },
    {
      "cell_type": "code",
      "source": [
        "num_classes = len(class_names)\n",
        "\n",
        "model = Sequential([\n",
        "  layers.Rescaling(1./255, input_shape=(img_height, img_width, 3)),\n",
        "  layers.Conv2D(16, 3, kernel_regularizer=regularizers.l2(0.001), padding='same', activation='relu'),\n",
        "  layers.MaxPooling2D(),\n",
        "  layers.Conv2D(32, 3, kernel_regularizer=regularizers.l2(0.001), padding='same', activation='relu'),\n",
        "  layers.MaxPooling2D(),\n",
        "  layers.Conv2D(64, 3, kernel_regularizer=regularizers.l2(0.001), padding='same', activation='relu'),\n",
        "  layers.MaxPooling2D(),\n",
        "  layers.Dropout(0.2),\n",
        "  layers.Flatten(),\n",
        "  layers.Dense(128, kernel_regularizer=regularizers.l2(0.001), activation='relu'),\n",
        "  layers.Dense(num_classes)\n",
        "])\n",
        "\n",
        "model.compile(optimizer='adam',\n",
        "              loss=tf.keras.losses.SparseCategoricalCrossentropy(from_logits=True),\n",
        "              metrics=['accuracy'])"
      ],
      "metadata": {
        "id": "-KBQ9Sr1BMuo"
      },
      "execution_count": 33,
      "outputs": []
    },
    {
      "cell_type": "code",
      "source": [
        "epochs=20\n",
        "history = model.fit(\n",
        "  train_ds,\n",
        "  validation_data=val_ds,\n",
        "  epochs=epochs\n",
        ")"
      ],
      "metadata": {
        "colab": {
          "base_uri": "https://localhost:8080/"
        },
        "id": "8FjIUuseBTgY",
        "outputId": "c02243b6-7e8a-462e-c6ba-98e9d011ded6"
      },
      "execution_count": 34,
      "outputs": [
        {
          "output_type": "stream",
          "name": "stdout",
          "text": [
            "Epoch 1/20\n",
            "266/266 [==============================] - 137s 511ms/step - loss: 0.7331 - accuracy: 0.6074 - val_loss: 0.6269 - val_accuracy: 0.7031\n",
            "Epoch 2/20\n",
            "266/266 [==============================] - 136s 511ms/step - loss: 0.6146 - accuracy: 0.6978 - val_loss: 0.5748 - val_accuracy: 0.7220\n",
            "Epoch 3/20\n",
            "266/266 [==============================] - 136s 510ms/step - loss: 0.5786 - accuracy: 0.7257 - val_loss: 0.5527 - val_accuracy: 0.7479\n",
            "Epoch 4/20\n",
            "266/266 [==============================] - 136s 510ms/step - loss: 0.5408 - accuracy: 0.7625 - val_loss: 0.5151 - val_accuracy: 0.7870\n",
            "Epoch 5/20\n",
            "266/266 [==============================] - 136s 511ms/step - loss: 0.5079 - accuracy: 0.7873 - val_loss: 0.4965 - val_accuracy: 0.8077\n",
            "Epoch 6/20\n",
            "266/266 [==============================] - 136s 511ms/step - loss: 0.4857 - accuracy: 0.8105 - val_loss: 0.4888 - val_accuracy: 0.8082\n",
            "Epoch 7/20\n",
            "266/266 [==============================] - 137s 515ms/step - loss: 0.4534 - accuracy: 0.8336 - val_loss: 0.4831 - val_accuracy: 0.8101\n",
            "Epoch 8/20\n",
            "266/266 [==============================] - 136s 511ms/step - loss: 0.4387 - accuracy: 0.8448 - val_loss: 0.4742 - val_accuracy: 0.8289\n",
            "Epoch 9/20\n",
            "266/266 [==============================] - 136s 511ms/step - loss: 0.4228 - accuracy: 0.8562 - val_loss: 0.4783 - val_accuracy: 0.8322\n",
            "Epoch 10/20\n",
            "266/266 [==============================] - 136s 513ms/step - loss: 0.4038 - accuracy: 0.8709 - val_loss: 0.4873 - val_accuracy: 0.8346\n",
            "Epoch 11/20\n",
            "266/266 [==============================] - 136s 512ms/step - loss: 0.3911 - accuracy: 0.8815 - val_loss: 0.4834 - val_accuracy: 0.8388\n",
            "Epoch 12/20\n",
            "266/266 [==============================] - 137s 514ms/step - loss: 0.3727 - accuracy: 0.8915 - val_loss: 0.4725 - val_accuracy: 0.8440\n",
            "Epoch 13/20\n",
            "266/266 [==============================] - 137s 514ms/step - loss: 0.3506 - accuracy: 0.9037 - val_loss: 0.4916 - val_accuracy: 0.8445\n",
            "Epoch 14/20\n",
            "266/266 [==============================] - 137s 514ms/step - loss: 0.3465 - accuracy: 0.9107 - val_loss: 0.4915 - val_accuracy: 0.8492\n",
            "Epoch 15/20\n",
            "266/266 [==============================] - 137s 514ms/step - loss: 0.3366 - accuracy: 0.9153 - val_loss: 0.4959 - val_accuracy: 0.8464\n",
            "Epoch 16/20\n",
            "266/266 [==============================] - 137s 515ms/step - loss: 0.3409 - accuracy: 0.9178 - val_loss: 0.4821 - val_accuracy: 0.8459\n",
            "Epoch 17/20\n",
            "266/266 [==============================] - 137s 515ms/step - loss: 0.3177 - accuracy: 0.9244 - val_loss: 0.5066 - val_accuracy: 0.8431\n",
            "Epoch 18/20\n",
            "266/266 [==============================] - 137s 517ms/step - loss: 0.3149 - accuracy: 0.9283 - val_loss: 0.4979 - val_accuracy: 0.8605\n",
            "Epoch 19/20\n",
            "266/266 [==============================] - 137s 515ms/step - loss: 0.3076 - accuracy: 0.9329 - val_loss: 0.5008 - val_accuracy: 0.8615\n",
            "Epoch 20/20\n",
            "266/266 [==============================] - 136s 513ms/step - loss: 0.2942 - accuracy: 0.9404 - val_loss: 0.5260 - val_accuracy: 0.8530\n"
          ]
        }
      ]
    },
    {
      "cell_type": "markdown",
      "source": [
        "### Result evaluation & visualization"
      ],
      "metadata": {
        "id": "nDnbMzmMEwp7"
      }
    },
    {
      "cell_type": "code",
      "source": [
        "acc = history.history['accuracy']\n",
        "val_acc = history.history['val_accuracy']\n",
        "\n",
        "loss = history.history['loss']\n",
        "val_loss = history.history['val_loss']\n",
        "\n",
        "epochs_range = range(epochs)\n",
        "\n",
        "plt.figure(figsize=(8, 8))\n",
        "plt.subplot(1, 2, 1)\n",
        "plt.plot(epochs_range, acc, label='Training Accuracy')\n",
        "plt.plot(epochs_range, val_acc, label='Validation Accuracy')\n",
        "plt.legend(loc='lower right')\n",
        "plt.title('Training and Validation Accuracy')\n",
        "\n",
        "plt.subplot(1, 2, 2)\n",
        "plt.plot(epochs_range, loss, label='Training Loss')\n",
        "plt.plot(epochs_range, val_loss, label='Validation Loss')\n",
        "plt.legend(loc='upper right')\n",
        "plt.title('Training and Validation Loss')\n",
        "plt.show()"
      ],
      "metadata": {
        "colab": {
          "base_uri": "https://localhost:8080/",
          "height": 499
        },
        "id": "r6knnuo9BWeo",
        "outputId": "cbd0021e-d618-42f2-d493-c5e501570065"
      },
      "execution_count": 35,
      "outputs": [
        {
          "output_type": "display_data",
          "data": {
            "image/png": "[encoded data removed]",
            "text/plain": [
              "<Figure size 576x576 with 2 Axes>"
            ]
          },
          "metadata": {
            "needs_background": "light"
          }
        }
      ]
    },
    {
      "cell_type": "code",
      "source": [
        ""
      ],
      "metadata": {
        "id": "jFg0Y-qXOImb"
      },
      "execution_count": null,
      "outputs": []
    }
  ]
}