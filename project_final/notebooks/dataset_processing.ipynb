{
  "nbformat": 4,
  "nbformat_minor": 0,
  "metadata": {
    "colab": {
      "name": "dataset_processing.ipynb",
      "provenance": [],
      "collapsed_sections": [],
      "authorship_tag": "ABX9TyM9KublfUym1ak0wSenaa+w",
      "include_colab_link": true
    },
    "kernelspec": {
      "name": "python3",
      "display_name": "Python 3"
    },
    "language_info": {
      "name": "python"
    }
  },
  "cells": [
    {
      "cell_type": "markdown",
      "metadata": {
        "id": "view-in-github",
        "colab_type": "text"
      },
      "source": [
        "<a href=\"https://colab.research.google.com/github/vuhpham94/nflx-data-projects-g6/blob/main/project_final/notebooks/dataset_processing.ipynb\" target=\"_parent\"><img src=\"https://colab.research.google.com/assets/colab-badge.svg\" alt=\"Open In Colab\"/></a>"
      ]
    },
    {
      "cell_type": "code",
      "source": [
        "# gdrive connection\n",
        "from google.colab import drive\n",
        "drive.mount('/content/drive')"
      ],
      "metadata": {
        "id": "6Nr8I_i4Dk_c"
      },
      "execution_count": null,
      "outputs": []
    },
    {
      "cell_type": "code",
      "execution_count": null,
      "metadata": {
        "id": "_Tl3zW0iClNg"
      },
      "outputs": [],
      "source": [
        "# import dependencies\n",
        "import cv2\n",
        "from tqdm import tqdm\n",
        "\n",
        "import matplotlib.pyplot as plt\n",
        "import numpy as np\n",
        "import pandas as pd"
      ]
    },
    {
      "cell_type": "code",
      "source": [
        "video_dir  = '/content/drive/Shareddrives/FinalProject/yt_videos/'\n",
        "frames_dir = '/content/drive/Shareddrives/FinalProject/yt_dataset/'\n",
        "dsize = (128,128)"
      ],
      "metadata": {
        "id": "PJTWCsAq4tb4"
      },
      "execution_count": null,
      "outputs": []
    },
    {
      "cell_type": "code",
      "source": [
        "# open the .txt file which have names of test videos\n",
        "test_path = \"/content/drive/Shareddrives/FinalProject/yt_videos/videos_list.txt\"\n",
        "f = open(test_path, \"r\")\n",
        "temp = f.read()\n",
        "videos = temp.split('\\n')\n",
        "# creating a dataframe having video names\n",
        "videos_df = pd.DataFrame()\n",
        "videos_df['video_path'] = videos\n",
        "videos_df['video_name'] = [x.split('/')[-1].split('.')[0] for x in videos]\n",
        "videos_df['video_tag'] = [x.split('/')[0] for x in videos]\n",
        "videos_df.head()"
      ],
      "metadata": {
        "id": "OVf2XudO7Sep"
      },
      "execution_count": null,
      "outputs": []
    },
    {
      "cell_type": "code",
      "source": [
        "\n",
        "def getFrame(sec,write_path):\n",
        "    vidcap.set(cv2.CAP_PROP_POS_MSEC,sec*1000)\n",
        "    hasFrames,image = vidcap.read()\n",
        "    if hasFrames:\n",
        "        output = cv2.resize(image, dsize)\n",
        "        cv2.imwrite(write_path, output)     # save frame as JPG file\n",
        "    return hasFrames\n",
        "\n",
        "videos_count = 100\n",
        "\n",
        "for i in tqdm(range(videos_count)):\n",
        "    vidcap = cv2.VideoCapture(video_dir+videos_df['video_path'][i])\n",
        "    sec = 0\n",
        "    frameRate = 0.5 #//it will capture image in each 2 second\n",
        "    count=1\n",
        "    write_path = frames_dir + videos_df['video_path'][i].split('.')[0]+'_' + str(count)+\".jpg\"\n",
        "    success = getFrame(sec, write_path)\n",
        "    while success:\n",
        "        count = count + 1\n",
        "        write_path = frames_dir + videos_df['video_path'][i].split('.')[0]+'_' + str(count)+\".jpg\"\n",
        "        sec = sec + frameRate\n",
        "        sec = round(sec, 2)\n",
        "        success = getFrame(sec, write_path)"
      ],
      "metadata": {
        "id": "_FVq0qmaw3iI"
      },
      "execution_count": null,
      "outputs": []
    }
  ]
}