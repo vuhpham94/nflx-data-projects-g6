{
  "nbformat": 4,
  "nbformat_minor": 0,
  "metadata": {
    "colab": {
      "name": "data_collection.ipynb",
      "provenance": [],
      "include_colab_link": true
    },
    "kernelspec": {
      "name": "python3",
      "display_name": "Python 3"
    },
    "language_info": {
      "name": "python"
    }
  },
  "cells": [
    {
      "cell_type": "markdown",
      "metadata": {
        "id": "view-in-github",
        "colab_type": "text"
      },
      "source": [
        "<a href=\"https://colab.research.google.com/github/vuhpham94/nflx-data-projects-g6/blob/kwabena_branch/project_final/notebooks/data_collection.ipynb\" target=\"_parent\"><img src=\"https://colab.research.google.com/assets/colab-badge.svg\" alt=\"Open In Colab\"/></a>"
      ]
    },
    {
      "cell_type": "code",
      "metadata": {
        "id": "dGox1pqt1Xcx",
        "outputId": "76efcb67-7aad-48af-e339-9ad46528e00d",
        "colab": {
          "base_uri": "https://localhost:8080/"
        }
      },
      "source": [
        "# gdrive connection\n",
        "from google.colab import drive\n",
        "drive.mount('/content/drive')"
      ],
      "execution_count": 1,
      "outputs": [
        {
          "output_type": "stream",
          "name": "stdout",
          "text": [
            "Mounted at /content/drive\n"
          ]
        }
      ]
    },
    {
      "cell_type": "code",
      "metadata": {
        "id": "qErCEbcc1O8t"
      },
      "source": [
        "import cv2     # for capturing videos\n",
        "import math   # for mathematical operations\n",
        "import matplotlib.pyplot as plt    # for plotting the images\n",
        "%matplotlib inline\n",
        "import pandas as pd\n",
        "from keras.preprocessing import image   # for preprocessing the images\n",
        "import numpy as np    # for mathematical operations\n",
        "from keras.utils import np_utils\n",
        "from skimage.transform import resize   # for resizing images\n",
        "from sklearn.model_selection import train_test_split\n",
        "from glob import glob\n",
        "from tqdm import tqdm"
      ],
      "execution_count": null,
      "outputs": []
    },
    {
      "cell_type": "code",
      "metadata": {
        "id": "eXXLCw-c1UUR"
      },
      "source": [
        "# open the .txt file which have names of training videos\n",
        "f = open(\"trainlist01.txt\", \"r\")\n",
        "temp = f.read()\n",
        "videos = temp.split('\\n')\n",
        "# creating a dataframe having video names\n",
        "train = pd.DataFrame()\n",
        "train['video_name'] = videos\n",
        "train = train[:-1]\n",
        "train.head()"
      ],
      "execution_count": null,
      "outputs": []
    },
    {
      "cell_type": "code",
      "source": [
        "# open the .txt file which have names of test videos\n",
        "f = open(\"testlist01.txt\", \"r\")\n",
        "temp = f.read()\n",
        "videos = temp.split('\\n')\n",
        "# creating a dataframe having video names\n",
        "test = pd.DataFrame()\n",
        "test['video_name'] = videos\n",
        "test = test[:-1]\n",
        "test.head()"
      ],
      "metadata": {
        "id": "W6a58Uhpb6PD"
      },
      "execution_count": null,
      "outputs": []
    },
    {
      "cell_type": "code",
      "source": [
        "# creating tags for training videos\n",
        "train_video_tag = []\n",
        "for i in range(train.shape[0]):\n",
        "train_video_tag.append(train['video_name'][i].split('/')[0])\n",
        "train['tag'] = train_video_tag\n",
        "# creating tags for test videos\n",
        "test_video_tag = []\n",
        "for i in range(test.shape[0]):\n",
        "test_video_tag.append(test['video_name'][i].split('/')[0])\n",
        "test['tag'] = test_video_tag"
      ],
      "metadata": {
        "id": "o25WFYByb6XV"
      },
      "execution_count": null,
      "outputs": []
    },
    {
      "cell_type": "code",
      "source": [
        "# storing the frames from training videos\n",
        "for i in tqdm(range(train.shape[0])):\n",
        "count = 0\n",
        "videoFile = train['video_name'][i]\n",
        "cap = cv2.VideoCapture('UCF/'+videoFile.split(' ')[0].split('/')[1])   # capturing the video from the given path\n",
        "frameRate = cap.get(5) #frame rate\n",
        "x=1\n",
        "while(cap.isOpened()):\n",
        "frameId = cap.get(1) #current frame number\n",
        "ret, frame = cap.read()\n",
        "if (ret != True):\n",
        "break\n",
        "if (frameId % math.floor(frameRate) == 0):\n",
        "# storing the frames in a new folder named train_1\n",
        "filename ='train_1/' + videoFile.split('/')[1].split(' ')[0] +\"_frame%d.jpg\" % count;count+=1\n",
        "cv2.imwrite(filename, frame)\n",
        "cap.release()"
      ],
      "metadata": {
        "id": "o82vT4i2b6dB"
      },
      "execution_count": null,
      "outputs": []
    },
    {
      "cell_type": "code",
      "source": [
        "# getting the names of all the images\n",
        "images = glob(\"train_1/*.jpg\")\n",
        "train_image = []\n",
        "train_class = []\n",
        "for i in tqdm(range(len(images))):\n",
        "# creating the image name\n",
        "train_image.append(images[i].split('/')[1])\n",
        "# creating the class of image\n",
        "train_class.append(images[i].split('/')[1].split('_')[1])\n",
        "# storing the images and their class in a dataframe\n",
        "train_data = pd.DataFrame()\n",
        "train_data['image'] = train_image\n",
        "train_data['class'] = train_class\n",
        "# converting the dataframe into csv file \n",
        "train_data.to_csv('UCF/train_new.csv',header=True, index=False)"
      ],
      "metadata": {
        "id": "hZAYOfR2b6hA"
      },
      "execution_count": null,
      "outputs": []
    },
    {
      "cell_type": "code",
      "source": [
        "import keras\n",
        "from keras.models import Sequential\n",
        "from keras.applications.vgg16 import VGG16\n",
        "from keras.layers import Dense, InputLayer, Dropout, Flatten\n",
        "from keras.layers import Conv2D, MaxPooling2D, GlobalMaxPooling2D\n",
        "from keras.preprocessing import image\n",
        "import numpy as np\n",
        "import pandas as pd\n",
        "import matplotlib.pyplot as plt\n",
        "from tqdm import tqdm\n",
        "from sklearn.model_selection import train_test_split"
      ],
      "metadata": {
        "id": "tDahudl5b6kf"
      },
      "execution_count": null,
      "outputs": []
    },
    {
      "cell_type": "code",
      "source": [
        "train = pd.read_csv('UCF/train_new.csv')\n",
        "train.head()"
      ],
      "metadata": {
        "id": "JT22SQPJb6nz"
      },
      "execution_count": null,
      "outputs": []
    },
    {
      "cell_type": "code",
      "source": [
        "# creating an empty list\n",
        "train_image = []\n",
        "# for loop to read and store frames\n",
        "for i in tqdm(range(train.shape[0])):\n",
        "# loading the image and keeping the target size as (224,224,3)\n",
        "img = image.load_img('train_1/'+train['image'][i], target_size=(224,224,3))\n",
        "# converting it to array\n",
        "img = image.img_to_array(img)\n",
        "# normalizing the pixel value\n",
        "img = img/255\n",
        "# appending the image to the train_image list\n",
        "train_image.append(img)\n",
        "# converting the list to numpy array\n",
        "X = np.array(train_image)\n",
        "# shape of the array\n",
        "X.shape"
      ],
      "metadata": {
        "id": "_5-Xcp73b6rA"
      },
      "execution_count": null,
      "outputs": []
    },
    {
      "cell_type": "markdown",
      "source": [
        "##Creating a Validation Set"
      ],
      "metadata": {
        "id": "pLMzzTbYcxU-"
      }
    },
    {
      "cell_type": "code",
      "source": [
        "# separating the target\n",
        "y = train['class']\n",
        "# creating the training and validation set\n",
        "X_train, X_test, y_train, y_test = train_test_split(X, y, random_state=42, test_size=0.2, stratify = y)"
      ],
      "metadata": {
        "id": "vVGOw6sIcuFm"
      },
      "execution_count": null,
      "outputs": []
    },
    {
      "cell_type": "code",
      "source": [
        "# creating dummies of target variable for train and validation set\n",
        "y_train = pd.get_dummies(y_train)\n",
        "y_test = pd.get_dummies(y_test)"
      ],
      "metadata": {
        "id": "o6R2pWuIcucb"
      },
      "execution_count": null,
      "outputs": []
    },
    {
      "cell_type": "code",
      "source": [
        "# creating the base model of pre-trained VGG16 model\n",
        "base_model = VGG16(weights='imagenet', include_top=False)"
      ],
      "metadata": {
        "id": "dySG68Ulcug_"
      },
      "execution_count": null,
      "outputs": []
    },
    {
      "cell_type": "code",
      "source": [
        "# extracting features for training frames\n",
        "X_train = base_model.predict(X_train)\n",
        "X_train.shape"
      ],
      "metadata": {
        "id": "Xh_03nL5cukE"
      },
      "execution_count": null,
      "outputs": []
    },
    {
      "cell_type": "code",
      "source": [
        "# extracting features for validation frames\n",
        "X_test = base_model.predict(X_test)\n",
        "X_test.shape"
      ],
      "metadata": {
        "id": "S0aYcPEfc7mS"
      },
      "execution_count": null,
      "outputs": []
    },
    {
      "cell_type": "code",
      "source": [
        "# reshaping the training as well as validation frames in single dimension\n",
        "X_train = X_train.reshape(59075, 7*7*512)\n",
        "X_test = X_test.reshape(14769, 7*7*512)"
      ],
      "metadata": {
        "id": "ejGWbPG-c7pW"
      },
      "execution_count": null,
      "outputs": []
    },
    {
      "cell_type": "code",
      "source": [
        "# normalizing the pixel values\n",
        "max = X_train.max()\n",
        "X_train = X_train/max\n",
        "X_test = X_test/max"
      ],
      "metadata": {
        "id": "I4ZgU6mjc7sT"
      },
      "execution_count": null,
      "outputs": []
    },
    {
      "cell_type": "code",
      "source": [
        "# shape of images\n",
        "X_train.shape"
      ],
      "metadata": {
        "id": "7uPqTEu4dEG9"
      },
      "execution_count": null,
      "outputs": []
    },
    {
      "cell_type": "code",
      "source": [
        "#defining the model architecture\n",
        "model = Sequential()\n",
        "model.add(Dense(1024, activation='relu', input_shape=(25088,)))\n",
        "model.add(Dropout(0.5))\n",
        "model.add(Dense(512, activation='relu'))\n",
        "model.add(Dropout(0.5))\n",
        "model.add(Dense(256, activation='relu'))\n",
        "model.add(Dropout(0.5))\n",
        "model.add(Dense(128, activation='relu'))\n",
        "model.add(Dropout(0.5))\n",
        "model.add(Dense(101, activation='softmax'))"
      ],
      "metadata": {
        "id": "LqV5EpMcdEOE"
      },
      "execution_count": null,
      "outputs": []
    },
    {
      "cell_type": "markdown",
      "source": [
        "##Training the video classification model"
      ],
      "metadata": {
        "id": "PC2oSkiEdKF4"
      }
    },
    {
      "cell_type": "code",
      "source": [
        "# defining a function to save the weights of best model\n",
        "from keras.callbacks import ModelCheckpoint\n",
        "mcp_save = ModelCheckpoint('weight.hdf5', save_best_only=True, monitor='val_loss', mode='min')"
      ],
      "metadata": {
        "id": "nw-zIylJdEQr"
      },
      "execution_count": null,
      "outputs": []
    },
    {
      "cell_type": "code",
      "source": [
        "# compiling the model\n",
        "model.compile(loss='categorical_crossentropy',optimizer='Adam',metrics=['accuracy'])"
      ],
      "metadata": {
        "id": "t7rLfK79dETM"
      },
      "execution_count": null,
      "outputs": []
    },
    {
      "cell_type": "code",
      "source": [
        "# training the model\n",
        "model.fit(X_train, y_train, epochs=200, validation_data=(X_test, y_test), callbacks=[mcp_save], batch_size=128)"
      ],
      "metadata": {
        "id": "XPXjB6RBdEVo"
      },
      "execution_count": null,
      "outputs": []
    },
    {
      "cell_type": "markdown",
      "source": [
        "##Defining model architecture and loading weights"
      ],
      "metadata": {
        "id": "rqUxBG7ndhKm"
      }
    },
    {
      "cell_type": "code",
      "source": [
        "from keras.models import Sequential\n",
        "from keras.layers import Dense, Dropout, Flatten\n",
        "from keras.layers import Conv2D, MaxPooling2D\n",
        "from keras.preprocessing import image\n",
        "import numpy as np\n",
        "import pandas as pd\n",
        "from tqdm import tqdm\n",
        "from keras.applications.vgg16 import VGG16\n",
        "import cv2\n",
        "import math\n",
        "import os\n",
        "from glob import glob\n",
        "from scipy import stats as s"
      ],
      "metadata": {
        "id": "Xa2VJkcDdWOe"
      },
      "execution_count": null,
      "outputs": []
    },
    {
      "cell_type": "code",
      "source": [
        "base_model = VGG16(weights='imagenet', include_top=False)"
      ],
      "metadata": {
        "id": "VrVlIaiBdWRM"
      },
      "execution_count": null,
      "outputs": []
    },
    {
      "cell_type": "code",
      "source": [
        "#defining the model architecture\n",
        "model = Sequential()\n",
        "model.add(Dense(1024, activation='relu', input_shape=(25088,)))\n",
        "model.add(Dropout(0.5))\n",
        "model.add(Dense(512, activation='relu'))\n",
        "model.add(Dropout(0.5))\n",
        "model.add(Dense(256, activation='relu'))\n",
        "model.add(Dropout(0.5))\n",
        "model.add(Dense(128, activation='relu'))\n",
        "model.add(Dropout(0.5))\n",
        "model.add(Dense(101, activation='softmax'))"
      ],
      "metadata": {
        "id": "gP-tSzIvdWTu"
      },
      "execution_count": null,
      "outputs": []
    },
    {
      "cell_type": "code",
      "source": [
        "# loading the trained weights\n",
        "model.load_weights(\"weights.hdf5\")"
      ],
      "metadata": {
        "id": "bsYjXkoxdWWP"
      },
      "execution_count": null,
      "outputs": []
    },
    {
      "cell_type": "code",
      "source": [
        "\n",
        "# compiling the model\n",
        "model.compile(loss='categorical_crossentropy',optimizer='Adam',metrics=['accuracy'])\n",
        "view raw"
      ],
      "metadata": {
        "id": "Eq_tnd2Edw2e"
      },
      "execution_count": null,
      "outputs": []
    },
    {
      "cell_type": "markdown",
      "source": [
        "##Creating the test data"
      ],
      "metadata": {
        "id": "EO3uGFT7d1mF"
      }
    },
    {
      "cell_type": "code",
      "source": [
        "# getting the test list\n",
        "f = open(\"testlist01.txt\", \"r\")\n",
        "temp = f.read()\n",
        "videos = temp.split('\\n')\n",
        "# creating the dataframe\n",
        "test = pd.DataFrame()\n",
        "test['video_name'] = videos\n",
        "test = test[:-1]\n",
        "test_videos = test['video_name']\n",
        "test.head()"
      ],
      "metadata": {
        "id": "LP_4xH6Nd0Fu"
      },
      "execution_count": null,
      "outputs": []
    },
    {
      "cell_type": "code",
      "source": [
        "# creating the tags\n",
        "train = pd.read_csv('UCF/train_new.csv')\n",
        "y = train['class']\n",
        "y = pd.get_dummies(y)\n"
      ],
      "metadata": {
        "id": "exl-mdR9d0Jf"
      },
      "execution_count": null,
      "outputs": []
    },
    {
      "cell_type": "markdown",
      "source": [
        "##Generating predictions for test videos"
      ],
      "metadata": {
        "id": "kg5hGJvtd-_Y"
      }
    },
    {
      "cell_type": "code",
      "source": [
        "# creating two lists to store predicted and actual tags\n",
        "predict = []\n",
        "actual = []\n",
        "# for loop to extract frames from each test video\n",
        "for i in tqdm(range(test_videos.shape[0])):\n",
        "count = 0\n",
        "videoFile = test_videos[i]\n",
        "cap = cv2.VideoCapture('UCF/'+videoFile.split(' ')[0].split('/')[1])   # capturing the video from the given path\n",
        "frameRate = cap.get(5) #frame rate\n",
        "x=1\n",
        "# removing all other files from the temp folder\n",
        "files = glob('temp/*')\n",
        "for f in files:\n",
        "os.remove(f)\n",
        "while(cap.isOpened()):\n",
        "frameId = cap.get(1) #current frame number\n",
        "ret, frame = cap.read()\n",
        "if (ret != True):\n",
        "break\n",
        "if (frameId % math.floor(frameRate) == 0):\n",
        "# storing the frames of this particular video in temp folder\n",
        "filename ='temp/' + \"_frame%d.jpg\" % count;count+=1\n",
        "cv2.imwrite(filename, frame)\n",
        "cap.release()\n",
        "# reading all the frames from temp folder\n",
        "images = glob(\"temp/*.jpg\")\n",
        "prediction_images = []\n",
        "for i in range(len(images)):\n",
        "img = image.load_img(images[i], target_size=(224,224,3))\n",
        "img = image.img_to_array(img)\n",
        "img = img/255\n",
        "prediction_images.append(img)\n",
        "# converting all the frames for a test video into numpy array\n",
        "prediction_images = np.array(prediction_images)\n",
        "# extracting features using pre-trained model\n",
        "prediction_images = base_model.predict(prediction_images)\n",
        "# converting features in one dimensional array\n",
        "prediction_images = prediction_images.reshape(prediction_images.shape[0], 7*7*512)\n",
        "# predicting tags for each array\n",
        "prediction = model.predict_classes(prediction_images)\n",
        "# appending the mode of predictions in predict list to assign the tag to the video\n",
        "predict.append(y.columns.values[s.mode(prediction)[0][0]])\n",
        "# appending the actual tag of the video\n",
        "actual.append(videoFile.split('/')[1].split('_')[1])"
      ],
      "metadata": {
        "id": "3Pv1agRYd0MV"
      },
      "execution_count": null,
      "outputs": []
    },
    {
      "cell_type": "markdown",
      "source": [
        "##Evaluating the model"
      ],
      "metadata": {
        "id": "Vj7RDrNWeHEO"
      }
    },
    {
      "cell_type": "code",
      "source": [
        "# checking the accuracy of the predicted tags\n",
        "from sklearn.metrics import accuracy_score\n",
        "accuracy_score(predict, actual)*100"
      ],
      "metadata": {
        "id": "FmBgg3MveIv8"
      },
      "execution_count": null,
      "outputs": []
    },
    {
      "cell_type": "code",
      "source": [
        ""
      ],
      "metadata": {
        "id": "WzWE9i64eKk4"
      },
      "execution_count": null,
      "outputs": []
    }
  ]
}