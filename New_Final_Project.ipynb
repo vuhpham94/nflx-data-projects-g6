{
  "nbformat": 4,
  "nbformat_minor": 0,
  "metadata": {
    "colab": {
      "name": "New_Final_Project.ipynb",
      "provenance": [],
      "collapsed_sections": [],
      "authorship_tag": "ABX9TyOXFuy9RxBtFxzjO99AxWkE",
      "include_colab_link": true
    },
    "kernelspec": {
      "name": "python3",
      "display_name": "Python 3"
    },
    "language_info": {
      "name": "python"
    }
  },
  "cells": [
    {
      "cell_type": "markdown",
      "metadata": {
        "id": "view-in-github",
        "colab_type": "text"
      },
      "source": [
        "<a href=\"https://colab.research.google.com/github/vuhpham94/nflx-data-projects-g6/blob/kwabena_branch/New_Final_Project.ipynb\" target=\"_parent\"><img src=\"https://colab.research.google.com/assets/colab-badge.svg\" alt=\"Open In Colab\"/></a>"
      ]
    },
    {
      "cell_type": "code",
      "execution_count": null,
      "metadata": {
        "colab": {
          "base_uri": "https://localhost:8080/"
        },
        "id": "l-GNZ20FczVt",
        "outputId": "f35630bf-d15d-4cd2-a17c-b74669698f33"
      },
      "outputs": [
        {
          "output_type": "stream",
          "name": "stdout",
          "text": [
            "Mounted at /content/drive\n"
          ]
        }
      ],
      "source": [
        "# gdrive connection\n",
        "from google.colab import drive\n",
        "drive.mount('/content/drive')"
      ]
    },
    {
      "cell_type": "code",
      "source": [
        "import cv2     # for capturing videos\n",
        "import math   # for mathematical operations\n",
        "import matplotlib.pyplot as plt    # for plotting the images\n",
        "%matplotlib inline\n",
        "import pandas as pd\n",
        "from keras.preprocessing import image   # for preprocessing the images\n",
        "import numpy as np    # for mathematical operations\n",
        "from keras.utils import np_utils\n",
        "from skimage.transform import resize   # for resizing images\n",
        "from sklearn.model_selection import train_test_split\n",
        "from glob import glob\n",
        "from tqdm import tqdm\n",
        "import pdb;"
      ],
      "metadata": {
        "id": "jDt0eOnqo-28"
      },
      "execution_count": null,
      "outputs": []
    },
    {
      "cell_type": "code",
      "source": [
        "# open the .txt file which have names of training videos\n",
        "train_path = \"/content/drive/Shareddrives/FinalProject/yt_videos/Train-list01.txt\"\n",
        "f = open(train_path, \"r\")\n",
        "temp = f.read()\n",
        "videos = temp.split('\\n')\n",
        "# creating a dataframe having video names\n",
        "train = pd.DataFrame()\n",
        "train['video_name'] = videos\n",
        "train = train[:-1]\n",
        "train.head()"
      ],
      "metadata": {
        "colab": {
          "base_uri": "https://localhost:8080/",
          "height": 206
        },
        "id": "FWHy7zQBpAxP",
        "outputId": "8ec3c4b7-e3c1-417b-b04f-5945bc42547d"
      },
      "execution_count": null,
      "outputs": [
        {
          "output_type": "execute_result",
          "data": {
            "text/html": [
              "<div>\n",
              "<style scoped>\n",
              "    .dataframe tbody tr th:only-of-type {\n",
              "        vertical-align: middle;\n",
              "    }\n",
              "\n",
              "    .dataframe tbody tr th {\n",
              "        vertical-align: top;\n",
              "    }\n",
              "\n",
              "    .dataframe thead th {\n",
              "        text-align: right;\n",
              "    }\n",
              "</style>\n",
              "<table border=\"1\" class=\"dataframe\">\n",
              "  <thead>\n",
              "    <tr style=\"text-align: right;\">\n",
              "      <th></th>\n",
              "      <th>video_name</th>\n",
              "    </tr>\n",
              "  </thead>\n",
              "  <tbody>\n",
              "    <tr>\n",
              "      <th>0</th>\n",
              "      <td>kid_friendly/kf1.mp4</td>\n",
              "    </tr>\n",
              "    <tr>\n",
              "      <th>1</th>\n",
              "      <td>kid_friendly/kf2.mp4</td>\n",
              "    </tr>\n",
              "    <tr>\n",
              "      <th>2</th>\n",
              "      <td>kid_friendly/kf3.mp4</td>\n",
              "    </tr>\n",
              "    <tr>\n",
              "      <th>3</th>\n",
              "      <td>kid_friendly/kf4.mp4</td>\n",
              "    </tr>\n",
              "    <tr>\n",
              "      <th>4</th>\n",
              "      <td>kid_friendly/kf5.mp4</td>\n",
              "    </tr>\n",
              "  </tbody>\n",
              "</table>\n",
              "</div>"
            ],
            "text/plain": [
              "             video_name\n",
              "0  kid_friendly/kf1.mp4\n",
              "1  kid_friendly/kf2.mp4\n",
              "2  kid_friendly/kf3.mp4\n",
              "3  kid_friendly/kf4.mp4\n",
              "4  kid_friendly/kf5.mp4"
            ]
          },
          "metadata": {},
          "execution_count": 5
        }
      ]
    },
    {
      "cell_type": "code",
      "source": [
        "# open the .txt file which have names of test videos\n",
        "test_path = \"/content/drive/Shareddrives/FinalProject/yt_videos/Test-list01.txt\"\n",
        "f = open(test_path, \"r\")\n",
        "temp = f.read()\n",
        "videos = temp.split('\\n')\n",
        "# creating a dataframe having video names\n",
        "test = pd.DataFrame()\n",
        "test['video_name'] = videos\n",
        "test = test[:-1]\n",
        "test.tail()"
      ],
      "metadata": {
        "colab": {
          "base_uri": "https://localhost:8080/",
          "height": 206
        },
        "id": "w21lbDg3pUC3",
        "outputId": "7b8f89d7-e16a-451b-b01f-fdbadef90052"
      },
      "execution_count": null,
      "outputs": [
        {
          "output_type": "execute_result",
          "data": {
            "text/html": [
              "<div>\n",
              "<style scoped>\n",
              "    .dataframe tbody tr th:only-of-type {\n",
              "        vertical-align: middle;\n",
              "    }\n",
              "\n",
              "    .dataframe tbody tr th {\n",
              "        vertical-align: top;\n",
              "    }\n",
              "\n",
              "    .dataframe thead th {\n",
              "        text-align: right;\n",
              "    }\n",
              "</style>\n",
              "<table border=\"1\" class=\"dataframe\">\n",
              "  <thead>\n",
              "    <tr style=\"text-align: right;\">\n",
              "      <th></th>\n",
              "      <th>video_name</th>\n",
              "    </tr>\n",
              "  </thead>\n",
              "  <tbody>\n",
              "    <tr>\n",
              "      <th>94</th>\n",
              "      <td>not_kid_friendly/nkf45.mp4</td>\n",
              "    </tr>\n",
              "    <tr>\n",
              "      <th>95</th>\n",
              "      <td>not_kid_friendly/nkf46.mp4</td>\n",
              "    </tr>\n",
              "    <tr>\n",
              "      <th>96</th>\n",
              "      <td>not_kid_friendly/nkf47.mp4</td>\n",
              "    </tr>\n",
              "    <tr>\n",
              "      <th>97</th>\n",
              "      <td>not_kid_friendly/nkf48.mp4</td>\n",
              "    </tr>\n",
              "    <tr>\n",
              "      <th>98</th>\n",
              "      <td>not_kid_friendly/nkf49.mp4</td>\n",
              "    </tr>\n",
              "  </tbody>\n",
              "</table>\n",
              "</div>"
            ],
            "text/plain": [
              "                    video_name\n",
              "94  not_kid_friendly/nkf45.mp4\n",
              "95  not_kid_friendly/nkf46.mp4\n",
              "96  not_kid_friendly/nkf47.mp4\n",
              "97  not_kid_friendly/nkf48.mp4\n",
              "98  not_kid_friendly/nkf49.mp4"
            ]
          },
          "metadata": {},
          "execution_count": 16
        }
      ]
    },
    {
      "cell_type": "code",
      "source": [
        "# creating tags for training videos\n",
        "train_video_tag = []\n",
        "test_debug = []\n",
        "for i in range(train.shape[0]):\n",
        "  train_video_tag.append(train['video_name'][i].split('/')[0])\n",
        "  \n",
        "train['tag'] = train_video_tag\n",
        "train.head()"
      ],
      "metadata": {
        "colab": {
          "base_uri": "https://localhost:8080/",
          "height": 206
        },
        "id": "X0MRz1Vwp2eO",
        "outputId": "dfaa422a-e44d-4fa1-ff11-975f36f04d28"
      },
      "execution_count": null,
      "outputs": [
        {
          "output_type": "execute_result",
          "data": {
            "text/html": [
              "<div>\n",
              "<style scoped>\n",
              "    .dataframe tbody tr th:only-of-type {\n",
              "        vertical-align: middle;\n",
              "    }\n",
              "\n",
              "    .dataframe tbody tr th {\n",
              "        vertical-align: top;\n",
              "    }\n",
              "\n",
              "    .dataframe thead th {\n",
              "        text-align: right;\n",
              "    }\n",
              "</style>\n",
              "<table border=\"1\" class=\"dataframe\">\n",
              "  <thead>\n",
              "    <tr style=\"text-align: right;\">\n",
              "      <th></th>\n",
              "      <th>video_name</th>\n",
              "      <th>tag</th>\n",
              "    </tr>\n",
              "  </thead>\n",
              "  <tbody>\n",
              "    <tr>\n",
              "      <th>0</th>\n",
              "      <td>kid_friendly/kf1.mp4</td>\n",
              "      <td>kid_friendly</td>\n",
              "    </tr>\n",
              "    <tr>\n",
              "      <th>1</th>\n",
              "      <td>kid_friendly/kf2.mp4</td>\n",
              "      <td>kid_friendly</td>\n",
              "    </tr>\n",
              "    <tr>\n",
              "      <th>2</th>\n",
              "      <td>kid_friendly/kf3.mp4</td>\n",
              "      <td>kid_friendly</td>\n",
              "    </tr>\n",
              "    <tr>\n",
              "      <th>3</th>\n",
              "      <td>kid_friendly/kf4.mp4</td>\n",
              "      <td>kid_friendly</td>\n",
              "    </tr>\n",
              "    <tr>\n",
              "      <th>4</th>\n",
              "      <td>kid_friendly/kf5.mp4</td>\n",
              "      <td>kid_friendly</td>\n",
              "    </tr>\n",
              "  </tbody>\n",
              "</table>\n",
              "</div>"
            ],
            "text/plain": [
              "             video_name           tag\n",
              "0  kid_friendly/kf1.mp4  kid_friendly\n",
              "1  kid_friendly/kf2.mp4  kid_friendly\n",
              "2  kid_friendly/kf3.mp4  kid_friendly\n",
              "3  kid_friendly/kf4.mp4  kid_friendly\n",
              "4  kid_friendly/kf5.mp4  kid_friendly"
            ]
          },
          "metadata": {},
          "execution_count": 17
        }
      ]
    },
    {
      "cell_type": "code",
      "source": [
        "# creating tags for test videos\n",
        "test_video_tag = []\n",
        "for i in range(test.shape[0]):\n",
        "  test_video_tag.append(test['video_name'][i].split('/')[0])\n",
        "test['tag'] = test_video_tag\n",
        "test.tail()"
      ],
      "metadata": {
        "colab": {
          "base_uri": "https://localhost:8080/",
          "height": 206
        },
        "id": "m6Te_b7CqFxt",
        "outputId": "e1227f03-8476-4a31-fb0c-fd716fd5c6f5"
      },
      "execution_count": null,
      "outputs": [
        {
          "output_type": "execute_result",
          "data": {
            "text/html": [
              "<div>\n",
              "<style scoped>\n",
              "    .dataframe tbody tr th:only-of-type {\n",
              "        vertical-align: middle;\n",
              "    }\n",
              "\n",
              "    .dataframe tbody tr th {\n",
              "        vertical-align: top;\n",
              "    }\n",
              "\n",
              "    .dataframe thead th {\n",
              "        text-align: right;\n",
              "    }\n",
              "</style>\n",
              "<table border=\"1\" class=\"dataframe\">\n",
              "  <thead>\n",
              "    <tr style=\"text-align: right;\">\n",
              "      <th></th>\n",
              "      <th>video_name</th>\n",
              "      <th>tag</th>\n",
              "    </tr>\n",
              "  </thead>\n",
              "  <tbody>\n",
              "    <tr>\n",
              "      <th>94</th>\n",
              "      <td>not_kid_friendly/nkf45.mp4</td>\n",
              "      <td>not_kid_friendly</td>\n",
              "    </tr>\n",
              "    <tr>\n",
              "      <th>95</th>\n",
              "      <td>not_kid_friendly/nkf46.mp4</td>\n",
              "      <td>not_kid_friendly</td>\n",
              "    </tr>\n",
              "    <tr>\n",
              "      <th>96</th>\n",
              "      <td>not_kid_friendly/nkf47.mp4</td>\n",
              "      <td>not_kid_friendly</td>\n",
              "    </tr>\n",
              "    <tr>\n",
              "      <th>97</th>\n",
              "      <td>not_kid_friendly/nkf48.mp4</td>\n",
              "      <td>not_kid_friendly</td>\n",
              "    </tr>\n",
              "    <tr>\n",
              "      <th>98</th>\n",
              "      <td>not_kid_friendly/nkf49.mp4</td>\n",
              "      <td>not_kid_friendly</td>\n",
              "    </tr>\n",
              "  </tbody>\n",
              "</table>\n",
              "</div>"
            ],
            "text/plain": [
              "                    video_name               tag\n",
              "94  not_kid_friendly/nkf45.mp4  not_kid_friendly\n",
              "95  not_kid_friendly/nkf46.mp4  not_kid_friendly\n",
              "96  not_kid_friendly/nkf47.mp4  not_kid_friendly\n",
              "97  not_kid_friendly/nkf48.mp4  not_kid_friendly\n",
              "98  not_kid_friendly/nkf49.mp4  not_kid_friendly"
            ]
          },
          "metadata": {},
          "execution_count": 18
        }
      ]
    },
    {
      "cell_type": "code",
      "source": [
        "# storing the frames from training videos\n",
        "test_check = []\n",
        "for i in tqdm(range(train.shape[0])):\n",
        "  count = 0\n",
        "  videoFile = train['video_name'][i]\n",
        "  tag = train['tag'][i]\n",
        "  #print(videoFile)\n",
        "  #cap = cv2.VideoCapture('/content/drive/MyDrive/UCF-101/'+videoFile.split(' ')[0].split('/')[1])\n",
        "  # capturing the video from the given path\n",
        "  #pdb.set_trace()\n",
        "  #print(tag)\n",
        "  #print(videoFile.split(' ')[0].split('/')[1])\n",
        "  cap = cv2.VideoCapture('/content/drive/Shareddrives/FinalProject/yt_videos/'+tag+'/'+videoFile.split(' ')[0].split('/')[1]) \n",
        "  #cap = cv2.VideoCapture('/content/drive/Shareddrives/FinalProject/yt_videos/kid_friendly/kf1.mp4')\n",
        "  #print(videoFile)\n",
        "  #print(videoFile.split(' '))\n",
        "  #print(videoFile.split(' ')[0])\n",
        "  frameRate = cap.get(5) #frame rate\n",
        "  #print(frameRate)\n",
        "  x=1\n",
        "  #pdb.set_trace()\n",
        "  while(cap.isOpened()):\n",
        "    frameId = cap.get(1) #current frame number\n",
        "    ret, frame = cap.read()\n",
        "    if (ret != True):\n",
        "      break\n",
        "    #pdb.set_trace()\n",
        "    if (frameId % math.floor(frameRate) == 0):\n",
        "      #storing the frames in a new folder named train_1\n",
        "      filename ='/content/drive/Shareddrives/FinalProject/yt_train1/' + videoFile.split('/')[1].split(' ')[0] +\"_frame%d.jpg\" % count;\n",
        "      count+=1\n",
        "      cv2.imwrite(filename, frame)\n",
        "  cap.release()"
      ],
      "metadata": {
        "colab": {
          "base_uri": "https://localhost:8080/"
        },
        "id": "G6eFc2wgqKSg",
        "outputId": "d4e317ac-9d07-421a-ea59-5973f03fa261"
      },
      "execution_count": null,
      "outputs": [
        {
          "output_type": "stream",
          "name": "stderr",
          "text": [
            "100%|██████████| 99/99 [2:01:53<00:00, 73.87s/it]\n"
          ]
        }
      ]
    },
    {
      "cell_type": "code",
      "source": [
        "images = glob(\"/content/drive/Shareddrives/FinalProject/yt_train1/*.jpg\" )\n",
        "train_image = []\n",
        "train_class = []\n",
        "for i in tqdm(range(len(images))):\n",
        "# creating the image name\n",
        "  #print(images[i].split('/')[-1])\n",
        "  train_image.append(images[i].split('/')[-1])\n",
        "  #print(images[i].split('/')[-1])\n",
        "# creating the class of image\n",
        "  if images[i].split('/')[-1][:2] == 'kf':\n",
        "      train_class.append('Friendly')\n",
        "  elif images[i].split('/')[-1][:2] == 'nk':\n",
        "      train_class.append('NotFriendly')\n",
        "  #train_class.append(images[i].split('/')[-1].split('_')[1])"
      ],
      "metadata": {
        "colab": {
          "base_uri": "https://localhost:8080/"
        },
        "id": "h9LHo1Jn1XFo",
        "outputId": "0180d42c-a06b-49cd-d9c5-d9d3291c211d"
      },
      "execution_count": null,
      "outputs": [
        {
          "output_type": "stream",
          "name": "stderr",
          "text": [
            "100%|██████████| 21162/21162 [00:00<00:00, 188038.60it/s]\n"
          ]
        }
      ]
    },
    {
      "cell_type": "code",
      "source": [
        "print(train_image[:20])\n",
        "print(train_class[:20])"
      ],
      "metadata": {
        "colab": {
          "base_uri": "https://localhost:8080/"
        },
        "id": "Jns0Plwu10wF",
        "outputId": "9919f9f9-4cdd-4033-d768-5fc02185b96c"
      },
      "execution_count": null,
      "outputs": [
        {
          "output_type": "stream",
          "name": "stdout",
          "text": [
            "['nkf46.mp4_frame58.jpg', 'nkf46.mp4_frame59.jpg', 'nkf46.mp4_frame60.jpg', 'nkf46.mp4_frame61.jpg', 'nkf46.mp4_frame62.jpg', 'nkf46.mp4_frame63.jpg', 'nkf46.mp4_frame64.jpg', 'nkf46.mp4_frame65.jpg', 'nkf46.mp4_frame66.jpg', 'nkf46.mp4_frame67.jpg', 'nkf46.mp4_frame68.jpg', 'nkf46.mp4_frame69.jpg', 'nkf46.mp4_frame70.jpg', 'nkf46.mp4_frame71.jpg', 'nkf46.mp4_frame72.jpg', 'nkf46.mp4_frame73.jpg', 'nkf46.mp4_frame74.jpg', 'nkf46.mp4_frame75.jpg', 'nkf46.mp4_frame76.jpg', 'nkf46.mp4_frame77.jpg']\n",
            "['NotFriendly', 'NotFriendly', 'NotFriendly', 'NotFriendly', 'NotFriendly', 'NotFriendly', 'NotFriendly', 'NotFriendly', 'NotFriendly', 'NotFriendly', 'NotFriendly', 'NotFriendly', 'NotFriendly', 'NotFriendly', 'NotFriendly', 'NotFriendly', 'NotFriendly', 'NotFriendly', 'NotFriendly', 'NotFriendly']\n"
          ]
        }
      ]
    },
    {
      "cell_type": "code",
      "source": [
        "# getting the names of all the images\n",
        "# import pdb; \n",
        "# pdb.set_trace()\n",
        "images = glob(\"/content/drive/Shareddrives/FinalProject/yt_train1/*.jpg\" )\n",
        "train_image = []\n",
        "train_class = []\n",
        "for i in tqdm(range(len(images))):\n",
        "# creating the image name\n",
        "  #pdb.set_trace()\n",
        "  #print(images[i].split('/')[-1])\n",
        "#   train_image.append(images[i].split('/')[1])\n",
        "#   print(images[i].split('/')[1])\n",
        "# # creating the class of image\n",
        "#   train_class.append(images[i].split('/')[-1].split('_')[1])\n",
        "    train_image.append(images[i].split('/')[-1])\n",
        "# creating the class of image\n",
        "    if images[i].split('/')[-1][:2] == 'kf':\n",
        "        train_class.append('Friendly')\n",
        "    elif images[i].split('/')[-1][:2] == 'nk':\n",
        "        train_class.append('NotFriendly')\n",
        "# storing the images and their class in a dataframe\n",
        "train_data = pd.DataFrame()\n",
        "train_data['image'] = train_image\n",
        "train_data['class'] = train_class\n",
        "# converting the dataframe into csv file \n",
        "training_data_path = '/content/drive/Shareddrives/FinalProject/yt_train_new.csv'\n",
        "train_data.to_csv(training_data_path,header=True, index=False)"
      ],
      "metadata": {
        "colab": {
          "base_uri": "https://localhost:8080/"
        },
        "id": "JBjWhwJVq3_A",
        "outputId": "81a9cacd-2679-42f3-f205-8868a818c45f"
      },
      "execution_count": null,
      "outputs": [
        {
          "output_type": "stream",
          "name": "stderr",
          "text": [
            "100%|██████████| 21162/21162 [00:00<00:00, 506542.15it/s]\n"
          ]
        }
      ]
    },
    {
      "cell_type": "code",
      "source": [
        "import keras\n",
        "from keras.models import Sequential\n",
        "from keras.applications.vgg16 import VGG16\n",
        "from keras.layers import Dense, InputLayer, Dropout, Flatten\n",
        "from keras.layers import Conv2D, MaxPooling2D, GlobalMaxPooling2D\n",
        "from keras.preprocessing import image\n",
        "import numpy as np\n",
        "import pandas as pd\n",
        "import matplotlib.pyplot as plt\n",
        "from tqdm import tqdm\n",
        "from sklearn.model_selection import train_test_split"
      ],
      "metadata": {
        "id": "pRiEEssFqZ0C"
      },
      "execution_count": null,
      "outputs": []
    },
    {
      "cell_type": "code",
      "source": [
        "training_data_path = '/content/drive/Shareddrives/FinalProject/yt_train_new.csv'\n",
        "train = pd.read_csv(training_data_path)\n",
        "train.head()"
      ],
      "metadata": {
        "colab": {
          "base_uri": "https://localhost:8080/",
          "height": 206
        },
        "id": "6BbTfLS66Qt3",
        "outputId": "8f42cd92-febb-4dc2-8943-610f38ef7393"
      },
      "execution_count": null,
      "outputs": [
        {
          "output_type": "execute_result",
          "data": {
            "text/html": [
              "<div>\n",
              "<style scoped>\n",
              "    .dataframe tbody tr th:only-of-type {\n",
              "        vertical-align: middle;\n",
              "    }\n",
              "\n",
              "    .dataframe tbody tr th {\n",
              "        vertical-align: top;\n",
              "    }\n",
              "\n",
              "    .dataframe thead th {\n",
              "        text-align: right;\n",
              "    }\n",
              "</style>\n",
              "<table border=\"1\" class=\"dataframe\">\n",
              "  <thead>\n",
              "    <tr style=\"text-align: right;\">\n",
              "      <th></th>\n",
              "      <th>image</th>\n",
              "      <th>class</th>\n",
              "    </tr>\n",
              "  </thead>\n",
              "  <tbody>\n",
              "    <tr>\n",
              "      <th>0</th>\n",
              "      <td>nkf46.mp4_frame58.jpg</td>\n",
              "      <td>NotFriendly</td>\n",
              "    </tr>\n",
              "    <tr>\n",
              "      <th>1</th>\n",
              "      <td>nkf46.mp4_frame59.jpg</td>\n",
              "      <td>NotFriendly</td>\n",
              "    </tr>\n",
              "    <tr>\n",
              "      <th>2</th>\n",
              "      <td>nkf46.mp4_frame60.jpg</td>\n",
              "      <td>NotFriendly</td>\n",
              "    </tr>\n",
              "    <tr>\n",
              "      <th>3</th>\n",
              "      <td>nkf46.mp4_frame61.jpg</td>\n",
              "      <td>NotFriendly</td>\n",
              "    </tr>\n",
              "    <tr>\n",
              "      <th>4</th>\n",
              "      <td>nkf46.mp4_frame62.jpg</td>\n",
              "      <td>NotFriendly</td>\n",
              "    </tr>\n",
              "  </tbody>\n",
              "</table>\n",
              "</div>"
            ],
            "text/plain": [
              "                   image        class\n",
              "0  nkf46.mp4_frame58.jpg  NotFriendly\n",
              "1  nkf46.mp4_frame59.jpg  NotFriendly\n",
              "2  nkf46.mp4_frame60.jpg  NotFriendly\n",
              "3  nkf46.mp4_frame61.jpg  NotFriendly\n",
              "4  nkf46.mp4_frame62.jpg  NotFriendly"
            ]
          },
          "metadata": {},
          "execution_count": 24
        }
      ]
    },
    {
      "cell_type": "code",
      "source": [
        "# creating an empty list\n",
        "train_image = []\n",
        "# for loop to read and store frames\n",
        "for i in tqdm(range(train.shape[0])):\n",
        "# loading the image and keeping the target size as (224,224,3)\n",
        "  img = image.load_img('/content/drive/Shareddrives/FinalProject/yt_train1/'+train['image'][i], target_size=(64,64,3))\n",
        "  # converting it to array\n",
        "  img = image.img_to_array(img)\n",
        "  # normalizing the pixel value\n",
        "  img = img/255\n",
        "  # appending the image to the train_image list\n",
        "  train_image.append(img)\n",
        "# converting the list to numpy array\n",
        "X = np.array(train_image)\n",
        "# shape of the array\n",
        "X.shape"
      ],
      "metadata": {
        "colab": {
          "base_uri": "https://localhost:8080/"
        },
        "id": "ZcnakMIgm7Nv",
        "outputId": "b0f0f867-d876-4b35-a560-f314fa831978"
      },
      "execution_count": null,
      "outputs": [
        {
          "output_type": "stream",
          "name": "stderr",
          "text": [
            "100%|██████████| 21162/21162 [03:53<00:00, 90.82it/s] \n"
          ]
        },
        {
          "output_type": "execute_result",
          "data": {
            "text/plain": [
              "(21162, 64, 64, 3)"
            ]
          },
          "metadata": {},
          "execution_count": 25
        }
      ]
    },
    {
      "cell_type": "code",
      "source": [
        "# separating the target\n",
        "y = train['class']\n",
        "# creating the training and validation set\n",
        "X_train, X_test, y_train, y_test = train_test_split(X, y, random_state=42, test_size=0.2, stratify = y)"
      ],
      "metadata": {
        "id": "Wr96xv-CnWg3"
      },
      "execution_count": null,
      "outputs": []
    },
    {
      "cell_type": "code",
      "source": [
        "# creating dummies of target variable for train and validation set\n",
        "y_train = pd.get_dummies(y_train)\n",
        "y_test = pd.get_dummies(y_test)"
      ],
      "metadata": {
        "id": "LdexzO4dChXX"
      },
      "execution_count": null,
      "outputs": []
    },
    {
      "cell_type": "code",
      "source": [
        "# creating the base model of pre-trained VGG16 model\n",
        "base_model = VGG16(weights='imagenet', include_top=False)"
      ],
      "metadata": {
        "colab": {
          "base_uri": "https://localhost:8080/"
        },
        "id": "HzQicuU5XSqx",
        "outputId": "e8510ffb-f6cf-46d4-9c6f-79e6cad05124"
      },
      "execution_count": null,
      "outputs": [
        {
          "output_type": "stream",
          "name": "stdout",
          "text": [
            "Downloading data from https://storage.googleapis.com/tensorflow/keras-applications/vgg16/vgg16_weights_tf_dim_ordering_tf_kernels_notop.h5\n",
            "58892288/58889256 [==============================] - 1s 0us/step\n",
            "58900480/58889256 [==============================] - 1s 0us/step\n"
          ]
        }
      ]
    },
    {
      "cell_type": "code",
      "source": [
        "# extracting features for training frames\n",
        "X_train = base_model.predict(X_train)\n",
        "X_train.shape"
      ],
      "metadata": {
        "colab": {
          "base_uri": "https://localhost:8080/"
        },
        "id": "UbBqgzD2XVy5",
        "outputId": "18894ca7-266e-4cb3-e6d6-aa86cf012356"
      },
      "execution_count": null,
      "outputs": [
        {
          "output_type": "execute_result",
          "data": {
            "text/plain": [
              "(16929, 2, 2, 512)"
            ]
          },
          "metadata": {},
          "execution_count": 29
        }
      ]
    },
    {
      "cell_type": "code",
      "source": [
        "# extracting features for validation frames\n",
        "X_test = base_model.predict(X_test)\n",
        "X_test.shape"
      ],
      "metadata": {
        "colab": {
          "base_uri": "https://localhost:8080/"
        },
        "id": "dXkTKJwNXhNt",
        "outputId": "a57f543e-7f9a-4fbf-a7db-9e2e59be0e0c"
      },
      "execution_count": null,
      "outputs": [
        {
          "output_type": "execute_result",
          "data": {
            "text/plain": [
              "(4233, 2, 2, 512)"
            ]
          },
          "metadata": {},
          "execution_count": 30
        }
      ]
    },
    {
      "cell_type": "code",
      "source": [
        "# reshaping the training as well as validation frames in single dimension\n",
        "X_train = X_train.reshape(16929, 2*2*512)\n",
        "X_test = X_test.reshape(4233, 2*2*512)"
      ],
      "metadata": {
        "id": "WkrKDUnpaXV6"
      },
      "execution_count": null,
      "outputs": []
    },
    {
      "cell_type": "code",
      "source": [
        "# normalizing the pixel values\n",
        "max = X_train.max()\n",
        "X_train = X_train/max\n",
        "X_test = X_test/max"
      ],
      "metadata": {
        "id": "QeRXWm3xbvyd"
      },
      "execution_count": null,
      "outputs": []
    },
    {
      "cell_type": "code",
      "source": [
        "# shape of images\n",
        "X_train.shape"
      ],
      "metadata": {
        "colab": {
          "base_uri": "https://localhost:8080/"
        },
        "id": "MCBBfPJwb6C7",
        "outputId": "2546ab3b-cb38-4831-d4bd-46b68c2e8220"
      },
      "execution_count": null,
      "outputs": [
        {
          "output_type": "execute_result",
          "data": {
            "text/plain": [
              "(16929, 2048)"
            ]
          },
          "metadata": {},
          "execution_count": 35
        }
      ]
    },
    {
      "cell_type": "code",
      "source": [
        "#defining the model architecture\n",
        "from tensorflow.keras import regularizers\n",
        "model = Sequential()\n",
        "model.add(Dense(1024, kernel_regularizer=regularizers.l2(0.001), activation='relu', input_shape=(2048,)))\n",
        "model.add(Dropout(0.5))\n",
        "model.add(Dense(512, kernel_regularizer=regularizers.l2(0.001), activation='relu'))\n",
        "model.add(Dropout(0.5))\n",
        "model.add(Dense(256, kernel_regularizer=regularizers.l2(0.001), activation='relu'))\n",
        "model.add(Dropout(0.5))\n",
        "model.add(Dense(128, kernel_regularizer=regularizers.l2(0.001), activation='relu'))\n",
        "model.add(Dropout(0.5))\n",
        "model.add(Dense(2, activation='softmax'))"
      ],
      "metadata": {
        "id": "E7u3jP7-b6H-"
      },
      "execution_count": null,
      "outputs": []
    },
    {
      "cell_type": "code",
      "source": [
        "# defining a function to save the weights of best model\n",
        "from keras.callbacks import ModelCheckpoint\n",
        "mcp_save = ModelCheckpoint('weight.hdf5', save_best_only=True, monitor='val_loss', mode='min')"
      ],
      "metadata": {
        "id": "7T0OoFSYb6Me"
      },
      "execution_count": null,
      "outputs": []
    },
    {
      "cell_type": "code",
      "source": [
        "# compiling the model\n",
        "model.compile(loss='categorical_crossentropy',optimizer='Adam',metrics=['accuracy'])"
      ],
      "metadata": {
        "id": "Fkwo9H0Ob6Pd"
      },
      "execution_count": null,
      "outputs": []
    },
    {
      "cell_type": "code",
      "source": [
        "epochs = 100\n",
        "# training the model\n",
        "history = model.fit(X_train, y_train, epochs=epochs, validation_data=(X_test, y_test), callbacks=[mcp_save], batch_size=128)"
      ],
      "metadata": {
        "colab": {
          "base_uri": "https://localhost:8080/"
        },
        "id": "jUF8Pc_2b6S0",
        "outputId": "e1cdd693-3e6f-4af7-818b-9c6e037a673a"
      },
      "execution_count": null,
      "outputs": [
        {
          "output_type": "stream",
          "name": "stdout",
          "text": [
            "Epoch 1/100\n",
            "133/133 [==============================] - 12s 85ms/step - loss: 1.3781 - accuracy: 0.6077 - val_loss: 0.8252 - val_accuracy: 0.7189\n",
            "Epoch 2/100\n",
            "133/133 [==============================] - 11s 84ms/step - loss: 0.7486 - accuracy: 0.7153 - val_loss: 0.6583 - val_accuracy: 0.7494\n",
            "Epoch 3/100\n",
            "133/133 [==============================] - 11s 84ms/step - loss: 0.6557 - accuracy: 0.7354 - val_loss: 0.6016 - val_accuracy: 0.7701\n",
            "Epoch 4/100\n",
            "133/133 [==============================] - 11s 82ms/step - loss: 0.6009 - accuracy: 0.7590 - val_loss: 0.5580 - val_accuracy: 0.7860\n",
            "Epoch 5/100\n",
            "133/133 [==============================] - 11s 81ms/step - loss: 0.5715 - accuracy: 0.7705 - val_loss: 0.5476 - val_accuracy: 0.7907\n",
            "Epoch 6/100\n",
            "133/133 [==============================] - 11s 83ms/step - loss: 0.5698 - accuracy: 0.7735 - val_loss: 0.5316 - val_accuracy: 0.8004\n",
            "Epoch 7/100\n",
            "133/133 [==============================] - 11s 84ms/step - loss: 0.5473 - accuracy: 0.7820 - val_loss: 0.5598 - val_accuracy: 0.7742\n",
            "Epoch 8/100\n",
            "133/133 [==============================] - 11s 82ms/step - loss: 0.5287 - accuracy: 0.7969 - val_loss: 0.5008 - val_accuracy: 0.8098\n",
            "Epoch 9/100\n",
            "133/133 [==============================] - 11s 81ms/step - loss: 0.5310 - accuracy: 0.7969 - val_loss: 0.4892 - val_accuracy: 0.8283\n",
            "Epoch 10/100\n",
            "133/133 [==============================] - 12s 94ms/step - loss: 0.5196 - accuracy: 0.8016 - val_loss: 0.4745 - val_accuracy: 0.8382\n",
            "Epoch 11/100\n",
            "133/133 [==============================] - 14s 106ms/step - loss: 0.5223 - accuracy: 0.7966 - val_loss: 0.4956 - val_accuracy: 0.8183\n",
            "Epoch 12/100\n",
            "133/133 [==============================] - 11s 80ms/step - loss: 0.5039 - accuracy: 0.8074 - val_loss: 0.5202 - val_accuracy: 0.7959\n",
            "Epoch 13/100\n",
            "133/133 [==============================] - 11s 83ms/step - loss: 0.5047 - accuracy: 0.8046 - val_loss: 0.4734 - val_accuracy: 0.8306\n",
            "Epoch 14/100\n",
            "133/133 [==============================] - 12s 87ms/step - loss: 0.4935 - accuracy: 0.8106 - val_loss: 0.4548 - val_accuracy: 0.8408\n",
            "Epoch 15/100\n",
            "133/133 [==============================] - 11s 83ms/step - loss: 0.4845 - accuracy: 0.8153 - val_loss: 0.4500 - val_accuracy: 0.8417\n",
            "Epoch 16/100\n",
            "133/133 [==============================] - 11s 80ms/step - loss: 0.4893 - accuracy: 0.8136 - val_loss: 0.4778 - val_accuracy: 0.8297\n",
            "Epoch 17/100\n",
            "133/133 [==============================] - 11s 80ms/step - loss: 0.4827 - accuracy: 0.8173 - val_loss: 0.4853 - val_accuracy: 0.8183\n",
            "Epoch 18/100\n",
            "133/133 [==============================] - 11s 81ms/step - loss: 0.4857 - accuracy: 0.8164 - val_loss: 0.4462 - val_accuracy: 0.8446\n",
            "Epoch 19/100\n",
            "133/133 [==============================] - 12s 87ms/step - loss: 0.4830 - accuracy: 0.8100 - val_loss: 0.4430 - val_accuracy: 0.8490\n",
            "Epoch 20/100\n",
            "133/133 [==============================] - 11s 84ms/step - loss: 0.4602 - accuracy: 0.8283 - val_loss: 0.4381 - val_accuracy: 0.8450\n",
            "Epoch 21/100\n",
            "133/133 [==============================] - 11s 83ms/step - loss: 0.4721 - accuracy: 0.8195 - val_loss: 0.4441 - val_accuracy: 0.8498\n",
            "Epoch 22/100\n",
            "133/133 [==============================] - 14s 103ms/step - loss: 0.4658 - accuracy: 0.8245 - val_loss: 0.4354 - val_accuracy: 0.8479\n",
            "Epoch 23/100\n",
            "133/133 [==============================] - 11s 82ms/step - loss: 0.4597 - accuracy: 0.8247 - val_loss: 0.4381 - val_accuracy: 0.8502\n",
            "Epoch 24/100\n",
            "133/133 [==============================] - 12s 87ms/step - loss: 0.4568 - accuracy: 0.8232 - val_loss: 0.4570 - val_accuracy: 0.8389\n",
            "Epoch 25/100\n",
            "133/133 [==============================] - 11s 83ms/step - loss: 0.4622 - accuracy: 0.8191 - val_loss: 0.4272 - val_accuracy: 0.8512\n",
            "Epoch 26/100\n",
            "133/133 [==============================] - 11s 79ms/step - loss: 0.4519 - accuracy: 0.8249 - val_loss: 0.4405 - val_accuracy: 0.8481\n",
            "Epoch 27/100\n",
            "133/133 [==============================] - 11s 81ms/step - loss: 0.4511 - accuracy: 0.8291 - val_loss: 0.4464 - val_accuracy: 0.8429\n",
            "Epoch 28/100\n",
            "133/133 [==============================] - 11s 82ms/step - loss: 0.4629 - accuracy: 0.8196 - val_loss: 0.4273 - val_accuracy: 0.8542\n",
            "Epoch 29/100\n",
            "133/133 [==============================] - 11s 84ms/step - loss: 0.4453 - accuracy: 0.8314 - val_loss: 0.4308 - val_accuracy: 0.8509\n",
            "Epoch 30/100\n",
            "133/133 [==============================] - 11s 80ms/step - loss: 0.4448 - accuracy: 0.8280 - val_loss: 0.4326 - val_accuracy: 0.8457\n",
            "Epoch 31/100\n",
            "133/133 [==============================] - 11s 80ms/step - loss: 0.4408 - accuracy: 0.8322 - val_loss: 0.4133 - val_accuracy: 0.8639\n",
            "Epoch 32/100\n",
            "133/133 [==============================] - 11s 82ms/step - loss: 0.4371 - accuracy: 0.8327 - val_loss: 0.4095 - val_accuracy: 0.8644\n",
            "Epoch 33/100\n",
            "133/133 [==============================] - 11s 79ms/step - loss: 0.4314 - accuracy: 0.8407 - val_loss: 0.4165 - val_accuracy: 0.8609\n",
            "Epoch 34/100\n",
            "133/133 [==============================] - 11s 83ms/step - loss: 0.4392 - accuracy: 0.8361 - val_loss: 0.4255 - val_accuracy: 0.8493\n",
            "Epoch 35/100\n",
            "133/133 [==============================] - 11s 84ms/step - loss: 0.4299 - accuracy: 0.8373 - val_loss: 0.4228 - val_accuracy: 0.8483\n",
            "Epoch 36/100\n",
            "133/133 [==============================] - 11s 81ms/step - loss: 0.4314 - accuracy: 0.8329 - val_loss: 0.4103 - val_accuracy: 0.8606\n",
            "Epoch 37/100\n",
            "133/133 [==============================] - 11s 81ms/step - loss: 0.4310 - accuracy: 0.8332 - val_loss: 0.4156 - val_accuracy: 0.8632\n",
            "Epoch 38/100\n",
            "133/133 [==============================] - 11s 81ms/step - loss: 0.4264 - accuracy: 0.8316 - val_loss: 0.4180 - val_accuracy: 0.8531\n",
            "Epoch 39/100\n",
            "133/133 [==============================] - 11s 82ms/step - loss: 0.4280 - accuracy: 0.8363 - val_loss: 0.3981 - val_accuracy: 0.8620\n",
            "Epoch 40/100\n",
            "133/133 [==============================] - 10s 78ms/step - loss: 0.4278 - accuracy: 0.8354 - val_loss: 0.4123 - val_accuracy: 0.8571\n",
            "Epoch 41/100\n",
            "133/133 [==============================] - 11s 81ms/step - loss: 0.4262 - accuracy: 0.8335 - val_loss: 0.4059 - val_accuracy: 0.8599\n",
            "Epoch 42/100\n",
            "133/133 [==============================] - 11s 81ms/step - loss: 0.4253 - accuracy: 0.8364 - val_loss: 0.4029 - val_accuracy: 0.8616\n",
            "Epoch 43/100\n",
            "133/133 [==============================] - 11s 79ms/step - loss: 0.4283 - accuracy: 0.8309 - val_loss: 0.4031 - val_accuracy: 0.8661\n",
            "Epoch 44/100\n",
            "133/133 [==============================] - 10s 78ms/step - loss: 0.4056 - accuracy: 0.8452 - val_loss: 0.4086 - val_accuracy: 0.8564\n",
            "Epoch 45/100\n",
            "133/133 [==============================] - 10s 79ms/step - loss: 0.4070 - accuracy: 0.8473 - val_loss: 0.3971 - val_accuracy: 0.8679\n",
            "Epoch 46/100\n",
            "133/133 [==============================] - 11s 81ms/step - loss: 0.4071 - accuracy: 0.8455 - val_loss: 0.4142 - val_accuracy: 0.8535\n",
            "Epoch 47/100\n",
            "133/133 [==============================] - 11s 82ms/step - loss: 0.4053 - accuracy: 0.8474 - val_loss: 0.3962 - val_accuracy: 0.8675\n",
            "Epoch 48/100\n",
            "133/133 [==============================] - 10s 79ms/step - loss: 0.4300 - accuracy: 0.8321 - val_loss: 0.4126 - val_accuracy: 0.8639\n",
            "Epoch 49/100\n",
            "133/133 [==============================] - 11s 79ms/step - loss: 0.4295 - accuracy: 0.8295 - val_loss: 0.4067 - val_accuracy: 0.8658\n",
            "Epoch 50/100\n",
            "133/133 [==============================] - 11s 81ms/step - loss: 0.4297 - accuracy: 0.8265 - val_loss: 0.4284 - val_accuracy: 0.8488\n",
            "Epoch 51/100\n",
            "133/133 [==============================] - 11s 80ms/step - loss: 0.4320 - accuracy: 0.8332 - val_loss: 0.4073 - val_accuracy: 0.8656\n",
            "Epoch 52/100\n",
            "133/133 [==============================] - 11s 81ms/step - loss: 0.4332 - accuracy: 0.8264 - val_loss: 0.3985 - val_accuracy: 0.8705\n",
            "Epoch 53/100\n",
            "133/133 [==============================] - 11s 81ms/step - loss: 0.4222 - accuracy: 0.8334 - val_loss: 0.4111 - val_accuracy: 0.8564\n",
            "Epoch 54/100\n",
            "133/133 [==============================] - 11s 81ms/step - loss: 0.4188 - accuracy: 0.8377 - val_loss: 0.3923 - val_accuracy: 0.8729\n",
            "Epoch 55/100\n",
            "133/133 [==============================] - 11s 81ms/step - loss: 0.4082 - accuracy: 0.8415 - val_loss: 0.4195 - val_accuracy: 0.8571\n",
            "Epoch 56/100\n",
            "133/133 [==============================] - 10s 78ms/step - loss: 0.4114 - accuracy: 0.8403 - val_loss: 0.3957 - val_accuracy: 0.8665\n",
            "Epoch 57/100\n",
            "133/133 [==============================] - 11s 80ms/step - loss: 0.4027 - accuracy: 0.8454 - val_loss: 0.4045 - val_accuracy: 0.8625\n",
            "Epoch 58/100\n",
            "133/133 [==============================] - 11s 82ms/step - loss: 0.4221 - accuracy: 0.8354 - val_loss: 0.4088 - val_accuracy: 0.8601\n",
            "Epoch 59/100\n",
            "133/133 [==============================] - 11s 82ms/step - loss: 0.4185 - accuracy: 0.8363 - val_loss: 0.4039 - val_accuracy: 0.8710\n",
            "Epoch 60/100\n",
            "133/133 [==============================] - 11s 81ms/step - loss: 0.4159 - accuracy: 0.8375 - val_loss: 0.4149 - val_accuracy: 0.8672\n",
            "Epoch 61/100\n",
            "133/133 [==============================] - 11s 80ms/step - loss: 0.4199 - accuracy: 0.8329 - val_loss: 0.3978 - val_accuracy: 0.8675\n",
            "Epoch 62/100\n",
            "133/133 [==============================] - 11s 82ms/step - loss: 0.4073 - accuracy: 0.8396 - val_loss: 0.4011 - val_accuracy: 0.8687\n",
            "Epoch 63/100\n",
            "133/133 [==============================] - 12s 92ms/step - loss: 0.4082 - accuracy: 0.8399 - val_loss: 0.3959 - val_accuracy: 0.8696\n",
            "Epoch 64/100\n",
            "133/133 [==============================] - 14s 103ms/step - loss: 0.4008 - accuracy: 0.8461 - val_loss: 0.4195 - val_accuracy: 0.8514\n",
            "Epoch 65/100\n",
            "133/133 [==============================] - 11s 85ms/step - loss: 0.4104 - accuracy: 0.8420 - val_loss: 0.4024 - val_accuracy: 0.8684\n",
            "Epoch 66/100\n",
            "133/133 [==============================] - 11s 81ms/step - loss: 0.4042 - accuracy: 0.8451 - val_loss: 0.3905 - val_accuracy: 0.8757\n",
            "Epoch 67/100\n",
            "133/133 [==============================] - 11s 81ms/step - loss: 0.4210 - accuracy: 0.8364 - val_loss: 0.3939 - val_accuracy: 0.8668\n",
            "Epoch 68/100\n",
            "133/133 [==============================] - 11s 79ms/step - loss: 0.3958 - accuracy: 0.8506 - val_loss: 0.4101 - val_accuracy: 0.8639\n",
            "Epoch 69/100\n",
            "133/133 [==============================] - 11s 81ms/step - loss: 0.4031 - accuracy: 0.8433 - val_loss: 0.4406 - val_accuracy: 0.8549\n",
            "Epoch 70/100\n",
            "133/133 [==============================] - 11s 79ms/step - loss: 0.3928 - accuracy: 0.8480 - val_loss: 0.3846 - val_accuracy: 0.8757\n",
            "Epoch 71/100\n",
            "133/133 [==============================] - 10s 79ms/step - loss: 0.3987 - accuracy: 0.8449 - val_loss: 0.4094 - val_accuracy: 0.8561\n",
            "Epoch 72/100\n",
            "133/133 [==============================] - 10s 77ms/step - loss: 0.4189 - accuracy: 0.8400 - val_loss: 0.3938 - val_accuracy: 0.8696\n",
            "Epoch 73/100\n",
            "133/133 [==============================] - 10s 77ms/step - loss: 0.4073 - accuracy: 0.8445 - val_loss: 0.3945 - val_accuracy: 0.8653\n",
            "Epoch 74/100\n",
            "133/133 [==============================] - 10s 77ms/step - loss: 0.4105 - accuracy: 0.8418 - val_loss: 0.3862 - val_accuracy: 0.8755\n",
            "Epoch 75/100\n",
            "133/133 [==============================] - 10s 77ms/step - loss: 0.4180 - accuracy: 0.8392 - val_loss: 0.3988 - val_accuracy: 0.8630\n",
            "Epoch 76/100\n",
            "133/133 [==============================] - 10s 77ms/step - loss: 0.4015 - accuracy: 0.8475 - val_loss: 0.3940 - val_accuracy: 0.8720\n",
            "Epoch 77/100\n",
            "133/133 [==============================] - 10s 79ms/step - loss: 0.4003 - accuracy: 0.8478 - val_loss: 0.3907 - val_accuracy: 0.8819\n",
            "Epoch 78/100\n",
            "133/133 [==============================] - 11s 79ms/step - loss: 0.4188 - accuracy: 0.8347 - val_loss: 0.4128 - val_accuracy: 0.8611\n",
            "Epoch 79/100\n",
            "133/133 [==============================] - 11s 82ms/step - loss: 0.4110 - accuracy: 0.8389 - val_loss: 0.4006 - val_accuracy: 0.8736\n",
            "Epoch 80/100\n",
            "133/133 [==============================] - 11s 80ms/step - loss: 0.4094 - accuracy: 0.8410 - val_loss: 0.3870 - val_accuracy: 0.8760\n",
            "Epoch 81/100\n",
            "133/133 [==============================] - 10s 77ms/step - loss: 0.4047 - accuracy: 0.8419 - val_loss: 0.3937 - val_accuracy: 0.8722\n",
            "Epoch 82/100\n",
            "133/133 [==============================] - 10s 79ms/step - loss: 0.4129 - accuracy: 0.8379 - val_loss: 0.4231 - val_accuracy: 0.8516\n",
            "Epoch 83/100\n",
            "133/133 [==============================] - 10s 78ms/step - loss: 0.4173 - accuracy: 0.8368 - val_loss: 0.3903 - val_accuracy: 0.8762\n",
            "Epoch 84/100\n",
            "133/133 [==============================] - 11s 80ms/step - loss: 0.4053 - accuracy: 0.8435 - val_loss: 0.4016 - val_accuracy: 0.8661\n",
            "Epoch 85/100\n",
            "133/133 [==============================] - 11s 80ms/step - loss: 0.4187 - accuracy: 0.8337 - val_loss: 0.3951 - val_accuracy: 0.8684\n",
            "Epoch 86/100\n",
            "133/133 [==============================] - 12s 89ms/step - loss: 0.4187 - accuracy: 0.8327 - val_loss: 0.4098 - val_accuracy: 0.8613\n",
            "Epoch 87/100\n",
            "133/133 [==============================] - 12s 92ms/step - loss: 0.4200 - accuracy: 0.8314 - val_loss: 0.4004 - val_accuracy: 0.8677\n",
            "Epoch 88/100\n",
            "133/133 [==============================] - 12s 91ms/step - loss: 0.4056 - accuracy: 0.8427 - val_loss: 0.4158 - val_accuracy: 0.8561\n",
            "Epoch 89/100\n",
            "133/133 [==============================] - 12s 89ms/step - loss: 0.4056 - accuracy: 0.8409 - val_loss: 0.3882 - val_accuracy: 0.8764\n",
            "Epoch 90/100\n",
            "133/133 [==============================] - 12s 94ms/step - loss: 0.4078 - accuracy: 0.8436 - val_loss: 0.4086 - val_accuracy: 0.8616\n",
            "Epoch 91/100\n",
            "133/133 [==============================] - 12s 92ms/step - loss: 0.3995 - accuracy: 0.8442 - val_loss: 0.3927 - val_accuracy: 0.8774\n",
            "Epoch 92/100\n",
            "133/133 [==============================] - 12s 93ms/step - loss: 0.4057 - accuracy: 0.8386 - val_loss: 0.3912 - val_accuracy: 0.8708\n",
            "Epoch 93/100\n",
            "133/133 [==============================] - 12s 88ms/step - loss: 0.4121 - accuracy: 0.8337 - val_loss: 0.4063 - val_accuracy: 0.8627\n",
            "Epoch 94/100\n",
            "133/133 [==============================] - 12s 87ms/step - loss: 0.4062 - accuracy: 0.8403 - val_loss: 0.4044 - val_accuracy: 0.8694\n",
            "Epoch 95/100\n",
            "133/133 [==============================] - 11s 86ms/step - loss: 0.4170 - accuracy: 0.8305 - val_loss: 0.3824 - val_accuracy: 0.8694\n",
            "Epoch 96/100\n",
            "133/133 [==============================] - 12s 91ms/step - loss: 0.4068 - accuracy: 0.8396 - val_loss: 0.3854 - val_accuracy: 0.8774\n",
            "Epoch 97/100\n",
            "133/133 [==============================] - 12s 87ms/step - loss: 0.3952 - accuracy: 0.8456 - val_loss: 0.3837 - val_accuracy: 0.8755\n",
            "Epoch 98/100\n",
            "133/133 [==============================] - 11s 82ms/step - loss: 0.3987 - accuracy: 0.8431 - val_loss: 0.3896 - val_accuracy: 0.8698\n",
            "Epoch 99/100\n",
            "133/133 [==============================] - 11s 83ms/step - loss: 0.4258 - accuracy: 0.8210 - val_loss: 0.4119 - val_accuracy: 0.8587\n",
            "Epoch 100/100\n",
            "133/133 [==============================] - 11s 81ms/step - loss: 0.4439 - accuracy: 0.8128 - val_loss: 0.4219 - val_accuracy: 0.8609\n"
          ]
        }
      ]
    },
    {
      "cell_type": "code",
      "source": [
        "acc = history.history['accuracy']\n",
        "val_acc = history.history['val_accuracy']\n",
        "loss = history.history['loss']\n",
        "val_loss = history.history['val_loss']\n",
        "epochs_range = range(epochs)\n",
        "plt.figure(figsize=(8, 8))\n",
        "plt.subplot(1, 2, 1)\n",
        "plt.plot(epochs_range, acc, label='Training Accuracy')\n",
        "plt.plot(epochs_range, val_acc, label='Validation Accuracy')\n",
        "plt.legend(loc='lower right')\n",
        "plt.title('Training and Validation Accuracy')\n",
        "plt.subplot(1, 2, 2)\n",
        "plt.plot(epochs_range, loss, label='Training Loss')\n",
        "plt.plot(epochs_range, val_loss, label='Validation Loss')\n",
        "plt.legend(loc='upper right')\n",
        "plt.title('Training and Validation Loss')\n",
        "plt.show()\n"
      ],
      "metadata": {
        "colab": {
          "base_uri": "https://localhost:8080/",
          "height": 499
        },
        "id": "ji0OppsAlM5k",
        "outputId": "298efb8c-25be-4bc9-80fa-fed1b55e98e6"
      },
      "execution_count": null,
      "outputs": [
        {
          "output_type": "display_data",
          "data": {
            "image/png": "[encoded data removed]",
            "text/plain": [
              "<Figure size 576x576 with 2 Axes>"
            ]
          },
          "metadata": {
            "needs_background": "light"
          }
        }
      ]
    },
    {
      "cell_type": "code",
      "source": [
        "from keras.models import Sequential\n",
        "from keras.layers import Dense, Dropout, Flatten\n",
        "from keras.layers import Conv2D, MaxPooling2D\n",
        "from keras.preprocessing import image\n",
        "import numpy as np\n",
        "import pandas as pd\n",
        "from tqdm import tqdm\n",
        "from keras.applications.vgg16 import VGG16\n",
        "import cv2\n",
        "import math\n",
        "import os\n",
        "from glob import glob\n",
        "from scipy import stats as s"
      ],
      "metadata": {
        "id": "c2e2w4lDb6Y6"
      },
      "execution_count": null,
      "outputs": []
    },
    {
      "cell_type": "code",
      "source": [
        "base_model = VGG16(weights='imagenet', include_top=False)"
      ],
      "metadata": {
        "id": "NPZBHQYNb6cV"
      },
      "execution_count": null,
      "outputs": []
    },
    {
      "cell_type": "code",
      "source": [
        "#defining the model architecture\n",
        "model = Sequential()\n",
        "model.add(Dense(1024, activation='relu', input_shape=(2048,)))\n",
        "model.add(Dropout(0.5))\n",
        "model.add(Dense(512, activation='relu'))\n",
        "model.add(Dropout(0.5))\n",
        "model.add(Dense(256, activation='relu'))\n",
        "model.add(Dropout(0.5))\n",
        "model.add(Dense(128, activation='relu'))\n",
        "model.add(Dropout(0.5))\n",
        "model.add(Dense(101, activation='softmax'))"
      ],
      "metadata": {
        "id": "lAe9-5o3cLgK"
      },
      "execution_count": null,
      "outputs": []
    },
    {
      "cell_type": "code",
      "source": [
        "# loading the trained weights\n",
        "model.load_weights(\"weights.hdf5\")"
      ],
      "metadata": {
        "colab": {
          "base_uri": "https://localhost:8080/",
          "height": 520
        },
        "id": "pSBeboeOcLis",
        "outputId": "9fa56d03-46a3-4577-a907-b576173cfb9d"
      },
      "execution_count": null,
      "outputs": [
        {
          "output_type": "error",
          "ename": "OSError",
          "evalue": "ignored",
          "traceback": [
            "\u001b[0;31m---------------------------------------------------------------------------\u001b[0m",
            "\u001b[0;31mOSError\u001b[0m                                   Traceback (most recent call last)",
            "\u001b[0;32m<ipython-input-81-05523aa87238>\u001b[0m in \u001b[0;36m<module>\u001b[0;34m()\u001b[0m\n\u001b[1;32m      1\u001b[0m \u001b[0;31m# loading the trained weights\u001b[0m\u001b[0;34m\u001b[0m\u001b[0;34m\u001b[0m\u001b[0;34m\u001b[0m\u001b[0m\n\u001b[0;32m----> 2\u001b[0;31m \u001b[0mmodel\u001b[0m\u001b[0;34m.\u001b[0m\u001b[0mload_weights\u001b[0m\u001b[0;34m(\u001b[0m\u001b[0;34m\"weights.hdf5\"\u001b[0m\u001b[0;34m)\u001b[0m\u001b[0;34m\u001b[0m\u001b[0;34m\u001b[0m\u001b[0m\n\u001b[0m",
            "\u001b[0;32m/usr/local/lib/python3.7/dist-packages/keras/utils/traceback_utils.py\u001b[0m in \u001b[0;36merror_handler\u001b[0;34m(*args, **kwargs)\u001b[0m\n\u001b[1;32m     65\u001b[0m     \u001b[0;32mexcept\u001b[0m \u001b[0mException\u001b[0m \u001b[0;32mas\u001b[0m \u001b[0me\u001b[0m\u001b[0;34m:\u001b[0m  \u001b[0;31m# pylint: disable=broad-except\u001b[0m\u001b[0;34m\u001b[0m\u001b[0;34m\u001b[0m\u001b[0m\n\u001b[1;32m     66\u001b[0m       \u001b[0mfiltered_tb\u001b[0m \u001b[0;34m=\u001b[0m \u001b[0m_process_traceback_frames\u001b[0m\u001b[0;34m(\u001b[0m\u001b[0me\u001b[0m\u001b[0;34m.\u001b[0m\u001b[0m__traceback__\u001b[0m\u001b[0;34m)\u001b[0m\u001b[0;34m\u001b[0m\u001b[0;34m\u001b[0m\u001b[0m\n\u001b[0;32m---> 67\u001b[0;31m       \u001b[0;32mraise\u001b[0m \u001b[0me\u001b[0m\u001b[0;34m.\u001b[0m\u001b[0mwith_traceback\u001b[0m\u001b[0;34m(\u001b[0m\u001b[0mfiltered_tb\u001b[0m\u001b[0;34m)\u001b[0m \u001b[0;32mfrom\u001b[0m \u001b[0;32mNone\u001b[0m\u001b[0;34m\u001b[0m\u001b[0;34m\u001b[0m\u001b[0m\n\u001b[0m\u001b[1;32m     68\u001b[0m     \u001b[0;32mfinally\u001b[0m\u001b[0;34m:\u001b[0m\u001b[0;34m\u001b[0m\u001b[0;34m\u001b[0m\u001b[0m\n\u001b[1;32m     69\u001b[0m       \u001b[0;32mdel\u001b[0m \u001b[0mfiltered_tb\u001b[0m\u001b[0;34m\u001b[0m\u001b[0;34m\u001b[0m\u001b[0m\n",
            "\u001b[0;32m/usr/local/lib/python3.7/dist-packages/h5py/_hl/files.py\u001b[0m in \u001b[0;36m__init__\u001b[0;34m(self, name, mode, driver, libver, userblock_size, swmr, rdcc_nslots, rdcc_nbytes, rdcc_w0, track_order, fs_strategy, fs_persist, fs_threshold, **kwds)\u001b[0m\n\u001b[1;32m    425\u001b[0m                                fapl, fcpl=make_fcpl(track_order=track_order, fs_strategy=fs_strategy,\n\u001b[1;32m    426\u001b[0m                                fs_persist=fs_persist, fs_threshold=fs_threshold),\n\u001b[0;32m--> 427\u001b[0;31m                                swmr=swmr)\n\u001b[0m\u001b[1;32m    428\u001b[0m \u001b[0;34m\u001b[0m\u001b[0m\n\u001b[1;32m    429\u001b[0m             \u001b[0;32mif\u001b[0m \u001b[0misinstance\u001b[0m\u001b[0;34m(\u001b[0m\u001b[0mlibver\u001b[0m\u001b[0;34m,\u001b[0m \u001b[0mtuple\u001b[0m\u001b[0;34m)\u001b[0m\u001b[0;34m:\u001b[0m\u001b[0;34m\u001b[0m\u001b[0;34m\u001b[0m\u001b[0m\n",
            "\u001b[0;32m/usr/local/lib/python3.7/dist-packages/h5py/_hl/files.py\u001b[0m in \u001b[0;36mmake_fid\u001b[0;34m(name, mode, userblock_size, fapl, fcpl, swmr)\u001b[0m\n\u001b[1;32m    188\u001b[0m         \u001b[0;32mif\u001b[0m \u001b[0mswmr\u001b[0m \u001b[0;32mand\u001b[0m \u001b[0mswmr_support\u001b[0m\u001b[0;34m:\u001b[0m\u001b[0;34m\u001b[0m\u001b[0;34m\u001b[0m\u001b[0m\n\u001b[1;32m    189\u001b[0m             \u001b[0mflags\u001b[0m \u001b[0;34m|=\u001b[0m \u001b[0mh5f\u001b[0m\u001b[0;34m.\u001b[0m\u001b[0mACC_SWMR_READ\u001b[0m\u001b[0;34m\u001b[0m\u001b[0;34m\u001b[0m\u001b[0m\n\u001b[0;32m--> 190\u001b[0;31m         \u001b[0mfid\u001b[0m \u001b[0;34m=\u001b[0m \u001b[0mh5f\u001b[0m\u001b[0;34m.\u001b[0m\u001b[0mopen\u001b[0m\u001b[0;34m(\u001b[0m\u001b[0mname\u001b[0m\u001b[0;34m,\u001b[0m \u001b[0mflags\u001b[0m\u001b[0;34m,\u001b[0m \u001b[0mfapl\u001b[0m\u001b[0;34m=\u001b[0m\u001b[0mfapl\u001b[0m\u001b[0;34m)\u001b[0m\u001b[0;34m\u001b[0m\u001b[0;34m\u001b[0m\u001b[0m\n\u001b[0m\u001b[1;32m    191\u001b[0m     \u001b[0;32melif\u001b[0m \u001b[0mmode\u001b[0m \u001b[0;34m==\u001b[0m \u001b[0;34m'r+'\u001b[0m\u001b[0;34m:\u001b[0m\u001b[0;34m\u001b[0m\u001b[0;34m\u001b[0m\u001b[0m\n\u001b[1;32m    192\u001b[0m         \u001b[0mfid\u001b[0m \u001b[0;34m=\u001b[0m \u001b[0mh5f\u001b[0m\u001b[0;34m.\u001b[0m\u001b[0mopen\u001b[0m\u001b[0;34m(\u001b[0m\u001b[0mname\u001b[0m\u001b[0;34m,\u001b[0m \u001b[0mh5f\u001b[0m\u001b[0;34m.\u001b[0m\u001b[0mACC_RDWR\u001b[0m\u001b[0;34m,\u001b[0m \u001b[0mfapl\u001b[0m\u001b[0;34m=\u001b[0m\u001b[0mfapl\u001b[0m\u001b[0;34m)\u001b[0m\u001b[0;34m\u001b[0m\u001b[0;34m\u001b[0m\u001b[0m\n",
            "\u001b[0;32mh5py/_objects.pyx\u001b[0m in \u001b[0;36mh5py._objects.with_phil.wrapper\u001b[0;34m()\u001b[0m\n",
            "\u001b[0;32mh5py/_objects.pyx\u001b[0m in \u001b[0;36mh5py._objects.with_phil.wrapper\u001b[0;34m()\u001b[0m\n",
            "\u001b[0;32mh5py/h5f.pyx\u001b[0m in \u001b[0;36mh5py.h5f.open\u001b[0;34m()\u001b[0m\n",
            "\u001b[0;31mOSError\u001b[0m: Unable to open file (unable to open file: name = 'weights.hdf5', errno = 2, error message = 'No such file or directory', flags = 0, o_flags = 0)"
          ]
        }
      ]
    },
    {
      "cell_type": "code",
      "source": [
        "# compiling the model\n",
        "model.compile(loss='categorical_crossentropy',optimizer='Adam',metrics=['accuracy'])"
      ],
      "metadata": {
        "id": "Iym4J6DScLmN"
      },
      "execution_count": null,
      "outputs": []
    },
    {
      "cell_type": "code",
      "source": [
        "# getting the test list\n",
        "f = open(\"/content/drive/Shareddrives/FinalProject/yt_videos/Test-list01.txt\", \"r\")\n",
        "temp = f.read()\n",
        "videos = temp.split('\\n')\n",
        "# creating the dataframe\n",
        "test = pd.DataFrame()\n",
        "test['video_name'] = videos\n",
        "test = test[:-1]\n",
        "test_videos = test['video_name']\n",
        "test.head()"
      ],
      "metadata": {
        "colab": {
          "base_uri": "https://localhost:8080/",
          "height": 206
        },
        "id": "pldCj0uncLo9",
        "outputId": "d66db5a8-59dd-41c8-bc4f-3c35a5cebfc9"
      },
      "execution_count": null,
      "outputs": [
        {
          "output_type": "execute_result",
          "data": {
            "text/html": [
              "<div>\n",
              "<style scoped>\n",
              "    .dataframe tbody tr th:only-of-type {\n",
              "        vertical-align: middle;\n",
              "    }\n",
              "\n",
              "    .dataframe tbody tr th {\n",
              "        vertical-align: top;\n",
              "    }\n",
              "\n",
              "    .dataframe thead th {\n",
              "        text-align: right;\n",
              "    }\n",
              "</style>\n",
              "<table border=\"1\" class=\"dataframe\">\n",
              "  <thead>\n",
              "    <tr style=\"text-align: right;\">\n",
              "      <th></th>\n",
              "      <th>video_name</th>\n",
              "    </tr>\n",
              "  </thead>\n",
              "  <tbody>\n",
              "    <tr>\n",
              "      <th>0</th>\n",
              "      <td>kid_friendly/kf1.mp4</td>\n",
              "    </tr>\n",
              "    <tr>\n",
              "      <th>1</th>\n",
              "      <td>kid_friendly/kf2.mp4</td>\n",
              "    </tr>\n",
              "    <tr>\n",
              "      <th>2</th>\n",
              "      <td>kid_friendly/kf3.mp4</td>\n",
              "    </tr>\n",
              "    <tr>\n",
              "      <th>3</th>\n",
              "      <td>kid_friendly/kf4.mp4</td>\n",
              "    </tr>\n",
              "    <tr>\n",
              "      <th>4</th>\n",
              "      <td>kid_friendly/kf5.mp4</td>\n",
              "    </tr>\n",
              "  </tbody>\n",
              "</table>\n",
              "</div>"
            ],
            "text/plain": [
              "             video_name\n",
              "0  kid_friendly/kf1.mp4\n",
              "1  kid_friendly/kf2.mp4\n",
              "2  kid_friendly/kf3.mp4\n",
              "3  kid_friendly/kf4.mp4\n",
              "4  kid_friendly/kf5.mp4"
            ]
          },
          "metadata": {},
          "execution_count": 83
        }
      ]
    },
    {
      "cell_type": "code",
      "source": [
        "# creating the tags\n",
        "train = pd.read_csv('/content/drive/Shareddrives/FinalProject/yt_train_new.csv')\n",
        "y = train['class']\n",
        "y = pd.get_dummies(y)"
      ],
      "metadata": {
        "id": "CRmopRFPcLr0"
      },
      "execution_count": null,
      "outputs": []
    },
    {
      "cell_type": "code",
      "source": [
        "predict = []\n",
        "actual = []\n",
        "# for loop to extract frames from each test video\n",
        "for i in tqdm(range(test_videos.shape[0])):\n",
        "  count = 0\n",
        "  videoFile = test_videos[i]\n",
        "  #pdb.set_trace()\n",
        "  cap = cv2.VideoCapture('/content/drive/Shareddrives/FinalProject/yt_videos/'+videoFile.split(' ')[0])   # capturing the video from the given path\n",
        "  frameRate = cap.get(5) #frame rate\n",
        "  x=1\n",
        "  # removing all other files from the temp folder\n",
        "  files = glob('temp/*')\n",
        "  for f in files:\n",
        "    os.remove(f)\n",
        "  while(cap.isOpened()):\n",
        "    frameId = cap.get(1) #current frame number\n",
        "    ret, frame = cap.read()\n",
        "    if (ret != True):\n",
        "      break\n",
        "    if (frameId % math.floor(frameRate) == 0):\n",
        "# storing the frames of this particular video in temp folder\n",
        "      filename ='temp/' + \"_frame%d.jpg\" % count;count+=1\n",
        "      cv2.imwrite(filename, frame)\n",
        "  cap.release()\n",
        "# reading all the frames from temp folder\n",
        "images = glob(\"temp/*.jpg\")"
      ],
      "metadata": {
        "colab": {
          "base_uri": "https://localhost:8080/"
        },
        "id": "BgAmYewfcLus",
        "outputId": "7191a6cf-5fd6-4070-e717-ab7b87cc2e9f"
      },
      "execution_count": null,
      "outputs": [
        {
          "output_type": "stream",
          "name": "stderr",
          "text": [
            "100%|██████████| 99/99 [26:27<00:00, 16.04s/it]\n"
          ]
        }
      ]
    },
    {
      "cell_type": "code",
      "source": [
        "prediction_images = []\n",
        "for i in range(len(images)):\n",
        "  img = image.load_img(images[i], target_size=(64,64,3))\n",
        "  img = image.img_to_array(img)\n",
        "  img = img/255\n",
        "  prediction_images.append(img)\n",
        "# converting all the frames for a test video into numpy array\n",
        "prediction_images = np.array(prediction_images)\n",
        "# extracting features using pre-trained model\n",
        "prediction_images = base_model.predict(prediction_images)\n",
        "# converting features in one dimensional array\n",
        "prediction_images = prediction_images.reshape(prediction_images.shape[0], 2*2*512)\n",
        "# predicting tags for each array\n",
        "#prediction = model.predict_classes(prediction_images)\n",
        "prediction = np.argmax(model.predict(prediction_images), axis=0)\n",
        "# appending the mode of predictions in predict list to assign the tag to the video\n",
        "predict.append(y.columns.values[s.mode(prediction)[0][0]])\n",
        "# appending the actual tag of the video\n",
        "actual.append(videoFile.split('/')[1].split('_')[1])"
      ],
      "metadata": {
        "colab": {
          "base_uri": "https://localhost:8080/",
          "height": 288
        },
        "id": "a9FoKqH_6LCJ",
        "outputId": "2cad190f-aca4-4df3-8524-60d5090c8b3f"
      },
      "execution_count": null,
      "outputs": [
        {
          "output_type": "error",
          "ename": "IndexError",
          "evalue": "ignored",
          "traceback": [
            "\u001b[0;31m---------------------------------------------------------------------------\u001b[0m",
            "\u001b[0;31mIndexError\u001b[0m                                Traceback (most recent call last)",
            "\u001b[0;32m<ipython-input-89-c4716ba00e6f>\u001b[0m in \u001b[0;36m<module>\u001b[0;34m()\u001b[0m\n\u001b[1;32m     15\u001b[0m \u001b[0mprediction\u001b[0m \u001b[0;34m=\u001b[0m \u001b[0mnp\u001b[0m\u001b[0;34m.\u001b[0m\u001b[0margmax\u001b[0m\u001b[0;34m(\u001b[0m\u001b[0mmodel\u001b[0m\u001b[0;34m.\u001b[0m\u001b[0mpredict\u001b[0m\u001b[0;34m(\u001b[0m\u001b[0mprediction_images\u001b[0m\u001b[0;34m)\u001b[0m\u001b[0;34m,\u001b[0m \u001b[0maxis\u001b[0m\u001b[0;34m=\u001b[0m\u001b[0;36m0\u001b[0m\u001b[0;34m)\u001b[0m\u001b[0;34m\u001b[0m\u001b[0;34m\u001b[0m\u001b[0m\n\u001b[1;32m     16\u001b[0m \u001b[0;31m# appending the mode of predictions in predict list to assign the tag to the video\u001b[0m\u001b[0;34m\u001b[0m\u001b[0;34m\u001b[0m\u001b[0;34m\u001b[0m\u001b[0m\n\u001b[0;32m---> 17\u001b[0;31m \u001b[0mpredict\u001b[0m\u001b[0;34m.\u001b[0m\u001b[0mappend\u001b[0m\u001b[0;34m(\u001b[0m\u001b[0my\u001b[0m\u001b[0;34m.\u001b[0m\u001b[0mcolumns\u001b[0m\u001b[0;34m.\u001b[0m\u001b[0mvalues\u001b[0m\u001b[0;34m[\u001b[0m\u001b[0ms\u001b[0m\u001b[0;34m.\u001b[0m\u001b[0mmode\u001b[0m\u001b[0;34m(\u001b[0m\u001b[0mprediction\u001b[0m\u001b[0;34m)\u001b[0m\u001b[0;34m[\u001b[0m\u001b[0;36m0\u001b[0m\u001b[0;34m]\u001b[0m\u001b[0;34m]\u001b[0m\u001b[0;34m)\u001b[0m\u001b[0;34m\u001b[0m\u001b[0;34m\u001b[0m\u001b[0m\n\u001b[0m\u001b[1;32m     18\u001b[0m \u001b[0;31m# appending the actual tag of the video\u001b[0m\u001b[0;34m\u001b[0m\u001b[0;34m\u001b[0m\u001b[0;34m\u001b[0m\u001b[0m\n\u001b[1;32m     19\u001b[0m \u001b[0mactual\u001b[0m\u001b[0;34m.\u001b[0m\u001b[0mappend\u001b[0m\u001b[0;34m(\u001b[0m\u001b[0mvideoFile\u001b[0m\u001b[0;34m.\u001b[0m\u001b[0msplit\u001b[0m\u001b[0;34m(\u001b[0m\u001b[0;34m'/'\u001b[0m\u001b[0;34m)\u001b[0m\u001b[0;34m[\u001b[0m\u001b[0;36m1\u001b[0m\u001b[0;34m]\u001b[0m\u001b[0;34m.\u001b[0m\u001b[0msplit\u001b[0m\u001b[0;34m(\u001b[0m\u001b[0;34m'_'\u001b[0m\u001b[0;34m)\u001b[0m\u001b[0;34m[\u001b[0m\u001b[0;36m1\u001b[0m\u001b[0;34m]\u001b[0m\u001b[0;34m)\u001b[0m\u001b[0;34m\u001b[0m\u001b[0;34m\u001b[0m\u001b[0m\n",
            "\u001b[0;31mIndexError\u001b[0m: index 179 is out of bounds for axis 0 with size 2"
          ]
        }
      ]
    },
    {
      "cell_type": "code",
      "source": [
        "# checking the accuracy of the predicted tags\n",
        "from sklearn.metrics import accuracy_score\n",
        "accuracy_score(predict, actual)*100"
      ],
      "metadata": {
        "id": "Dga1mWmOcL1N"
      },
      "execution_count": null,
      "outputs": []
    }
  ]
}