{
  "nbformat": 4,
  "nbformat_minor": 0,
  "metadata": {
    "colab": {
      "name": "New_Final_Project.ipynb",
      "provenance": [],
      "collapsed_sections": [],
      "authorship_tag": "ABX9TyPduPsAXjhF/l78w/3BiH/S",
      "include_colab_link": true
    },
    "kernelspec": {
      "name": "python3",
      "display_name": "Python 3"
    },
    "language_info": {
      "name": "python"
    }
  },
  "cells": [
    {
      "cell_type": "markdown",
      "metadata": {
        "id": "view-in-github",
        "colab_type": "text"
      },
      "source": [
        "<a href=\"https://colab.research.google.com/github/vuhpham94/nflx-data-projects-g6/blob/main/New_Final_Project.ipynb\" target=\"_parent\"><img src=\"https://colab.research.google.com/assets/colab-badge.svg\" alt=\"Open In Colab\"/></a>"
      ]
    },
    {
      "cell_type": "code",
      "execution_count": 1,
      "metadata": {
        "colab": {
          "base_uri": "https://localhost:8080/"
        },
        "id": "l-GNZ20FczVt",
        "outputId": "ed86acd6-19ba-484d-a956-27b9645da8db"
      },
      "outputs": [
        {
          "output_type": "stream",
          "name": "stdout",
          "text": [
            "Mounted at /content/drive\n"
          ]
        }
      ],
      "source": [
        "# gdrive connection\n",
        "from google.colab import drive\n",
        "drive.mount('/content/drive')"
      ]
    },
    {
      "cell_type": "code",
      "source": [
        "import cv2     # for capturing videos\n",
        "import math   # for mathematical operations\n",
        "import matplotlib.pyplot as plt    # for plotting the images\n",
        "%matplotlib inline\n",
        "import pandas as pd\n",
        "from keras.preprocessing import image   # for preprocessing the images\n",
        "import numpy as np    # for mathematical operations\n",
        "from keras.utils import np_utils\n",
        "from skimage.transform import resize   # for resizing images\n",
        "from sklearn.model_selection import train_test_split\n",
        "from glob import glob\n",
        "from tqdm import tqdm\n",
        "import pdb;"
      ],
      "metadata": {
        "id": "jDt0eOnqo-28"
      },
      "execution_count": 14,
      "outputs": []
    },
    {
      "cell_type": "code",
      "source": [
        "# open the .txt file which have names of training videos\n",
        "train_path = \"/content/drive/Shareddrives/FinalProject/yt_videos/Train-list01.txt\"\n",
        "f = open(train_path, \"r\")\n",
        "temp = f.read()\n",
        "videos = temp.split('\\n')\n",
        "# creating a dataframe having video names\n",
        "train = pd.DataFrame()\n",
        "train['video_name'] = videos\n",
        "train = train[:-1]\n",
        "train.head()"
      ],
      "metadata": {
        "colab": {
          "base_uri": "https://localhost:8080/",
          "height": 206
        },
        "id": "FWHy7zQBpAxP",
        "outputId": "3f870975-fb70-446e-cbe5-df348fbf86f9"
      },
      "execution_count": 15,
      "outputs": [
        {
          "output_type": "execute_result",
          "data": {
            "text/html": [
              "<div>\n",
              "<style scoped>\n",
              "    .dataframe tbody tr th:only-of-type {\n",
              "        vertical-align: middle;\n",
              "    }\n",
              "\n",
              "    .dataframe tbody tr th {\n",
              "        vertical-align: top;\n",
              "    }\n",
              "\n",
              "    .dataframe thead th {\n",
              "        text-align: right;\n",
              "    }\n",
              "</style>\n",
              "<table border=\"1\" class=\"dataframe\">\n",
              "  <thead>\n",
              "    <tr style=\"text-align: right;\">\n",
              "      <th></th>\n",
              "      <th>video_name</th>\n",
              "    </tr>\n",
              "  </thead>\n",
              "  <tbody>\n",
              "    <tr>\n",
              "      <th>0</th>\n",
              "      <td>kid_friendly/kf1.mp4</td>\n",
              "    </tr>\n",
              "    <tr>\n",
              "      <th>1</th>\n",
              "      <td>kid_friendly/kf2.mp4</td>\n",
              "    </tr>\n",
              "    <tr>\n",
              "      <th>2</th>\n",
              "      <td>kid_friendly/kf3.mp4</td>\n",
              "    </tr>\n",
              "    <tr>\n",
              "      <th>3</th>\n",
              "      <td>kid_friendly/kf4.mp4</td>\n",
              "    </tr>\n",
              "    <tr>\n",
              "      <th>4</th>\n",
              "      <td>kid_friendly/kf5.mp4</td>\n",
              "    </tr>\n",
              "  </tbody>\n",
              "</table>\n",
              "</div>"
            ],
            "text/plain": [
              "             video_name\n",
              "0  kid_friendly/kf1.mp4\n",
              "1  kid_friendly/kf2.mp4\n",
              "2  kid_friendly/kf3.mp4\n",
              "3  kid_friendly/kf4.mp4\n",
              "4  kid_friendly/kf5.mp4"
            ]
          },
          "metadata": {},
          "execution_count": 15
        }
      ]
    },
    {
      "cell_type": "code",
      "source": [
        "# open the .txt file which have names of test videos\n",
        "test_path = \"/content/drive/Shareddrives/FinalProject/yt_videos/Test-list01.txt\"\n",
        "f = open(test_path, \"r\")\n",
        "temp = f.read()\n",
        "videos = temp.split('\\n')\n",
        "# creating a dataframe having video names\n",
        "test = pd.DataFrame()\n",
        "test['video_name'] = videos\n",
        "test = test[:-1]\n",
        "test.head()"
      ],
      "metadata": {
        "colab": {
          "base_uri": "https://localhost:8080/",
          "height": 206
        },
        "id": "w21lbDg3pUC3",
        "outputId": "e267fd27-75b7-4119-b0be-f203030a0b9a"
      },
      "execution_count": 16,
      "outputs": [
        {
          "output_type": "execute_result",
          "data": {
            "text/html": [
              "<div>\n",
              "<style scoped>\n",
              "    .dataframe tbody tr th:only-of-type {\n",
              "        vertical-align: middle;\n",
              "    }\n",
              "\n",
              "    .dataframe tbody tr th {\n",
              "        vertical-align: top;\n",
              "    }\n",
              "\n",
              "    .dataframe thead th {\n",
              "        text-align: right;\n",
              "    }\n",
              "</style>\n",
              "<table border=\"1\" class=\"dataframe\">\n",
              "  <thead>\n",
              "    <tr style=\"text-align: right;\">\n",
              "      <th></th>\n",
              "      <th>video_name</th>\n",
              "    </tr>\n",
              "  </thead>\n",
              "  <tbody>\n",
              "    <tr>\n",
              "      <th>0</th>\n",
              "      <td>kid_friendly/kf1.mp4</td>\n",
              "    </tr>\n",
              "    <tr>\n",
              "      <th>1</th>\n",
              "      <td>kid_friendly/kf2.mp4</td>\n",
              "    </tr>\n",
              "    <tr>\n",
              "      <th>2</th>\n",
              "      <td>kid_friendly/kf3.mp4</td>\n",
              "    </tr>\n",
              "    <tr>\n",
              "      <th>3</th>\n",
              "      <td>kid_friendly/kf4.mp4</td>\n",
              "    </tr>\n",
              "    <tr>\n",
              "      <th>4</th>\n",
              "      <td>kid_friendly/kf5.mp4</td>\n",
              "    </tr>\n",
              "  </tbody>\n",
              "</table>\n",
              "</div>"
            ],
            "text/plain": [
              "             video_name\n",
              "0  kid_friendly/kf1.mp4\n",
              "1  kid_friendly/kf2.mp4\n",
              "2  kid_friendly/kf3.mp4\n",
              "3  kid_friendly/kf4.mp4\n",
              "4  kid_friendly/kf5.mp4"
            ]
          },
          "metadata": {},
          "execution_count": 16
        }
      ]
    },
    {
      "cell_type": "code",
      "source": [
        "# creating tags for training videos\n",
        "train_video_tag = []\n",
        "test_debug = []\n",
        "for i in range(train.shape[0]):\n",
        "  train_video_tag.append(train['video_name'][i].split('/')[0])\n",
        "  \n",
        "train['tag'] = train_video_tag\n",
        "train.head()"
      ],
      "metadata": {
        "colab": {
          "base_uri": "https://localhost:8080/",
          "height": 206
        },
        "id": "X0MRz1Vwp2eO",
        "outputId": "43276727-5360-4f70-ce97-b13c6e4f1fd6"
      },
      "execution_count": 17,
      "outputs": [
        {
          "output_type": "execute_result",
          "data": {
            "text/html": [
              "<div>\n",
              "<style scoped>\n",
              "    .dataframe tbody tr th:only-of-type {\n",
              "        vertical-align: middle;\n",
              "    }\n",
              "\n",
              "    .dataframe tbody tr th {\n",
              "        vertical-align: top;\n",
              "    }\n",
              "\n",
              "    .dataframe thead th {\n",
              "        text-align: right;\n",
              "    }\n",
              "</style>\n",
              "<table border=\"1\" class=\"dataframe\">\n",
              "  <thead>\n",
              "    <tr style=\"text-align: right;\">\n",
              "      <th></th>\n",
              "      <th>video_name</th>\n",
              "      <th>tag</th>\n",
              "    </tr>\n",
              "  </thead>\n",
              "  <tbody>\n",
              "    <tr>\n",
              "      <th>0</th>\n",
              "      <td>kid_friendly/kf1.mp4</td>\n",
              "      <td>kid_friendly</td>\n",
              "    </tr>\n",
              "    <tr>\n",
              "      <th>1</th>\n",
              "      <td>kid_friendly/kf2.mp4</td>\n",
              "      <td>kid_friendly</td>\n",
              "    </tr>\n",
              "    <tr>\n",
              "      <th>2</th>\n",
              "      <td>kid_friendly/kf3.mp4</td>\n",
              "      <td>kid_friendly</td>\n",
              "    </tr>\n",
              "    <tr>\n",
              "      <th>3</th>\n",
              "      <td>kid_friendly/kf4.mp4</td>\n",
              "      <td>kid_friendly</td>\n",
              "    </tr>\n",
              "    <tr>\n",
              "      <th>4</th>\n",
              "      <td>kid_friendly/kf5.mp4</td>\n",
              "      <td>kid_friendly</td>\n",
              "    </tr>\n",
              "  </tbody>\n",
              "</table>\n",
              "</div>"
            ],
            "text/plain": [
              "             video_name           tag\n",
              "0  kid_friendly/kf1.mp4  kid_friendly\n",
              "1  kid_friendly/kf2.mp4  kid_friendly\n",
              "2  kid_friendly/kf3.mp4  kid_friendly\n",
              "3  kid_friendly/kf4.mp4  kid_friendly\n",
              "4  kid_friendly/kf5.mp4  kid_friendly"
            ]
          },
          "metadata": {},
          "execution_count": 17
        }
      ]
    },
    {
      "cell_type": "code",
      "source": [
        "# creating tags for test videos\n",
        "test_video_tag = []\n",
        "for i in range(test.shape[0]):\n",
        "  test_video_tag.append(test['video_name'][i].split('/')[0])\n",
        "test['tag'] = test_video_tag\n",
        "test.head()"
      ],
      "metadata": {
        "colab": {
          "base_uri": "https://localhost:8080/",
          "height": 206
        },
        "id": "m6Te_b7CqFxt",
        "outputId": "935512ea-af90-43d2-acd7-52d344a1f8d7"
      },
      "execution_count": 18,
      "outputs": [
        {
          "output_type": "execute_result",
          "data": {
            "text/html": [
              "<div>\n",
              "<style scoped>\n",
              "    .dataframe tbody tr th:only-of-type {\n",
              "        vertical-align: middle;\n",
              "    }\n",
              "\n",
              "    .dataframe tbody tr th {\n",
              "        vertical-align: top;\n",
              "    }\n",
              "\n",
              "    .dataframe thead th {\n",
              "        text-align: right;\n",
              "    }\n",
              "</style>\n",
              "<table border=\"1\" class=\"dataframe\">\n",
              "  <thead>\n",
              "    <tr style=\"text-align: right;\">\n",
              "      <th></th>\n",
              "      <th>video_name</th>\n",
              "      <th>tag</th>\n",
              "    </tr>\n",
              "  </thead>\n",
              "  <tbody>\n",
              "    <tr>\n",
              "      <th>0</th>\n",
              "      <td>kid_friendly/kf1.mp4</td>\n",
              "      <td>kid_friendly</td>\n",
              "    </tr>\n",
              "    <tr>\n",
              "      <th>1</th>\n",
              "      <td>kid_friendly/kf2.mp4</td>\n",
              "      <td>kid_friendly</td>\n",
              "    </tr>\n",
              "    <tr>\n",
              "      <th>2</th>\n",
              "      <td>kid_friendly/kf3.mp4</td>\n",
              "      <td>kid_friendly</td>\n",
              "    </tr>\n",
              "    <tr>\n",
              "      <th>3</th>\n",
              "      <td>kid_friendly/kf4.mp4</td>\n",
              "      <td>kid_friendly</td>\n",
              "    </tr>\n",
              "    <tr>\n",
              "      <th>4</th>\n",
              "      <td>kid_friendly/kf5.mp4</td>\n",
              "      <td>kid_friendly</td>\n",
              "    </tr>\n",
              "  </tbody>\n",
              "</table>\n",
              "</div>"
            ],
            "text/plain": [
              "             video_name           tag\n",
              "0  kid_friendly/kf1.mp4  kid_friendly\n",
              "1  kid_friendly/kf2.mp4  kid_friendly\n",
              "2  kid_friendly/kf3.mp4  kid_friendly\n",
              "3  kid_friendly/kf4.mp4  kid_friendly\n",
              "4  kid_friendly/kf5.mp4  kid_friendly"
            ]
          },
          "metadata": {},
          "execution_count": 18
        }
      ]
    },
    {
      "cell_type": "code",
      "source": [
        "# storing the frames from training videos\n",
        "test_check = []\n",
        "for i in tqdm(range(train.shape[0])):\n",
        "  count = 0\n",
        "  videoFile = train['video_name'][i]\n",
        "  tag = train['tag'][i]\n",
        "  #print(videoFile)\n",
        "  #cap = cv2.VideoCapture('/content/drive/MyDrive/UCF-101/'+videoFile.split(' ')[0].split('/')[1])\n",
        "  # capturing the video from the given path\n",
        "  #pdb.set_trace()\n",
        "  #print(tag)\n",
        "  #print(videoFile.split(' ')[0].split('/')[1])\n",
        "  cap = cv2.VideoCapture('/content/drive/Shareddrives/FinalProject/yt_videos/'+tag+'/'+videoFile.split(' ')[0].split('/')[1]) \n",
        "  #cap = cv2.VideoCapture('/content/drive/Shareddrives/FinalProject/yt_videos/kid_friendly/kf1.mp4')\n",
        "  #print(videoFile)\n",
        "  #print(videoFile.split(' '))\n",
        "  #print(videoFile.split(' ')[0])\n",
        "  frameRate = cap.get(5) #frame rate\n",
        "  #print(frameRate)\n",
        "  x=1\n",
        "  #pdb.set_trace()\n",
        "  while(cap.isOpened()):\n",
        "    frameId = cap.get(1) #current frame number\n",
        "    ret, frame = cap.read()\n",
        "    if (ret != True):\n",
        "      break\n",
        "    #pdb.set_trace()\n",
        "    if (frameId % math.floor(frameRate) == 0):\n",
        "      #storing the frames in a new folder named train_1\n",
        "      filename ='/content/drive/Shareddrives/FinalProject/yt_train1/' + videoFile.split('/')[1].split(' ')[0] +\"_frame%d.jpg\" % count;\n",
        "      count+=1\n",
        "      cv2.imwrite(filename, frame)\n",
        "  cap.release()"
      ],
      "metadata": {
        "colab": {
          "base_uri": "https://localhost:8080/"
        },
        "id": "G6eFc2wgqKSg",
        "outputId": "24b50292-d4fe-4653-927b-649148d06cbc"
      },
      "execution_count": 28,
      "outputs": [
        {
          "output_type": "stream",
          "name": "stderr",
          "text": [
            "100%|██████████| 99/99 [28:34<00:00, 17.32s/it]\n"
          ]
        }
      ]
    },
    {
      "cell_type": "code",
      "source": [
        "images = glob(\"/content/drive/Shareddrives/FinalProject/yt_train1/*.jpg\" )\n",
        "train_image = []\n",
        "train_class = []\n",
        "for i in tqdm(range(len(images))):\n",
        "# creating the image name\n",
        "  #print(images[i].split('/')[-1])\n",
        "  train_image.append(images[i].split('/')[-1])\n",
        "  #print(images[i].split('/')[-1])\n",
        "# creating the class of image\n",
        "  if images[i].split('/')[-1][:2] == 'kf':\n",
        "      train_class.append('Friendly')\n",
        "  elif images[i].split('/')[-1][:2] == 'nk':\n",
        "      train_class.append('NotFriendly')\n",
        "  #train_class.append(images[i].split('/')[-1].split('_')[1])"
      ],
      "metadata": {
        "colab": {
          "base_uri": "https://localhost:8080/"
        },
        "id": "h9LHo1Jn1XFo",
        "outputId": "ebae03e4-c949-4b8a-b695-aa2fd4da2a9a"
      },
      "execution_count": 42,
      "outputs": [
        {
          "output_type": "stream",
          "name": "stderr",
          "text": [
            "100%|██████████| 21162/21162 [00:00<00:00, 272120.10it/s]\n"
          ]
        }
      ]
    },
    {
      "cell_type": "code",
      "source": [
        "print(train_image[:20])\n",
        "print(train_class[:20])"
      ],
      "metadata": {
        "colab": {
          "base_uri": "https://localhost:8080/"
        },
        "id": "Jns0Plwu10wF",
        "outputId": "f58389b8-11a0-4536-b951-d7f7c54b4bb2"
      },
      "execution_count": 44,
      "outputs": [
        {
          "output_type": "stream",
          "name": "stdout",
          "text": [
            "['kf1.mp4_frame0.jpg', 'kf1.mp4_frame1.jpg', 'kf1.mp4_frame2.jpg', 'kf1.mp4_frame3.jpg', 'kf1.mp4_frame4.jpg', 'kf1.mp4_frame5.jpg', 'kf1.mp4_frame6.jpg', 'kf1.mp4_frame7.jpg', 'kf1.mp4_frame8.jpg', 'kf1.mp4_frame9.jpg', 'kf1.mp4_frame10.jpg', 'kf1.mp4_frame11.jpg', 'kf1.mp4_frame12.jpg', 'kf1.mp4_frame13.jpg', 'kf1.mp4_frame14.jpg', 'kf1.mp4_frame15.jpg', 'kf1.mp4_frame16.jpg', 'kf1.mp4_frame17.jpg', 'kf1.mp4_frame18.jpg', 'kf1.mp4_frame19.jpg']\n",
            "['Friendly', 'Friendly', 'Friendly', 'Friendly', 'Friendly', 'Friendly', 'Friendly', 'Friendly', 'Friendly', 'Friendly', 'Friendly', 'Friendly', 'Friendly', 'Friendly', 'Friendly', 'Friendly', 'Friendly', 'Friendly', 'Friendly', 'Friendly']\n"
          ]
        }
      ]
    },
    {
      "cell_type": "code",
      "source": [
        "# getting the names of all the images\n",
        "# import pdb; \n",
        "# pdb.set_trace()\n",
        "images = glob(\"/content/drive/Shareddrives/FinalProject/yt_train1/*.jpg\" )\n",
        "train_image = []\n",
        "train_class = []\n",
        "for i in tqdm(range(len(images))):\n",
        "# creating the image name\n",
        "  #pdb.set_trace()\n",
        "  #print(images[i].split('/')[-1])\n",
        "#   train_image.append(images[i].split('/')[1])\n",
        "#   print(images[i].split('/')[1])\n",
        "# # creating the class of image\n",
        "#   train_class.append(images[i].split('/')[-1].split('_')[1])\n",
        "    train_image.append(images[i].split('/')[-1])\n",
        "# creating the class of image\n",
        "    if images[i].split('/')[-1][:2] == 'kf':\n",
        "        train_class.append('Friendly')\n",
        "    elif images[i].split('/')[-1][:2] == 'nk':\n",
        "        train_class.append('NotFriendly')\n",
        "# storing the images and their class in a dataframe\n",
        "train_data = pd.DataFrame()\n",
        "train_data['image'] = train_image\n",
        "train_data['class'] = train_class\n",
        "# converting the dataframe into csv file \n",
        "training_data_path = '/content/drive/Shareddrives/FinalProject/yt_train_new.csv'\n",
        "train_data.to_csv(training_data_path,header=True, index=False)"
      ],
      "metadata": {
        "colab": {
          "base_uri": "https://localhost:8080/"
        },
        "id": "JBjWhwJVq3_A",
        "outputId": "3fc5f929-a236-4c6b-d4ee-8570f747ad20"
      },
      "execution_count": 47,
      "outputs": [
        {
          "output_type": "stream",
          "name": "stderr",
          "text": [
            "100%|██████████| 21162/21162 [00:00<00:00, 485583.79it/s]\n"
          ]
        }
      ]
    },
    {
      "cell_type": "code",
      "source": [
        ""
      ],
      "metadata": {
        "id": "pRiEEssFqZ0C"
      },
      "execution_count": null,
      "outputs": []
    }
  ]
}