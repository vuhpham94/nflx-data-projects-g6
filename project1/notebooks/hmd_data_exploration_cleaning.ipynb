{
 "cells": [
  {
   "cell_type": "code",
   "execution_count": null,
   "id": "839b7abd",
   "metadata": {
    "slideshow": {
     "slide_type": "skip"
    }
   },
   "outputs": [],
   "source": [
    "# import dependencies\n",
    "from IPython.display import Image\n",
    "import pandas as pd\n",
    "import numpy as np\n",
    "import os\n",
    "import glob\n",
    "import pycountry_convert as pc"
   ]
  },
  {
   "cell_type": "markdown",
   "id": "4c3e4e64",
   "metadata": {
    "slideshow": {
     "slide_type": "slide"
    }
   },
   "source": [
    "# <center> Netflix Applied Data Science - Project 1 </center>\n",
    "## <center> Part 1: Dataset selection and data exploration</center>\n",
    "### <center> Group 6 </center>\n",
    "### <center>Vu, Alex, Kwabena </center>\n",
    "<br>\n",
    "<center> 10/14/2021 </center>\n"
   ]
  },
  {
   "cell_type": "markdown",
   "id": "f25da434",
   "metadata": {
    "slideshow": {
     "slide_type": "slide"
    }
   },
   "source": [
    "### Dataset selection\n",
    "Our group is highly interested in heathcare and medical relating dataset. After going through **[10 Great Healthcare Datasets](https://www.datasciencecentral.com/profiles/blogs/10-great-healthcare-data-sets)**, the **[Human Mortality Database (HMD)](https://www.mortality.org/)** was selected to investigate for this project because of its well-established data structure, well-documented matetials, and diversity by countries over the world."
   ]
  },
  {
   "cell_type": "markdown",
   "id": "57b9b9de",
   "metadata": {
    "slideshow": {
     "slide_type": "slide"
    }
   },
   "source": [
    "### Short-term Mortality Fluctuations (STMF) data series\n",
    "Available at **[Human Mortality Database (HMD)](<https://www.mortality.org/>)**\n",
    "<p>STMF input dataset provides weekly death counts for <b>38 countries</b>: Austria, Australia, Belgium, Bulgaria, Chile, Canada, Croatia, Czech Republic, Denmark, England and Wales, Estonia, Finland, France, Germany, Greece, Hungary, Iceland, Israel, Italy, Latvia, Lithuania, Luxembourg, Netherlands, New Zealand, Northern Ireland, Norway, Poland, Portugal, Republic of Korea, Russia, Scotland, Slovenia, Slovakia, Spain, Sweden, Switzerland, Taiwan and the USA.</p>"
   ]
  },
  {
   "cell_type": "code",
   "execution_count": null,
   "id": "20febe57",
   "metadata": {
    "slideshow": {
     "slide_type": "slide"
    }
   },
   "outputs": [],
   "source": [
    "Image(\"../resources/images/smtf_viz_tool.png\")"
   ]
  },
  {
   "cell_type": "markdown",
   "id": "b3e53e9b",
   "metadata": {
    "slideshow": {
     "slide_type": "slide"
    }
   },
   "source": [
    "#### Example of USA SMTF input CSV file"
   ]
  },
  {
   "cell_type": "code",
   "execution_count": null,
   "id": "f84fbc13",
   "metadata": {
    "slideshow": {
     "slide_type": "fragment"
    }
   },
   "outputs": [],
   "source": [
    "stmf_df = pd.read_csv('../resources/dataset/STMFinput/USAstmf.csv')\n",
    "print(stmf_df.info())\n",
    "stmf_df.head()"
   ]
  },
  {
   "cell_type": "markdown",
   "id": "7d7ac907",
   "metadata": {
    "slideshow": {
     "slide_type": "slide"
    }
   },
   "source": [
    "## Questions?\n",
    "0. Are we interested in human mortality or deaths?\n",
    "1. What do the factors such as age or gender tell us about deaths?\n",
    "2. Is there any different of death counts in different geographic location (continent) around the world?\n",
    "3. How the death counts over time (weeks/years) leave us clues about the causation of death?\n",
    "4. Why the weekly death counts are effective in demonstrating temporary global health hazards?"
   ]
  },
  {
   "cell_type": "code",
   "execution_count": null,
   "id": "e642fb6b",
   "metadata": {
    "slideshow": {
     "slide_type": "skip"
    }
   },
   "outputs": [],
   "source": [
    "def alpha3_to_continent(alpha3):\n",
    "    alpha2 = pc.country_alpha3_to_country_alpha2(alpha3)\n",
    "    cont_code = pc.country_alpha2_to_continent_code(alpha2)\n",
    "    return pc.convert_continent_code_to_continent_name(cont_code)"
   ]
  },
  {
   "cell_type": "markdown",
   "id": "89446f67",
   "metadata": {
    "slideshow": {
     "slide_type": "slide"
    }
   },
   "source": [
    "### Dataset import\n",
    "Import and merge country datasets into single dataframe by concatenating input dataframes read from CSV files."
   ]
  },
  {
   "cell_type": "code",
   "execution_count": null,
   "id": "d7941b6d",
   "metadata": {
    "slideshow": {
     "slide_type": "fragment"
    }
   },
   "outputs": [],
   "source": [
    "# read and merge all the CSV dataset in STMFinput/\n",
    "path = '../resources/dataset/STMFinput'\n",
    "all_files = glob.glob(os.path.join(path, \"*.csv\"))\n",
    "df = pd.concat([pd.read_csv(f, low_memory=False) for f in all_files], ignore_index=True)\n",
    "df.info()"
   ]
  },
  {
   "cell_type": "markdown",
   "id": "38160c20",
   "metadata": {
    "slideshow": {
     "slide_type": "slide"
    }
   },
   "source": [
    "### Dataset cleanup\n",
    "+ Correct mismatch input columns of CSV files\n",
    "+ Convert **Deaths** column to 64-bit integer\n",
    "+ Add **iso_alpha3** and **continent** columns for visualization\n",
    "+ Drop unnecessary rows (TOT and UNK in **Age** and **Week** columns)\n",
    "+ Split dataframe into two:\n",
    "    + one with gender difference **clean_df**,\n",
    "    + and other with combination of gender **all_clean_df**"
   ]
  },
  {
   "cell_type": "code",
   "execution_count": null,
   "id": "5d55d776",
   "metadata": {
    "slideshow": {
     "slide_type": "fragment"
    }
   },
   "outputs": [],
   "source": [
    "df['PopCode'] = df['PopCode'].replace(['a'], 'NOR')\n",
    "df['iso_alpha3'] = df['PopCode'].apply(lambda x: x[:3])\n",
    "df['continent'] = df['iso_alpha3'].apply(alpha3_to_continent)\n",
    "df['Deaths'] = df['Deaths'].replace(['.'], '0')\n",
    "df['Deaths'] = df['Deaths'].astype('int64')\n",
    "clean_df = df[(df['Age']!='TOT') & (df['Age']!='UNK') & (df['Week']!='UNK')]\n",
    "# print(clean_df['Age'].unique())\n",
    "clean_df['Age'] = clean_df['Age'].astype('int32')\n",
    "clean_df['Week'] = clean_df['Week'].astype('int32')\n",
    "all_clean_df = clean_df[clean_df['Sex']=='b'].reset_index(drop=True)\n",
    "clean_df = clean_df[clean_df['Sex']!='b'].reset_index(drop=True)"
   ]
  },
  {
   "cell_type": "markdown",
   "id": "8cd06ed2",
   "metadata": {
    "slideshow": {
     "slide_type": "slide"
    }
   },
   "source": [
    "**clean_df** includes **12 columns** and **1,253,884 rows** after cleaning."
   ]
  },
  {
   "cell_type": "code",
   "execution_count": null,
   "id": "e6400b67",
   "metadata": {
    "slideshow": {
     "slide_type": "fragment"
    }
   },
   "outputs": [],
   "source": [
    "print(clean_df.info())"
   ]
  },
  {
   "cell_type": "code",
   "execution_count": null,
   "id": "42da1724",
   "metadata": {
    "slideshow": {
     "slide_type": "subslide"
    }
   },
   "outputs": [],
   "source": [
    "clean_df.head(20)"
   ]
  },
  {
   "cell_type": "markdown",
   "id": "1a5a2276",
   "metadata": {
    "slideshow": {
     "slide_type": "subslide"
    }
   },
   "source": [
    "### Data exploration"
   ]
  },
  {
   "cell_type": "code",
   "execution_count": null,
   "id": "a0c2f3d6",
   "metadata": {
    "slideshow": {
     "slide_type": "fragment"
    }
   },
   "outputs": [],
   "source": [
    "clean_df.describe()"
   ]
  },
  {
   "cell_type": "code",
   "execution_count": null,
   "id": "25cf57df",
   "metadata": {
    "slideshow": {
     "slide_type": "fragment"
    }
   },
   "outputs": [],
   "source": [
    "clean_df[['Year', 'Week', 'Age', 'Deaths']].corr()"
   ]
  },
  {
   "cell_type": "markdown",
   "id": "0c081cc3",
   "metadata": {
    "slideshow": {
     "slide_type": "slide"
    }
   },
   "source": [
    "**all_clean_df** includes **12 columns** and **626,318 rows** after cleaning."
   ]
  },
  {
   "cell_type": "code",
   "execution_count": null,
   "id": "f4b02281",
   "metadata": {
    "slideshow": {
     "slide_type": "fragment"
    }
   },
   "outputs": [],
   "source": [
    "print(all_clean_df.info())"
   ]
  },
  {
   "cell_type": "code",
   "execution_count": null,
   "id": "0da7a22c",
   "metadata": {
    "slideshow": {
     "slide_type": "subslide"
    }
   },
   "outputs": [],
   "source": [
    "all_clean_df.head(20)"
   ]
  },
  {
   "cell_type": "markdown",
   "id": "d756472c",
   "metadata": {
    "slideshow": {
     "slide_type": "slide"
    }
   },
   "source": [
    "### Github collaboration & variables storing\n",
    "+ **[nflx-data-project1-group6](https://github.com/vuhpham94/nflx-data-project1-group6)** Github repository was created for our group's collaboration. We decided to have different branches for individual work. After cross-verifying, **main** branch will be merge from others.\n",
    "+ To prevent the data cleanup notebook from being modified when each group member is working, **clean_df** and **all_clean_df** variables is stored to be used in other Jupyter notebooks."
   ]
  },
  {
   "cell_type": "code",
   "execution_count": null,
   "id": "5689ecf8",
   "metadata": {
    "slideshow": {
     "slide_type": "fragment"
    }
   },
   "outputs": [],
   "source": [
    "%store clean_df all_clean_df"
   ]
  }
 ],
 "metadata": {
  "celltoolbar": "Slideshow",
  "kernelspec": {
   "display_name": "Python 3",
   "language": "python",
   "name": "python3"
  },
  "language_info": {
   "codemirror_mode": {
    "name": "ipython",
    "version": 3
   },
   "file_extension": ".py",
   "mimetype": "text/x-python",
   "name": "python",
   "nbconvert_exporter": "python",
   "pygments_lexer": "ipython3",
   "version": "3.8.8"
  }
 },
 "nbformat": 4,
 "nbformat_minor": 5
}
