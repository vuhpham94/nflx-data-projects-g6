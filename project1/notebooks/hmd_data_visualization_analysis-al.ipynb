{
 "cells": [
  {
   "cell_type": "code",
   "execution_count": null,
   "id": "c6de2886",
   "metadata": {},
   "outputs": [],
   "source": [
    "import numpy as np\n",
    "import pandas as pd\n",
    "import plotly.graph_objects as go\n",
    "import plotly.express as px\n",
    "import matplotlib.pyplot as plt\n",
    "import scipy.stats as sts"
   ]
  },
  {
   "cell_type": "code",
   "execution_count": null,
   "id": "68de234a",
   "metadata": {},
   "outputs": [],
   "source": [
    "%store -r clean_df all_clean_df\n",
    "clean_df =clean_df.drop(columns = [\"Area\",\"AgeInterval\",\"Type\",\"Access\"])\n",
    "clean_df[\"Age\"] = clean_df[\"Age\"].astype('int64')\n",
    "clean_df.info()"
   ]
  },
  {
   "cell_type": "code",
   "execution_count": null,
   "id": "8ebd411a",
   "metadata": {},
   "outputs": [],
   "source": [
    "#Use ALL the Graphs Below \n",
    "px.histogram(clean_df,\"Age\",\"Deaths\")"
   ]
  },
  {
   "cell_type": "markdown",
   "id": "6cb82f8b",
   "metadata": {},
   "source": [
    "#Findings\n",
    "<p> At Age 15 has a higher amount of deaths at 1.35 M than all ages up until Age 30.Possible Explainations E-Cigs and Vaping.Data has Left Skew and Peaks at 85</p>"
   ]
  },
  {
   "cell_type": "code",
   "execution_count": null,
   "id": "271b1e5c",
   "metadata": {},
   "outputs": [],
   "source": [
    "list_of_codes = clean_df[\"PopCode\"].unique()\n",
    "count = 0\n",
    "list_of_df = []\n",
    "for cd in list_of_codes:\n",
    "    s_df=clean_df.loc[clean_df[\"PopCode\"] == cd ]\n",
    "    px.histogram(s_df,\"Sex\",\"Deaths\",title = cd).show()"
   ]
  },
  {
   "cell_type": "code",
   "execution_count": null,
   "id": "7d280f39",
   "metadata": {},
   "outputs": [],
   "source": [
    "list_of_codes = clean_df[\"continent\"].unique()\n",
    "count = 0\n",
    "list_of_df = []\n",
    "for cd in list_of_codes:\n",
    "    s_df=clean_df.loc[clean_df[\"continent\"] == cd ]\n",
    "    px.histogram(s_df,\"Sex\",\"Deaths\",title = cd).show()"
   ]
  },
  {
   "cell_type": "markdown",
   "id": "517ef44b",
   "metadata": {},
   "source": [
    "#Findings \n",
    "<p>Males have a higher number of Deaths than females since the data was collected.Males in Asia have More Deaths than females. While Males in Oceania have a similar amount of deaths as females. Overall Trend Points to males having a higher death rate than females.Some Outliers GBR_NIR,HUN,FIN,AUT </p>\n"
   ]
  }
 ],
 "metadata": {
  "kernelspec": {
   "display_name": "Python 3",
   "language": "python",
   "name": "python3"
  },
  "language_info": {
   "codemirror_mode": {
    "name": "ipython",
    "version": 3
   },
   "file_extension": ".py",
   "mimetype": "text/x-python",
   "name": "python",
   "nbconvert_exporter": "python",
   "pygments_lexer": "ipython3",
   "version": "3.8.8"
  }
 },
 "nbformat": 4,
 "nbformat_minor": 5
}
