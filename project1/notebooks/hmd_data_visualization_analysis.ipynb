{
 "cells": [
  {
   "cell_type": "code",
   "execution_count": null,
   "id": "c6de2886",
   "metadata": {
    "slideshow": {
     "slide_type": "skip"
    }
   },
   "outputs": [],
   "source": [
    "import numpy as np\n",
    "import pandas as pd\n",
    "import matplotlib.pyplot as plt\n",
    "import plotly.express as px\n",
    "import plotly.graph_objects as go\n",
    "import pycountry_convert as pc"
   ]
  },
  {
   "cell_type": "markdown",
   "id": "0ef6d2af",
   "metadata": {
    "slideshow": {
     "slide_type": "slide"
    }
   },
   "source": [
    "# <center> Netflix Applied Data Science - Project 1 </center>\n",
    "## <center> Part 2: Data visualization and analysis</center>\n",
    "### <center> Group 6 </center>\n",
    "### <center>Vu, Alex, Kwabena </center>\n",
    "<br>\n",
    "<center> 10/14/2021 </center>"
   ]
  },
  {
   "cell_type": "markdown",
   "id": "fe7057e7",
   "metadata": {
    "slideshow": {
     "slide_type": "slide"
    }
   },
   "source": [
    "### Pre-work\n",
    "+ Recover **clean_df** and **all_clean_df** variables for visualization and analysis in this Jupyter Notebook\n",
    "+ Declare **functions** for further visualization work"
   ]
  },
  {
   "cell_type": "code",
   "execution_count": null,
   "id": "cf4ab5f9",
   "metadata": {
    "slideshow": {
     "slide_type": "fragment"
    }
   },
   "outputs": [],
   "source": [
    "%store -r clean_df all_clean_df"
   ]
  },
  {
   "cell_type": "code",
   "execution_count": null,
   "id": "1f81d933",
   "metadata": {
    "slideshow": {
     "slide_type": "fragment"
    }
   },
   "outputs": [],
   "source": [
    "# convert iso_alpha3 code to country name\n",
    "def alpha3_to_country(alpha3):\n",
    "    alpha2 = pc.country_alpha3_to_country_alpha2(alpha3)\n",
    "    return pc.country_alpha2_to_country_name(alpha2)"
   ]
  },
  {
   "cell_type": "markdown",
   "id": "ecb9b20a",
   "metadata": {
    "slideshow": {
     "slide_type": "skip"
    }
   },
   "source": [
    "### Alex's work on visualization"
   ]
  },
  {
   "cell_type": "code",
   "execution_count": null,
   "id": "7658d6b4",
   "metadata": {
    "slideshow": {
     "slide_type": "skip"
    }
   },
   "outputs": [],
   "source": [
    "al_clean_df = clean_df.drop(columns = [\"Area\",\"AgeInterval\",\"Type\",\"Access\"])\n",
    "# al_clean_df[\"Age\"] = al_clean_df[\"Age\"].astype('int64')"
   ]
  },
  {
   "cell_type": "code",
   "execution_count": null,
   "id": "9b1624f2",
   "metadata": {
    "slideshow": {
     "slide_type": "skip"
    }
   },
   "outputs": [],
   "source": [
    "age_death_fig = px.histogram(al_clean_df,\"Age\",\"Deaths\", title='Deaths by age')"
   ]
  },
  {
   "cell_type": "code",
   "execution_count": null,
   "id": "cd4830bf",
   "metadata": {
    "slideshow": {
     "slide_type": "slide"
    }
   },
   "outputs": [],
   "source": [
    "age_death_fig.show()"
   ]
  },
  {
   "cell_type": "markdown",
   "id": "5baee153",
   "metadata": {
    "slideshow": {
     "slide_type": "fragment"
    }
   },
   "source": [
    "+ At Age 15 has a higher amount of deaths at 1.35 M than all ages up until Age 30.\n",
    "+ Possible Explainations E-Cigs and Vaping.\n",
    "+ Data has Left Skew and Peaks at 85."
   ]
  },
  {
   "cell_type": "code",
   "execution_count": null,
   "id": "282fb9f3",
   "metadata": {
    "slideshow": {
     "slide_type": "slide"
    }
   },
   "outputs": [],
   "source": [
    "list_of_codes = al_clean_df[\"PopCode\"].unique()\n",
    "for cd in list_of_codes:\n",
    "    s_df = al_clean_df.loc[al_clean_df[\"PopCode\"] == cd ]\n",
    "    px.histogram(s_df,\"Sex\",\"Deaths\",title = cd).show()"
   ]
  },
  {
   "cell_type": "markdown",
   "id": "2d366572",
   "metadata": {
    "slideshow": {
     "slide_type": "subslide"
    }
   },
   "source": [
    "+ Males have a higher number of Deaths than females since the data was collected.\n",
    "+ Males in Asia have More Deaths than females.\n",
    "+ While males in Oceania have a similar amount of deaths as females.\n",
    "+ Overall Trend Points to males having a higher death rate than females.\n",
    "+ Some outliers: GBR_NIR, HUN, FIN, AUT."
   ]
  },
  {
   "cell_type": "markdown",
   "id": "a85849cc",
   "metadata": {
    "slideshow": {
     "slide_type": "skip"
    }
   },
   "source": [
    "### Kwabena's work on visualization"
   ]
  },
  {
   "cell_type": "code",
   "execution_count": null,
   "id": "980f0294",
   "metadata": {
    "slideshow": {
     "slide_type": "skip"
    }
   },
   "outputs": [],
   "source": [
    "group_1 = clean_df.groupby(\"Year\")[\"Deaths\"].sum()\n",
    "plot_up = px.line(group_1)#, width=800, height=400)\n",
    "plot_up.update_xaxes(\n",
    "        tickangle = 70,\n",
    "        title_text = \"YEARS\",\n",
    "        title_font = {\"size\": 20},\n",
    "        title_standoff = 25)\n",
    "\n",
    "plot_up.update_yaxes(\n",
    "        title_text = \"TOTAL NUMBER OF DEATHS\",\n",
    "        title_font = {\"size\": 20},\n",
    "        title_standoff = 25)\n",
    "plot_up.update_layout(title_text='LINE CHART OF TOTAL NUMBER OF DEATHS VERSUS YEARS', title_x=0.5)"
   ]
  },
  {
   "cell_type": "code",
   "execution_count": null,
   "id": "a7814335",
   "metadata": {
    "slideshow": {
     "slide_type": "slide"
    }
   },
   "outputs": [],
   "source": [
    "plot_up.show()"
   ]
  },
  {
   "cell_type": "markdown",
   "id": "71daaf96",
   "metadata": {
    "slideshow": {
     "slide_type": "fragment"
    }
   },
   "source": [
    "+ The Line chart displays a steady increase of deaths from the year 2000 to 2019.\n",
    "+ A sharp rise occurred from 2019 to 2020.\n",
    "+ The graph plummeted from 2020 to 2021, indicating the curtailment in mortality."
   ]
  },
  {
   "cell_type": "code",
   "execution_count": null,
   "id": "ab825bdf",
   "metadata": {
    "slideshow": {
     "slide_type": "skip"
    }
   },
   "outputs": [],
   "source": [
    "death_ave = clean_df.groupby(\"PopCode\")[\"Deaths\"].mean()\n",
    "death_ave_df = pd.DataFrame(death_ave)\n",
    "bar_plot = px.bar(death_ave_df)#, width=800, height=400)\n",
    "bar_plot.update_xaxes(tickangle = 70,\n",
    "        title_text = \"POPULATION CODE\",\n",
    "        title_font = {\"size\": 20},\n",
    "        title_standoff = 20)\n",
    "bar_plot.update_yaxes(\n",
    "        title_text = \"AVERAGE OF DEATHS\",\n",
    "        title_font = {\"size\": 20},\n",
    "        title_standoff = 40)\n",
    "bar_plot.update_layout(title_text='BAR CHART OF AVERAGE DEATHS VERSUS POPULATION CODE', title_x=0.5)"
   ]
  },
  {
   "cell_type": "code",
   "execution_count": null,
   "id": "11db7bb0",
   "metadata": {
    "slideshow": {
     "slide_type": "slide"
    }
   },
   "outputs": [],
   "source": [
    "bar_plot.show()"
   ]
  },
  {
   "cell_type": "markdown",
   "id": "67981c33",
   "metadata": {
    "slideshow": {
     "slide_type": "fragment"
    }
   },
   "source": [
    "+ USA leads with an Average of Deaths of approximately 2,918.\n",
    "+ Russia comes second with equivalently 1,010 Average of Deaths, followed by Canada.\n",
    "+ From observation, North America appears to top the chart with a high mortality rate."
   ]
  },
  {
   "cell_type": "code",
   "execution_count": null,
   "id": "90606c8d",
   "metadata": {
    "slideshow": {
     "slide_type": "skip"
    }
   },
   "outputs": [],
   "source": [
    "ave_group = clean_df.groupby(\"continent\")[\"Deaths\"].mean()\n",
    "ave_df = pd.DataFrame(ave_group)\n",
    "new_df = ave_df.reset_index()\n",
    "fig = px.pie(new_df, values='Deaths', names=\"continent\", title='AVERAGE OF DEATHS PER CONTINENT')#, width=800, height=400)"
   ]
  },
  {
   "cell_type": "code",
   "execution_count": null,
   "id": "57612362",
   "metadata": {
    "slideshow": {
     "slide_type": "slide"
    }
   },
   "outputs": [],
   "source": [
    "fig.show()"
   ]
  },
  {
   "cell_type": "markdown",
   "id": "ef3c5638",
   "metadata": {
    "slideshow": {
     "slide_type": "fragment"
    }
   },
   "source": [
    "+ North America presents a percentage of 73.7\n",
    "+ South America manifests as the continent with the lowest percentage of Death Average."
   ]
  },
  {
   "cell_type": "code",
   "execution_count": null,
   "id": "b2795c49",
   "metadata": {
    "slideshow": {
     "slide_type": "skip"
    }
   },
   "outputs": [],
   "source": [
    "USA_CAN = clean_df[(clean_df['PopCode']=='USA') | (clean_df['PopCode']== 'CAN')].reset_index()\n",
    "n_df= USA_CAN.groupby(['Year','Sex'])['Deaths'].mean()\n",
    "reset = n_df.reset_index()\n",
    "box_plot = px.box(reset, x='Sex', y='Deaths')#, width=800, height=400)\n",
    "box_plot.update_layout(xaxis_title = 'SEX', yaxis_title='AVERAGE OF DEATHS', title = 'BOX PLOT OF MALE & FEMALE DEATHS IN NORTH AMERICA', title_x = 0.5)"
   ]
  },
  {
   "cell_type": "code",
   "execution_count": null,
   "id": "9edfceb8",
   "metadata": {
    "slideshow": {
     "slide_type": "slide"
    }
   },
   "outputs": [],
   "source": [
    "box_plot.show()"
   ]
  },
  {
   "cell_type": "markdown",
   "id": "4203a944",
   "metadata": {
    "slideshow": {
     "slide_type": "fragment"
    }
   },
   "source": [
    "+ With the upper quartile (Q4) of about 695 Death Average for Males and a corresponding Average of 667 for their female counterparts, there was the observation of higher death rate in males than in females, considering the range of years in North America."
   ]
  },
  {
   "cell_type": "markdown",
   "id": "820f8a68",
   "metadata": {
    "slideshow": {
     "slide_type": "skip"
    }
   },
   "source": [
    "### Vu's work on visualization"
   ]
  },
  {
   "cell_type": "code",
   "execution_count": null,
   "id": "7c2afa5c",
   "metadata": {
    "slideshow": {
     "slide_type": "skip"
    }
   },
   "outputs": [],
   "source": [
    "years_df_l = []\n",
    "agg_func = {'Deaths': 'sum', 'iso_alpha3': 'first', 'continent': 'first'}\n",
    "\n",
    "# generate data list from 2010 to 2020\n",
    "for year in range(2010,2021):\n",
    "    year_df = all_clean_df[all_clean_df['Year'] == year]\n",
    "    d_by_country = year_df.groupby(by=['PopCode']).aggregate(agg_func)\n",
    "    d_by_country['Country'] = d_by_country['iso_alpha3'].apply(alpha3_to_country)\n",
    "    years_df_l.append(d_by_country)\n",
    "\n",
    "# Create figure\n",
    "years_fig = go.Figure(data=go.Choropleth(locations = years_df_l[0]['iso_alpha3'],\n",
    "                                   z = years_df_l[0]['Deaths'],\n",
    "                                   text = years_df_l[0]['Country'],\n",
    "                                   colorbar_title = \"Deaths\",\n",
    "                                   colorscale=\"Jet\"))\n",
    "\n",
    "# Add dropdowns\n",
    "years_fig.update_layout(\n",
    "    updatemenus=[\n",
    "        dict(\n",
    "            buttons=list([\n",
    "                dict(\n",
    "                    args=[{\"z\":[years_df_l[0]['Deaths']],\n",
    "                           \"locations\":[years_df_l[0]['iso_alpha3']],\n",
    "                           \"text\":[years_df_l[0]['Country']]}],\n",
    "                    label=\"2010\",\n",
    "                    method=\"restyle\"\n",
    "                ),\n",
    "                dict(\n",
    "                    args=[{\"z\":[years_df_l[1]['Deaths']],\n",
    "                           \"locations\":[years_df_l[1]['iso_alpha3']],\n",
    "                           \"text\":[years_df_l[1]['Country']]}],\n",
    "                    label=\"2011\",\n",
    "                    method=\"restyle\"\n",
    "                ),\n",
    "                dict(\n",
    "                    args=[{\"z\":[years_df_l[2]['Deaths']],\n",
    "                           \"locations\":[years_df_l[2]['iso_alpha3']],\n",
    "                           \"text\":[years_df_l[2]['Country']]}],\n",
    "                    label=\"2012\",\n",
    "                    method=\"restyle\"\n",
    "                ),\n",
    "                dict(\n",
    "                    args=[{\"z\":[years_df_l[3]['Deaths']],\n",
    "                           \"locations\":[years_df_l[3]['iso_alpha3']],\n",
    "                           \"text\":[years_df_l[3]['Country']]}],\n",
    "                    label=\"2013\",\n",
    "                    method=\"restyle\"\n",
    "                ),\n",
    "                dict(\n",
    "                    args=[{\"z\":[years_df_l[4]['Deaths']],\n",
    "                           \"locations\":[years_df_l[4]['iso_alpha3']],\n",
    "                           \"text\":[years_df_l[4]['Country']]}],\n",
    "                    label=\"2014\",\n",
    "                    method=\"restyle\"\n",
    "                ),\n",
    "                dict(\n",
    "                    args=[{\"z\":[years_df_l[5]['Deaths']],\n",
    "                           \"locations\":[years_df_l[5]['iso_alpha3']],\n",
    "                           \"text\":[years_df_l[5]['Country']]}],\n",
    "                    label=\"2015\",\n",
    "                    method=\"restyle\"\n",
    "                ),\n",
    "                dict(\n",
    "                    args=[{\"z\":[years_df_l[6]['Deaths']],\n",
    "                           \"locations\":[years_df_l[6]['iso_alpha3']],\n",
    "                           \"text\":[years_df_l[6]['Country']]}],\n",
    "                    label=\"2016\",\n",
    "                    method=\"restyle\"\n",
    "                ),\n",
    "                dict(\n",
    "                    args=[{\"z\":[years_df_l[7]['Deaths']],\n",
    "                           \"locations\":[years_df_l[7]['iso_alpha3']],\n",
    "                           \"text\":[years_df_l[7]['Country']]}],\n",
    "                    label=\"2017\",\n",
    "                    method=\"restyle\"\n",
    "                ),\n",
    "                dict(\n",
    "                    args=[{\"z\":[years_df_l[8]['Deaths']],\n",
    "                           \"locations\":[years_df_l[8]['iso_alpha3']],\n",
    "                           \"text\":[years_df_l[8]['Country']]}],\n",
    "                    label=\"2018\",\n",
    "                    method=\"restyle\"\n",
    "                ),\n",
    "                dict(\n",
    "                    args=[{\"z\":[years_df_l[9]['Deaths']],\n",
    "                           \"locations\":[years_df_l[9]['iso_alpha3']],\n",
    "                           \"text\":[years_df_l[9]['Country']]}],\n",
    "                    label=\"2019\",\n",
    "                    method=\"restyle\"\n",
    "                ),\n",
    "                dict(\n",
    "                    args=[{\"z\":[years_df_l[10]['Deaths']],\n",
    "                           \"locations\":[years_df_l[10]['iso_alpha3']],\n",
    "                           \"text\":[years_df_l[10]['Country']]}],\n",
    "                    label=\"2020\",\n",
    "                    method=\"restyle\"\n",
    "                ),\n",
    "            ]),\n",
    "            direction=\"down\",\n",
    "            pad={\"r\": 1, \"t\": 1},\n",
    "            showactive=True,\n",
    "            x=0.7,\n",
    "            xanchor=\"center\",\n",
    "            y=1.18,\n",
    "            yanchor=\"top\"\n",
    "        ),\n",
    "    ]\n",
    ")\n",
    "\n",
    "years_fig.update_layout(\n",
    "    title={\n",
    "        'text': \"Deaths by Year\",\n",
    "        'y':0.9,\n",
    "        'x':0.5,\n",
    "        'xanchor': 'center',\n",
    "        'yanchor': 'top'}\n",
    ")"
   ]
  },
  {
   "cell_type": "code",
   "execution_count": null,
   "id": "122c6e1b",
   "metadata": {
    "slideshow": {
     "slide_type": "slide"
    }
   },
   "outputs": [],
   "source": [
    "years_fig.show()"
   ]
  },
  {
   "cell_type": "code",
   "execution_count": null,
   "id": "9cc312dd",
   "metadata": {
    "slideshow": {
     "slide_type": "skip"
    }
   },
   "outputs": [],
   "source": [
    "usa_df = all_clean_df[all_clean_df['PopCode']=='USA']\n",
    "d_by_week = usa_df.groupby(by=['Year','Week'])['Deaths'].sum().reset_index()\n",
    "usa_fig = px.line(d_by_week, x='Week', y='Deaths', color='Year', title='Death counts in USA')"
   ]
  },
  {
   "cell_type": "code",
   "execution_count": null,
   "id": "a7c915e7",
   "metadata": {
    "slideshow": {
     "slide_type": "slide"
    }
   },
   "outputs": [],
   "source": [
    "usa_fig.show()"
   ]
  },
  {
   "cell_type": "markdown",
   "id": "cfa8fb5e",
   "metadata": {
    "slideshow": {
     "slide_type": "fragment"
    }
   },
   "source": [
    "+ In the past years (2015-2019), US death counts are reported slightly changes depending on the seasons.\n",
    "+ Weekly death counts in USA have been reflecting the impact of COVID-19 pandemic since 2020.\n",
    "+ Started from January 2021, US death counts drop sharply because of vaccination rollout."
   ]
  },
  {
   "cell_type": "code",
   "execution_count": null,
   "id": "1e64ce7a",
   "metadata": {
    "slideshow": {
     "slide_type": "skip"
    }
   },
   "outputs": [],
   "source": [
    "agg_func = {'Deaths': 'sum', 'iso_alpha3': 'first', 'continent': 'first'}\n",
    "year2021_df = all_clean_df[all_clean_df['Year'] == 2021]\n",
    "d2021_by_country = year2021_df.groupby(by=['PopCode']).aggregate(agg_func)\n",
    "d2021_by_country['Country'] = d2021_by_country['iso_alpha3'].apply(alpha3_to_country)\n",
    "d2021_fig = px.scatter_geo(d2021_by_country, locations=\"iso_alpha3\", color=\"continent\",\n",
    "                     hover_name=\"Country\", size=\"Deaths\",\n",
    "                     projection=\"natural earth\")#, width=800, height=400)"
   ]
  },
  {
   "cell_type": "markdown",
   "id": "575a07c9",
   "metadata": {
    "slideshow": {
     "slide_type": "skip"
    }
   },
   "source": [
    "### CONCLUSION"
   ]
  },
  {
   "cell_type": "markdown",
   "id": "6e6f2467",
   "metadata": {
    "slideshow": {
     "slide_type": "slide"
    }
   },
   "source": [
    "# CONCLUSIONS\n",
    "+ Understanding death causation posibilities by age distribution and gender differences.\n",
    "    + Children at the age of 15 have more deaths than people at ages 10,20,25, which could be due to the vaping epidemic.\n",
    "    + Males have a higher rate of Deaths all across the board. However, there are a couple of countries where females have more deaths.\n",
    "+ Weekly death counts show the short-term elevation which might helps authorities in responding to temporary hazards such as COVID-19 pandemic, or temperature extremes.\n"
   ]
  },
  {
   "cell_type": "code",
   "execution_count": null,
   "id": "27d5aee8",
   "metadata": {
    "slideshow": {
     "slide_type": "subslide"
    }
   },
   "outputs": [],
   "source": [
    "d2021_fig.show()"
   ]
  },
  {
   "cell_type": "markdown",
   "id": "faf48499",
   "metadata": {
    "slideshow": {
     "slide_type": "fragment"
    }
   },
   "source": [
    "> ***Understanding death helps saving lives***"
   ]
  },
  {
   "cell_type": "code",
   "execution_count": null,
   "id": "bd58d45a",
   "metadata": {
    "slideshow": {
     "slide_type": "skip"
    }
   },
   "outputs": [],
   "source": []
  }
 ],
 "metadata": {
  "celltoolbar": "Slideshow",
  "kernelspec": {
   "display_name": "Python 3",
   "language": "python",
   "name": "python3"
  },
  "language_info": {
   "codemirror_mode": {
    "name": "ipython",
    "version": 3
   },
   "file_extension": ".py",
   "mimetype": "text/x-python",
   "name": "python",
   "nbconvert_exporter": "python",
   "pygments_lexer": "ipython3",
   "version": "3.8.8"
  }
 },
 "nbformat": 4,
 "nbformat_minor": 5
}
