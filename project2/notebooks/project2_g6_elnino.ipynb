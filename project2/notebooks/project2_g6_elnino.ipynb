{
  "nbformat": 4,
  "nbformat_minor": 0,
  "metadata": {
    "colab": {
      "name": "project2-g6-elnino.ipynb",
      "provenance": [],
      "collapsed_sections": [],
      "include_colab_link": true
    },
    "kernelspec": {
      "name": "python3",
      "display_name": "Python 3"
    },
    "language_info": {
      "name": "python"
    }
  },
  "cells": [
    {
      "cell_type": "markdown",
      "metadata": {
        "id": "view-in-github",
        "colab_type": "text"
      },
      "source": [
        "<a href=\"https://colab.research.google.com/github/vuhpham94/nflx-data-projects-g6/blob/kwabena_branch/project2/notebooks/project2_g6_elnino.ipynb\" target=\"_parent\"><img src=\"https://colab.research.google.com/assets/colab-badge.svg\" alt=\"Open In Colab\"/></a>"
      ]
    },
    {
      "cell_type": "code",
      "metadata": {
        "id": "7mQw6xPkQv8C"
      },
      "source": [
        "# drive connection\n",
        "# from google.colab import drive\n",
        "# drive.mount('/content/drive')\n",
        "from sklearn.model_selection import train_test_split\n",
        "from sklearn.linear_model import LinearRegression "
      ],
      "execution_count": 62,
      "outputs": []
    },
    {
      "cell_type": "code",
      "metadata": {
        "id": "nrh6ic5PRonM",
        "colab": {
          "base_uri": "https://localhost:8080/"
        },
        "outputId": "2a0ad94c-34fe-45b8-9600-d7f896c07f91"
      },
      "source": [
        "import os\n",
        "# Find the latest version of spark 3.0  from http://www-us.apache.org/dist/spark/ and enter as the spark version\n",
        "# For example:\n",
        "# spark_version = 'spark-3.0.1'\n",
        "spark_version = 'spark-3.0.1'\n",
        "os.environ['SPARK_VERSION']=spark_version\n",
        "\n",
        "# Install Spark and Java\n",
        "!apt-get update\n",
        "!apt-get install openjdk-11-jdk-headless -qq > /dev/null\n",
        "!wget -q https://archive.apache.org/dist/spark/$SPARK_VERSION/$SPARK_VERSION-bin-hadoop2.7.tgz\n",
        "!tar xf $SPARK_VERSION-bin-hadoop2.7.tgz\n",
        "!pip install -q findspark\n",
        "\n",
        "# Set Environment Variables\n",
        "os.environ[\"JAVA_HOME\"] = \"/usr/lib/jvm/java-11-openjdk-amd64\"\n",
        "os.environ[\"SPARK_HOME\"] = f\"/content/{spark_version}-bin-hadoop2.7\"\n",
        "\n",
        "# Start a SparkSession\n",
        "import findspark\n",
        "findspark.init()"
      ],
      "execution_count": 33,
      "outputs": [
        {
          "output_type": "stream",
          "name": "stdout",
          "text": [
            "\r0% [Working]\r            \rHit:1 https://cloud.r-project.org/bin/linux/ubuntu bionic-cran40/ InRelease\n",
            "\r0% [Connecting to archive.ubuntu.com (91.189.88.142)] [Connecting to security.u\r0% [1 InRelease gpgv 3,626 B] [Connecting to archive.ubuntu.com (91.189.88.142)\r                                                                               \rIgn:2 https://developer.download.nvidia.com/compute/cuda/repos/ubuntu1804/x86_64  InRelease\n",
            "\r0% [1 InRelease gpgv 3,626 B] [Waiting for headers] [Connecting to security.ubu\r                                                                               \rGet:3 http://ppa.launchpad.net/c2d4u.team/c2d4u4.0+/ubuntu bionic InRelease [15.9 kB]\n",
            "Hit:4 http://archive.ubuntu.com/ubuntu bionic InRelease\n",
            "Ign:5 https://developer.download.nvidia.com/compute/machine-learning/repos/ubuntu1804/x86_64  InRelease\n",
            "Get:6 http://archive.ubuntu.com/ubuntu bionic-updates InRelease [88.7 kB]\n",
            "Hit:7 https://developer.download.nvidia.com/compute/cuda/repos/ubuntu1804/x86_64  Release\n",
            "Hit:8 https://developer.download.nvidia.com/compute/machine-learning/repos/ubuntu1804/x86_64  Release\n",
            "Hit:9 http://ppa.launchpad.net/cran/libgit2/ubuntu bionic InRelease\n",
            "Get:10 http://archive.ubuntu.com/ubuntu bionic-backports InRelease [74.6 kB]\n",
            "Hit:11 http://ppa.launchpad.net/deadsnakes/ppa/ubuntu bionic InRelease\n",
            "Get:12 http://security.ubuntu.com/ubuntu bionic-security InRelease [88.7 kB]\n",
            "Hit:13 http://ppa.launchpad.net/graphics-drivers/ppa/ubuntu bionic InRelease\n",
            "Get:15 http://ppa.launchpad.net/c2d4u.team/c2d4u4.0+/ubuntu bionic/main Sources [1,812 kB]\n",
            "Get:17 http://ppa.launchpad.net/c2d4u.team/c2d4u4.0+/ubuntu bionic/main amd64 Packages [928 kB]\n",
            "Fetched 3,007 kB in 2s (1,360 kB/s)\n",
            "Reading package lists... Done\n"
          ]
        }
      ]
    },
    {
      "cell_type": "code",
      "metadata": {
        "id": "zz9OckdZR4qc"
      },
      "source": [
        " #import packages\n",
        "from pyspark.sql import SparkSession\n",
        "from pyspark.sql import Row\n",
        "from pyspark.sql.types import StructType,StructField,StringType, DateType,IntegerType\n",
        "\n",
        "# we are going to use this to time our queries.\n",
        "import time\n",
        "\n",
        "# Create a SparkSession\n",
        "spark = SparkSession.builder.appName(\"SparkSQL\").getOrCreate()"
      ],
      "execution_count": 34,
      "outputs": []
    },
    {
      "cell_type": "code",
      "metadata": {
        "id": "I4ejNDbZR-i7"
      },
      "source": [
        "# Read in data from S3 Bucket\n",
        "\n",
        "from pyspark import SparkFiles\n",
        "url = \"https://raw.githubusercontent.com/vuhpham94/nflx-data-projects-g6/main/project2/resources/dataset/elnino.csv\"\n",
        "spark.sparkContext.addFile(url)\n",
        "df = spark.read.csv(SparkFiles.get(\"elnino.csv\"), sep=\",\", header=True)"
      ],
      "execution_count": 35,
      "outputs": []
    },
    {
      "cell_type": "code",
      "metadata": {
        "id": "hG2Cd7ZdiSqH"
      },
      "source": [
        ""
      ],
      "execution_count": null,
      "outputs": []
    },
    {
      "cell_type": "code",
      "metadata": {
        "colab": {
          "base_uri": "https://localhost:8080/"
        },
        "id": "uLLtLjCQYe4Z",
        "outputId": "f2a0df99-10d3-4555-c600-a79aac2b7149"
      },
      "source": [
        "df.show()"
      ],
      "execution_count": 36,
      "outputs": [
        {
          "output_type": "stream",
          "name": "stdout",
          "text": [
            "+-----------+-----+------+----+------+---------+----------+------------+-----------------+---------+---------+-----------------+\n",
            "|Observation| Year| Month| Day|  Date| Latitude| Longitude| Zonal Winds| Meridional Winds| Humidity| Air Temp| Sea Surface Temp|\n",
            "+-----------+-----+------+----+------+---------+----------+------------+-----------------+---------+---------+-----------------+\n",
            "|          1|   80|     3|   7|800307|    -0.02|   -109.46|        -6.8|              0.7|        .|    26.14|            26.24|\n",
            "|          2|   80|     3|   8|800308|    -0.02|   -109.46|        -4.9|              1.1|        .|    25.66|            25.97|\n",
            "|          3|   80|     3|   9|800309|    -0.02|   -109.46|        -4.5|              2.2|        .|    25.69|            25.28|\n",
            "|          4|   80|     3|  10|800310|    -0.02|   -109.46|        -3.8|              1.9|        .|    25.57|            24.31|\n",
            "|          5|   80|     3|  11|800311|    -0.02|   -109.46|        -4.2|              1.5|        .|     25.3|            23.19|\n",
            "|          6|   80|     3|  12|800312|    -0.02|   -109.46|        -4.4|              0.3|        .|    24.72|            23.64|\n",
            "|          7|   80|     3|  13|800313|    -0.02|   -109.46|        -3.2|              0.1|        .|    24.66|            24.34|\n",
            "|          8|   80|     3|  14|800314|    -0.02|   -109.46|        -3.1|              0.6|        .|    25.17|            24.14|\n",
            "|          9|   80|     3|  15|800315|    -0.02|   -109.46|          -3|                1|        .|    25.59|            24.24|\n",
            "|         10|   80|     3|  16|800316|    -0.02|   -109.46|        -1.2|                1|        .|    26.71|            25.94|\n",
            "|         11|   80|     3|  17|800317|    -0.02|   -109.46|        -0.1|              0.7|        .|    27.28|            26.65|\n",
            "|         12|   80|     3|  18|800318|    -0.02|   -109.46|        -1.2|              2.3|        .|    26.86|            27.13|\n",
            "|         13|   80|     3|  19|800319|    -0.02|   -109.46|        -4.1|             -0.3|        .|    26.38|            26.35|\n",
            "|         14|   80|     3|  20|800320|    -0.02|   -109.46|        -4.8|             -0.8|        .|    26.19|            25.87|\n",
            "|         15|   80|     3|  21|800321|    -0.02|   -109.46|        -5.2|                2|        .|    26.08|            25.38|\n",
            "|         16|   80|     3|  22|800322|    -0.02|   -109.46|        -2.7|              2.7|        .|    26.24|                .|\n",
            "|         17|   80|     3|  23|800323|    -0.02|   -109.46|        -4.4|              1.1|        .|    26.05|                .|\n",
            "|         18|   80|     3|  24|800324|    -0.02|   -109.46|        -4.3|              0.7|        .|    25.67|                .|\n",
            "|         19|   80|     3|  25|800325|    -0.02|   -109.46|        -3.8|              0.5|        .|    25.39|                .|\n",
            "|         20|   80|     3|  26|800326|    -0.02|   -109.46|          -3|              0.2|        .|    25.17|                .|\n",
            "+-----------+-----+------+----+------+---------+----------+------------+-----------------+---------+---------+-----------------+\n",
            "only showing top 20 rows\n",
            "\n"
          ]
        }
      ]
    },
    {
      "cell_type": "code",
      "metadata": {
        "id": "VViAW_XQSEH9",
        "colab": {
          "base_uri": "https://localhost:8080/"
        },
        "outputId": "83e25af0-d1c2-4341-dd73-4ecd2abc4b8f"
      },
      "source": [
        "df.summary().show()"
      ],
      "execution_count": 37,
      "outputs": [
        {
          "output_type": "stream",
          "name": "stdout",
          "text": [
            "+-------+-----------------+------------------+-----------------+------------------+------------------+------------------+------------------+-------------------+-------------------+-----------------+------------------+------------------+\n",
            "|summary|      Observation|              Year|            Month|               Day|              Date|          Latitude|         Longitude|        Zonal Winds|   Meridional Winds|         Humidity|          Air Temp|  Sea Surface Temp|\n",
            "+-------+-----------------+------------------+-----------------+------------------+------------------+------------------+------------------+-------------------+-------------------+-----------------+------------------+------------------+\n",
            "|  count|           178080|            178080|           178080|            178080|            178080|            178080|            178080|             178080|             178080|           178080|            178080|            178080|\n",
            "|   mean|          89040.5| 93.30232479784367| 6.50486859838275|15.720535714285715| 933689.4553739892|0.4736255053908537|  -54.025233322105|-3.3047718697071216|0.24976196392837605| 81.2365245417054| 26.88756686248396|27.715308835124837|\n",
            "| stddev|51407.41230600895|3.3938175082769146|3.459656904856482| 8.800487238623559|33900.474319613866| 4.583040867227938|135.36399362306005| 3.3734917089233782| 2.9992021913892493|5.313061231423386|1.8164290448418543| 2.057428072631302|\n",
            "|    min|                1|                80|                1|                 1|            800307|             -0.01|           -105.19|               -0.1|               -0.1|                .|                 .|                 .|\n",
            "|    25%|          44507.0|              92.0|              4.0|               8.0|          920116.0|             -2.01|           -154.95|               -5.8|               -1.7|             77.7|             26.06|             26.77|\n",
            "|    50%|          89029.0|              94.0|              6.0|              16.0|          940601.0|              0.01|           -111.29|               -4.0|                0.3|             81.2|             27.34|             28.29|\n",
            "|    75%|         133558.0|              96.0|             10.0|              23.0|          960617.0|              4.98|            147.01|               -1.4|                2.3|             84.8|             31.66|             29.23|\n",
            "|    max|            99999|                98|                9|                 9|            980623|              9.05|            171.08|                9.9|                9.9|             99.9|             31.66|             31.26|\n",
            "+-------+-----------------+------------------+-----------------+------------------+------------------+------------------+------------------+-------------------+-------------------+-----------------+------------------+------------------+\n",
            "\n"
          ]
        }
      ]
    },
    {
      "cell_type": "code",
      "metadata": {
        "id": "NSBBvlDDSHR8",
        "colab": {
          "base_uri": "https://localhost:8080/"
        },
        "outputId": "a5b898d0-73a0-4897-fd47-b5b99eed0f1d"
      },
      "source": [
        "df.printSchema()"
      ],
      "execution_count": 38,
      "outputs": [
        {
          "output_type": "stream",
          "name": "stdout",
          "text": [
            "root\n",
            " |-- Observation: string (nullable = true)\n",
            " |--  Year: string (nullable = true)\n",
            " |--  Month: string (nullable = true)\n",
            " |--  Day: string (nullable = true)\n",
            " |--  Date: string (nullable = true)\n",
            " |--  Latitude: string (nullable = true)\n",
            " |--  Longitude: string (nullable = true)\n",
            " |--  Zonal Winds: string (nullable = true)\n",
            " |--  Meridional Winds: string (nullable = true)\n",
            " |--  Humidity: string (nullable = true)\n",
            " |--  Air Temp: string (nullable = true)\n",
            " |--  Sea Surface Temp: string (nullable = true)\n",
            "\n"
          ]
        }
      ]
    },
    {
      "cell_type": "code",
      "metadata": {
        "id": "3HzjQStfS8-c"
      },
      "source": [
        ""
      ],
      "execution_count": null,
      "outputs": []
    },
    {
      "cell_type": "markdown",
      "metadata": {
        "id": "oDdp6uA0YSFR"
      },
      "source": [
        "# New Section\n",
        "<p>Cleaning data</p>"
      ]
    },
    {
      "cell_type": "code",
      "metadata": {
        "id": "QrCebh6NYTdr"
      },
      "source": [
        "df =df.drop(\" Date\")\n",
        "from pyspark.sql.types import IntegerType,BooleanType,DateType"
      ],
      "execution_count": 39,
      "outputs": []
    },
    {
      "cell_type": "code",
      "metadata": {
        "id": "xTYfq6O1o80E",
        "colab": {
          "base_uri": "https://localhost:8080/"
        },
        "outputId": "5b4feb32-3f45-4a57-9371-f77844c330fe"
      },
      "source": [
        "df.printSchema()"
      ],
      "execution_count": 40,
      "outputs": [
        {
          "output_type": "stream",
          "name": "stdout",
          "text": [
            "root\n",
            " |-- Observation: string (nullable = true)\n",
            " |--  Year: string (nullable = true)\n",
            " |--  Month: string (nullable = true)\n",
            " |--  Day: string (nullable = true)\n",
            " |--  Latitude: string (nullable = true)\n",
            " |--  Longitude: string (nullable = true)\n",
            " |--  Zonal Winds: string (nullable = true)\n",
            " |--  Meridional Winds: string (nullable = true)\n",
            " |--  Humidity: string (nullable = true)\n",
            " |--  Air Temp: string (nullable = true)\n",
            " |--  Sea Surface Temp: string (nullable = true)\n",
            "\n"
          ]
        }
      ]
    },
    {
      "cell_type": "code",
      "metadata": {
        "id": "TGx4MdJif5Ul",
        "colab": {
          "base_uri": "https://localhost:8080/"
        },
        "outputId": "10461cd5-9f6f-4b75-909c-4a55ce237645"
      },
      "source": [
        "df.show()"
      ],
      "execution_count": 41,
      "outputs": [
        {
          "output_type": "stream",
          "name": "stdout",
          "text": [
            "+-----------+-----+------+----+---------+----------+------------+-----------------+---------+---------+-----------------+\n",
            "|Observation| Year| Month| Day| Latitude| Longitude| Zonal Winds| Meridional Winds| Humidity| Air Temp| Sea Surface Temp|\n",
            "+-----------+-----+------+----+---------+----------+------------+-----------------+---------+---------+-----------------+\n",
            "|          1|   80|     3|   7|    -0.02|   -109.46|        -6.8|              0.7|        .|    26.14|            26.24|\n",
            "|          2|   80|     3|   8|    -0.02|   -109.46|        -4.9|              1.1|        .|    25.66|            25.97|\n",
            "|          3|   80|     3|   9|    -0.02|   -109.46|        -4.5|              2.2|        .|    25.69|            25.28|\n",
            "|          4|   80|     3|  10|    -0.02|   -109.46|        -3.8|              1.9|        .|    25.57|            24.31|\n",
            "|          5|   80|     3|  11|    -0.02|   -109.46|        -4.2|              1.5|        .|     25.3|            23.19|\n",
            "|          6|   80|     3|  12|    -0.02|   -109.46|        -4.4|              0.3|        .|    24.72|            23.64|\n",
            "|          7|   80|     3|  13|    -0.02|   -109.46|        -3.2|              0.1|        .|    24.66|            24.34|\n",
            "|          8|   80|     3|  14|    -0.02|   -109.46|        -3.1|              0.6|        .|    25.17|            24.14|\n",
            "|          9|   80|     3|  15|    -0.02|   -109.46|          -3|                1|        .|    25.59|            24.24|\n",
            "|         10|   80|     3|  16|    -0.02|   -109.46|        -1.2|                1|        .|    26.71|            25.94|\n",
            "|         11|   80|     3|  17|    -0.02|   -109.46|        -0.1|              0.7|        .|    27.28|            26.65|\n",
            "|         12|   80|     3|  18|    -0.02|   -109.46|        -1.2|              2.3|        .|    26.86|            27.13|\n",
            "|         13|   80|     3|  19|    -0.02|   -109.46|        -4.1|             -0.3|        .|    26.38|            26.35|\n",
            "|         14|   80|     3|  20|    -0.02|   -109.46|        -4.8|             -0.8|        .|    26.19|            25.87|\n",
            "|         15|   80|     3|  21|    -0.02|   -109.46|        -5.2|                2|        .|    26.08|            25.38|\n",
            "|         16|   80|     3|  22|    -0.02|   -109.46|        -2.7|              2.7|        .|    26.24|                .|\n",
            "|         17|   80|     3|  23|    -0.02|   -109.46|        -4.4|              1.1|        .|    26.05|                .|\n",
            "|         18|   80|     3|  24|    -0.02|   -109.46|        -4.3|              0.7|        .|    25.67|                .|\n",
            "|         19|   80|     3|  25|    -0.02|   -109.46|        -3.8|              0.5|        .|    25.39|                .|\n",
            "|         20|   80|     3|  26|    -0.02|   -109.46|          -3|              0.2|        .|    25.17|                .|\n",
            "+-----------+-----+------+----+---------+----------+------------+-----------------+---------+---------+-----------------+\n",
            "only showing top 20 rows\n",
            "\n"
          ]
        }
      ]
    },
    {
      "cell_type": "code",
      "metadata": {
        "id": "xLrL0rQTj3Mb"
      },
      "source": [
        "newColumns = [\"Observation\",\"Year\",\"Month\",\"Day\",\"Latitude\",\"Longitude\",\"ZonalWinds\",\"MeridionalWinds\",\"Humidity\",\"AirTemp\",\"SeaSurfaceTemp\"]\n",
        "clean_df=df.toDF(*newColumns)"
      ],
      "execution_count": 42,
      "outputs": []
    },
    {
      "cell_type": "code",
      "metadata": {
        "colab": {
          "base_uri": "https://localhost:8080/"
        },
        "id": "KyCKeX2W-60g",
        "outputId": "dd198805-e310-403b-ee48-2e7f67a5ca07"
      },
      "source": [
        "clean_df.printSchema()"
      ],
      "execution_count": 43,
      "outputs": [
        {
          "output_type": "stream",
          "name": "stdout",
          "text": [
            "root\n",
            " |-- Observation: string (nullable = true)\n",
            " |-- Year: string (nullable = true)\n",
            " |-- Month: string (nullable = true)\n",
            " |-- Day: string (nullable = true)\n",
            " |-- Latitude: string (nullable = true)\n",
            " |-- Longitude: string (nullable = true)\n",
            " |-- ZonalWinds: string (nullable = true)\n",
            " |-- MeridionalWinds: string (nullable = true)\n",
            " |-- Humidity: string (nullable = true)\n",
            " |-- AirTemp: string (nullable = true)\n",
            " |-- SeaSurfaceTemp: string (nullable = true)\n",
            "\n"
          ]
        }
      ]
    },
    {
      "cell_type": "code",
      "metadata": {
        "id": "AOnwqwCJ9rmI"
      },
      "source": [
        "converted_df = clean_df.selectExpr(\"cast(year as int) Year\",\n",
        "    \"cast(Month as int) Month\",\n",
        "    \"cast(Day as int) Day\",\n",
        "    \"cast(Latitude as float) Latitude\",\n",
        "    \"cast(Longitude as float) Longitude\",\n",
        "    \"cast(ZonalWinds as float) ZonalWinds\",\n",
        "    \"cast(MeridionalWinds as float) MeridionalWinds\",\n",
        "    \"cast(Humidity as float) Humidity\",\n",
        "    \"cast(AirTemp as float) AirTemp\",\n",
        "    \"cast(SeaSurfaceTemp as float) SeaSurfaceTemp\")\n"
      ],
      "execution_count": 44,
      "outputs": []
    },
    {
      "cell_type": "code",
      "metadata": {
        "id": "iGaFHS8kDfcP"
      },
      "source": [
        ""
      ],
      "execution_count": null,
      "outputs": []
    },
    {
      "cell_type": "code",
      "metadata": {
        "colab": {
          "base_uri": "https://localhost:8080/"
        },
        "id": "oLFlalw9_X_e",
        "outputId": "8a7e6ea8-b449-416e-aefd-6aad55e5dd2a"
      },
      "source": [
        "converted_df.printSchema()"
      ],
      "execution_count": 45,
      "outputs": [
        {
          "output_type": "stream",
          "name": "stdout",
          "text": [
            "root\n",
            " |-- Year: integer (nullable = true)\n",
            " |-- Month: integer (nullable = true)\n",
            " |-- Day: integer (nullable = true)\n",
            " |-- Latitude: float (nullable = true)\n",
            " |-- Longitude: float (nullable = true)\n",
            " |-- ZonalWinds: float (nullable = true)\n",
            " |-- MeridionalWinds: float (nullable = true)\n",
            " |-- Humidity: float (nullable = true)\n",
            " |-- AirTemp: float (nullable = true)\n",
            " |-- SeaSurfaceTemp: float (nullable = true)\n",
            "\n"
          ]
        }
      ]
    },
    {
      "cell_type": "code",
      "metadata": {
        "id": "mLBmiH6lEWjB",
        "colab": {
          "base_uri": "https://localhost:8080/"
        },
        "outputId": "3bb4bebe-c286-4d57-c7f4-3b78a40cd197"
      },
      "source": [
        "converted_df.show()"
      ],
      "execution_count": 46,
      "outputs": [
        {
          "output_type": "stream",
          "name": "stdout",
          "text": [
            "+----+-----+---+--------+---------+----------+---------------+--------+-------+--------------+\n",
            "|Year|Month|Day|Latitude|Longitude|ZonalWinds|MeridionalWinds|Humidity|AirTemp|SeaSurfaceTemp|\n",
            "+----+-----+---+--------+---------+----------+---------------+--------+-------+--------------+\n",
            "|  80|    3|  7|   -0.02|  -109.46|      -6.8|            0.7|    null|  26.14|         26.24|\n",
            "|  80|    3|  8|   -0.02|  -109.46|      -4.9|            1.1|    null|  25.66|         25.97|\n",
            "|  80|    3|  9|   -0.02|  -109.46|      -4.5|            2.2|    null|  25.69|         25.28|\n",
            "|  80|    3| 10|   -0.02|  -109.46|      -3.8|            1.9|    null|  25.57|         24.31|\n",
            "|  80|    3| 11|   -0.02|  -109.46|      -4.2|            1.5|    null|   25.3|         23.19|\n",
            "|  80|    3| 12|   -0.02|  -109.46|      -4.4|            0.3|    null|  24.72|         23.64|\n",
            "|  80|    3| 13|   -0.02|  -109.46|      -3.2|            0.1|    null|  24.66|         24.34|\n",
            "|  80|    3| 14|   -0.02|  -109.46|      -3.1|            0.6|    null|  25.17|         24.14|\n",
            "|  80|    3| 15|   -0.02|  -109.46|      -3.0|            1.0|    null|  25.59|         24.24|\n",
            "|  80|    3| 16|   -0.02|  -109.46|      -1.2|            1.0|    null|  26.71|         25.94|\n",
            "|  80|    3| 17|   -0.02|  -109.46|      -0.1|            0.7|    null|  27.28|         26.65|\n",
            "|  80|    3| 18|   -0.02|  -109.46|      -1.2|            2.3|    null|  26.86|         27.13|\n",
            "|  80|    3| 19|   -0.02|  -109.46|      -4.1|           -0.3|    null|  26.38|         26.35|\n",
            "|  80|    3| 20|   -0.02|  -109.46|      -4.8|           -0.8|    null|  26.19|         25.87|\n",
            "|  80|    3| 21|   -0.02|  -109.46|      -5.2|            2.0|    null|  26.08|         25.38|\n",
            "|  80|    3| 22|   -0.02|  -109.46|      -2.7|            2.7|    null|  26.24|          null|\n",
            "|  80|    3| 23|   -0.02|  -109.46|      -4.4|            1.1|    null|  26.05|          null|\n",
            "|  80|    3| 24|   -0.02|  -109.46|      -4.3|            0.7|    null|  25.67|          null|\n",
            "|  80|    3| 25|   -0.02|  -109.46|      -3.8|            0.5|    null|  25.39|          null|\n",
            "|  80|    3| 26|   -0.02|  -109.46|      -3.0|            0.2|    null|  25.17|          null|\n",
            "+----+-----+---+--------+---------+----------+---------------+--------+-------+--------------+\n",
            "only showing top 20 rows\n",
            "\n"
          ]
        }
      ]
    },
    {
      "cell_type": "markdown",
      "metadata": {
        "id": "xVPF35dDEJQn"
      },
      "source": [
        "# Analysis Section"
      ]
    },
    {
      "cell_type": "code",
      "metadata": {
        "id": "L-ekiOZYES1X",
        "colab": {
          "base_uri": "https://localhost:8080/"
        },
        "outputId": "c2e13b2d-39ec-458c-9d29-b3d66c5862e4"
      },
      "source": [
        "pd_df = converted_df.toPandas()\n",
        "pd_df.info()"
      ],
      "execution_count": 47,
      "outputs": [
        {
          "output_type": "stream",
          "name": "stdout",
          "text": [
            "<class 'pandas.core.frame.DataFrame'>\n",
            "RangeIndex: 178080 entries, 0 to 178079\n",
            "Data columns (total 10 columns):\n",
            " #   Column           Non-Null Count   Dtype  \n",
            "---  ------           --------------   -----  \n",
            " 0   Year             178080 non-null  int32  \n",
            " 1   Month            178080 non-null  int32  \n",
            " 2   Day              178080 non-null  int32  \n",
            " 3   Latitude         178080 non-null  float32\n",
            " 4   Longitude        178080 non-null  float32\n",
            " 5   ZonalWinds       152917 non-null  float32\n",
            " 6   MeridionalWinds  152918 non-null  float32\n",
            " 7   Humidity         112319 non-null  float32\n",
            " 8   AirTemp          159843 non-null  float32\n",
            " 9   SeaSurfaceTemp   161073 non-null  float32\n",
            "dtypes: float32(7), int32(3)\n",
            "memory usage: 6.8 MB\n"
          ]
        }
      ]
    },
    {
      "cell_type": "code",
      "metadata": {
        "id": "QworaCzTH_Nc"
      },
      "source": [
        "zw_mean = pd_df[\"ZonalWinds\"].mean()\n",
        "mw_mean = pd_df[\"MeridionalWinds\"].mean()\n",
        "hum_mean = pd_df[\"Humidity\"].mean()\n",
        "at_mean = pd_df[\"AirTemp\"].mean()\n",
        "sst_mean = pd_df[\"SeaSurfaceTemp\"].mean()\n"
      ],
      "execution_count": 48,
      "outputs": []
    },
    {
      "cell_type": "code",
      "metadata": {
        "id": "t-OSCU88Ltxp"
      },
      "source": [
        "mean_filled_df=converted_df.fillna(zw_mean,subset=\"ZonalWinds\")\\\n",
        ".fillna(mw_mean,subset=\"MeridionalWinds\")\\\n",
        ".fillna(hum_mean,subset=\"Humidity\")\\\n",
        ".fillna(at_mean,subset=\"AirTemp\")\\\n",
        ".fillna(sst_mean,subset=\"SeaSurfaceTemp\")\\\n"
      ],
      "execution_count": 49,
      "outputs": []
    },
    {
      "cell_type": "code",
      "metadata": {
        "id": "pGJ9Y_7KNrDm",
        "colab": {
          "base_uri": "https://localhost:8080/"
        },
        "outputId": "d73185ec-ff94-426f-be75-576436d103fb"
      },
      "source": [
        "mean_filled_df.toPandas().info()"
      ],
      "execution_count": 50,
      "outputs": [
        {
          "output_type": "stream",
          "name": "stdout",
          "text": [
            "<class 'pandas.core.frame.DataFrame'>\n",
            "RangeIndex: 178080 entries, 0 to 178079\n",
            "Data columns (total 10 columns):\n",
            " #   Column           Non-Null Count   Dtype  \n",
            "---  ------           --------------   -----  \n",
            " 0   Year             178080 non-null  int32  \n",
            " 1   Month            178080 non-null  int32  \n",
            " 2   Day              178080 non-null  int32  \n",
            " 3   Latitude         178080 non-null  float32\n",
            " 4   Longitude        178080 non-null  float32\n",
            " 5   ZonalWinds       178080 non-null  float32\n",
            " 6   MeridionalWinds  178080 non-null  float32\n",
            " 7   Humidity         178080 non-null  float32\n",
            " 8   AirTemp          178080 non-null  float32\n",
            " 9   SeaSurfaceTemp   178080 non-null  float32\n",
            "dtypes: float32(7), int32(3)\n",
            "memory usage: 6.8 MB\n"
          ]
        }
      ]
    },
    {
      "cell_type": "code",
      "metadata": {
        "id": "1SDD7MxSNqmB",
        "outputId": "85f5eb1c-bf49-483e-affd-0a4121f074d9",
        "colab": {
          "base_uri": "https://localhost:8080/",
          "height": 204
        }
      },
      "source": [
        "use_df = mean_filled_df.toPandas()\n",
        "use_df.head()"
      ],
      "execution_count": 53,
      "outputs": [
        {
          "output_type": "execute_result",
          "data": {
            "text/html": [
              "<div>\n",
              "<style scoped>\n",
              "    .dataframe tbody tr th:only-of-type {\n",
              "        vertical-align: middle;\n",
              "    }\n",
              "\n",
              "    .dataframe tbody tr th {\n",
              "        vertical-align: top;\n",
              "    }\n",
              "\n",
              "    .dataframe thead th {\n",
              "        text-align: right;\n",
              "    }\n",
              "</style>\n",
              "<table border=\"1\" class=\"dataframe\">\n",
              "  <thead>\n",
              "    <tr style=\"text-align: right;\">\n",
              "      <th></th>\n",
              "      <th>Year</th>\n",
              "      <th>Month</th>\n",
              "      <th>Day</th>\n",
              "      <th>Latitude</th>\n",
              "      <th>Longitude</th>\n",
              "      <th>ZonalWinds</th>\n",
              "      <th>MeridionalWinds</th>\n",
              "      <th>Humidity</th>\n",
              "      <th>AirTemp</th>\n",
              "      <th>SeaSurfaceTemp</th>\n",
              "    </tr>\n",
              "  </thead>\n",
              "  <tbody>\n",
              "    <tr>\n",
              "      <th>0</th>\n",
              "      <td>80</td>\n",
              "      <td>3</td>\n",
              "      <td>7</td>\n",
              "      <td>-0.02</td>\n",
              "      <td>-109.459999</td>\n",
              "      <td>-6.8</td>\n",
              "      <td>0.7</td>\n",
              "      <td>81.237007</td>\n",
              "      <td>26.139999</td>\n",
              "      <td>26.240000</td>\n",
              "    </tr>\n",
              "    <tr>\n",
              "      <th>1</th>\n",
              "      <td>80</td>\n",
              "      <td>3</td>\n",
              "      <td>8</td>\n",
              "      <td>-0.02</td>\n",
              "      <td>-109.459999</td>\n",
              "      <td>-4.9</td>\n",
              "      <td>1.1</td>\n",
              "      <td>81.237007</td>\n",
              "      <td>25.660000</td>\n",
              "      <td>25.969999</td>\n",
              "    </tr>\n",
              "    <tr>\n",
              "      <th>2</th>\n",
              "      <td>80</td>\n",
              "      <td>3</td>\n",
              "      <td>9</td>\n",
              "      <td>-0.02</td>\n",
              "      <td>-109.459999</td>\n",
              "      <td>-4.5</td>\n",
              "      <td>2.2</td>\n",
              "      <td>81.237007</td>\n",
              "      <td>25.690001</td>\n",
              "      <td>25.280001</td>\n",
              "    </tr>\n",
              "    <tr>\n",
              "      <th>3</th>\n",
              "      <td>80</td>\n",
              "      <td>3</td>\n",
              "      <td>10</td>\n",
              "      <td>-0.02</td>\n",
              "      <td>-109.459999</td>\n",
              "      <td>-3.8</td>\n",
              "      <td>1.9</td>\n",
              "      <td>81.237007</td>\n",
              "      <td>25.570000</td>\n",
              "      <td>24.309999</td>\n",
              "    </tr>\n",
              "    <tr>\n",
              "      <th>4</th>\n",
              "      <td>80</td>\n",
              "      <td>3</td>\n",
              "      <td>11</td>\n",
              "      <td>-0.02</td>\n",
              "      <td>-109.459999</td>\n",
              "      <td>-4.2</td>\n",
              "      <td>1.5</td>\n",
              "      <td>81.237007</td>\n",
              "      <td>25.299999</td>\n",
              "      <td>23.190001</td>\n",
              "    </tr>\n",
              "  </tbody>\n",
              "</table>\n",
              "</div>"
            ],
            "text/plain": [
              "   Year  Month  Day  ...   Humidity    AirTemp  SeaSurfaceTemp\n",
              "0    80      3    7  ...  81.237007  26.139999       26.240000\n",
              "1    80      3    8  ...  81.237007  25.660000       25.969999\n",
              "2    80      3    9  ...  81.237007  25.690001       25.280001\n",
              "3    80      3   10  ...  81.237007  25.570000       24.309999\n",
              "4    80      3   11  ...  81.237007  25.299999       23.190001\n",
              "\n",
              "[5 rows x 10 columns]"
            ]
          },
          "metadata": {},
          "execution_count": 53
        }
      ]
    },
    {
      "cell_type": "code",
      "metadata": {
        "id": "rFv5uyjdPRoT"
      },
      "source": [
        "X = use_df[['Humidity', 'ZonalWinds', 'Year', 'Month','Day', 'Latitude', 'Longitude', 'MeridionalWinds', 'AirTemp']]\n",
        "y = use_df['SeaSurfaceTemp']"
      ],
      "execution_count": 114,
      "outputs": []
    },
    {
      "cell_type": "code",
      "metadata": {
        "id": "zMwJ_vV_QBpl"
      },
      "source": [
        "X_train, X_test, y_train, y_test = train_test_split(X,y,test_size =0.20, random_state = 42)"
      ],
      "execution_count": 115,
      "outputs": []
    },
    {
      "cell_type": "code",
      "metadata": {
        "id": "HJ4OPIJGRZru"
      },
      "source": [
        "model = LinearRegression()"
      ],
      "execution_count": 116,
      "outputs": []
    },
    {
      "cell_type": "code",
      "metadata": {
        "id": "JtMl6iVkR3Zu",
        "outputId": "5eb0d3d0-015d-4fc5-f3ad-658f1e7f662c",
        "colab": {
          "base_uri": "https://localhost:8080/"
        }
      },
      "source": [
        "model.fit(X_train, y_train)"
      ],
      "execution_count": 117,
      "outputs": [
        {
          "output_type": "execute_result",
          "data": {
            "text/plain": [
              "LinearRegression(copy_X=True, fit_intercept=True, n_jobs=None, normalize=False)"
            ]
          },
          "metadata": {},
          "execution_count": 117
        }
      ]
    },
    {
      "cell_type": "code",
      "metadata": {
        "id": "JMM--dBxSK7H",
        "outputId": "21dc4bbf-3493-437b-b59a-42a54d0ec35b",
        "colab": {
          "base_uri": "https://localhost:8080/"
        }
      },
      "source": [
        "print('Weight coefficients: ', model.coef_)\n",
        "print('y-axis intercept: ', model.intercept_)"
      ],
      "execution_count": 118,
      "outputs": [
        {
          "output_type": "stream",
          "name": "stdout",
          "text": [
            "Weight coefficients:  [-3.14663737e-03  7.36730381e-02  2.55390775e-02  7.52452845e-03\n",
            "  8.03774887e-05  2.15882256e-02  1.24547081e-03 -4.22927906e-03\n",
            "  9.22054442e-01]\n",
            "y-axis intercept:  1.04775910866514\n"
          ]
        }
      ]
    },
    {
      "cell_type": "code",
      "metadata": {
        "id": "TDMcp5WISLdx",
        "outputId": "6fe4e562-1455-4098-bc00-c08d4b870668",
        "colab": {
          "base_uri": "https://localhost:8080/"
        }
      },
      "source": [
        "y_pred = model.predict(X_test)\n",
        "model.score(X_test, y_test)"
      ],
      "execution_count": 119,
      "outputs": [
        {
          "output_type": "execute_result",
          "data": {
            "text/plain": [
              "0.7942613157543671"
            ]
          },
          "metadata": {},
          "execution_count": 119
        }
      ]
    },
    {
      "cell_type": "code",
      "metadata": {
        "id": "iw2w6WeUSUkF"
      },
      "source": [
        ""
      ],
      "execution_count": null,
      "outputs": []
    }
  ]
}