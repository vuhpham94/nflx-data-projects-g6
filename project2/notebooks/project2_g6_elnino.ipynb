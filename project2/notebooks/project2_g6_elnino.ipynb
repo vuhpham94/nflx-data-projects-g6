{
  "nbformat": 4,
  "nbformat_minor": 0,
  "metadata": {
    "colab": {
      "name": "project2-g6-elnino.ipynb",
      "provenance": [],
      "collapsed_sections": [],
      "include_colab_link": true
    },
    "kernelspec": {
      "name": "python3",
      "display_name": "Python 3"
    },
    "language_info": {
      "name": "python"
    }
  },
  "cells": [
    {
      "cell_type": "markdown",
      "metadata": {
        "id": "view-in-github",
        "colab_type": "text"
      },
      "source": [
        "<a href=\"https://colab.research.google.com/github/vuhpham94/nflx-data-projects-g6/blob/kwabena_branch/project2/notebooks/project2_g6_elnino.ipynb\" target=\"_parent\"><img src=\"https://colab.research.google.com/assets/colab-badge.svg\" alt=\"Open In Colab\"/></a>"
      ]
    },
    {
      "cell_type": "code",
      "metadata": {
        "id": "7mQw6xPkQv8C"
      },
      "source": [
        "# drive connection\n",
        "# from google.colab import drive\n",
        "# drive.mount('/content/drive')"
      ],
      "execution_count": null,
      "outputs": []
    },
    {
      "cell_type": "code",
      "metadata": {
        "id": "nrh6ic5PRonM",
        "outputId": "534ff945-2b87-4ccb-a9b0-4830ae326b8f",
        "colab": {
          "base_uri": "https://localhost:8080/"
        }
      },
      "source": [
        "import os\n",
        "# Find the latest version of spark 3.0  from http://www-us.apache.org/dist/spark/ and enter as the spark version\n",
        "# For example:\n",
        "# spark_version = 'spark-3.0.1'\n",
        "spark_version = 'spark-3.0.1'\n",
        "os.environ['SPARK_VERSION']=spark_version\n",
        "\n",
        "# Install Spark and Java\n",
        "!apt-get update\n",
        "!apt-get install openjdk-11-jdk-headless -qq > /dev/null\n",
        "!wget -q https://archive.apache.org/dist/spark/$SPARK_VERSION/$SPARK_VERSION-bin-hadoop2.7.tgz\n",
        "!tar xf $SPARK_VERSION-bin-hadoop2.7.tgz\n",
        "!pip install -q findspark\n",
        "\n",
        "# Set Environment Variables\n",
        "os.environ[\"JAVA_HOME\"] = \"/usr/lib/jvm/java-11-openjdk-amd64\"\n",
        "os.environ[\"SPARK_HOME\"] = f\"/content/{spark_version}-bin-hadoop2.7\"\n",
        "\n",
        "# Start a SparkSession\n",
        "import findspark\n",
        "findspark.init()"
      ],
      "execution_count": 1,
      "outputs": [
        {
          "output_type": "stream",
          "name": "stdout",
          "text": [
            "\r0% [Working]\r            \rGet:1 http://security.ubuntu.com/ubuntu bionic-security InRelease [88.7 kB]\n",
            "\r0% [Connecting to archive.ubuntu.com (91.189.88.142)] [1 InRelease 14.2 kB/88.7\r0% [Connecting to archive.ubuntu.com (91.189.88.142)] [Connected to cloud.r-pro\r                                                                               \rGet:2 https://cloud.r-project.org/bin/linux/ubuntu bionic-cran40/ InRelease [3,626 B]\n",
            "\r0% [Connecting to archive.ubuntu.com (91.189.88.142)] [Connecting to ppa.launch\r0% [1 InRelease gpgv 88.7 kB] [Connecting to archive.ubuntu.com (91.189.88.142)\r                                                                               \rIgn:3 https://developer.download.nvidia.com/compute/cuda/repos/ubuntu1804/x86_64  InRelease\n",
            "Hit:4 http://archive.ubuntu.com/ubuntu bionic InRelease\n",
            "Ign:5 https://developer.download.nvidia.com/compute/machine-learning/repos/ubuntu1804/x86_64  InRelease\n",
            "Hit:6 http://ppa.launchpad.net/c2d4u.team/c2d4u4.0+/ubuntu bionic InRelease\n",
            "Get:7 http://archive.ubuntu.com/ubuntu bionic-updates InRelease [88.7 kB]\n",
            "Get:8 https://developer.download.nvidia.com/compute/cuda/repos/ubuntu1804/x86_64  Release [696 B]\n",
            "Hit:9 https://developer.download.nvidia.com/compute/machine-learning/repos/ubuntu1804/x86_64  Release\n",
            "Get:10 https://developer.download.nvidia.com/compute/cuda/repos/ubuntu1804/x86_64  Release.gpg [836 B]\n",
            "Hit:11 http://ppa.launchpad.net/cran/libgit2/ubuntu bionic InRelease\n",
            "Get:12 http://security.ubuntu.com/ubuntu bionic-security/restricted amd64 Packages [633 kB]\n",
            "Get:13 http://archive.ubuntu.com/ubuntu bionic-backports InRelease [74.6 kB]\n",
            "Get:14 http://security.ubuntu.com/ubuntu bionic-security/universe amd64 Packages [1,437 kB]\n",
            "Hit:15 http://ppa.launchpad.net/deadsnakes/ppa/ubuntu bionic InRelease\n",
            "Get:16 http://security.ubuntu.com/ubuntu bionic-security/main amd64 Packages [2,400 kB]\n",
            "Hit:17 http://ppa.launchpad.net/graphics-drivers/ppa/ubuntu bionic InRelease\n",
            "Get:18 https://cloud.r-project.org/bin/linux/ubuntu bionic-cran40/ Packages [73.0 kB]\n",
            "Get:20 https://developer.download.nvidia.com/compute/cuda/repos/ubuntu1804/x86_64  Packages [808 kB]\n",
            "Get:21 http://archive.ubuntu.com/ubuntu bionic-updates/main amd64 Packages [2,837 kB]\n",
            "Get:22 http://archive.ubuntu.com/ubuntu bionic-updates/universe amd64 Packages [2,217 kB]\n",
            "Fetched 10.7 MB in 4s (2,370 kB/s)\n",
            "Reading package lists... Done\n"
          ]
        }
      ]
    },
    {
      "cell_type": "code",
      "metadata": {
        "id": "zz9OckdZR4qc"
      },
      "source": [
        " #import packages\n",
        "from pyspark.sql import SparkSession\n",
        "from pyspark.sql import Row\n",
        "from pyspark.sql.types import StructType,StructField,StringType, DateType,IntegerType\n",
        "\n",
        "# we are going to use this to time our queries.\n",
        "import time\n",
        "\n",
        "# Create a SparkSession\n",
        "spark = SparkSession.builder.appName(\"SparkSQL\").getOrCreate()"
      ],
      "execution_count": 2,
      "outputs": []
    },
    {
      "cell_type": "code",
      "metadata": {
        "id": "I4ejNDbZR-i7"
      },
      "source": [
        "# Read in data from S3 Bucket\n",
        "from pyspark import SparkFiles\n",
        "url = \"https://raw.githubusercontent.com/vuhpham94/nflx-data-projects-g6/main/project2/resources/dataset/elnino.csv\"\n",
        "spark.sparkContext.addFile(url)\n",
        "df = spark.read.csv(SparkFiles.get(\"elnino.csv\"), sep=\",\", header=True)"
      ],
      "execution_count": 3,
      "outputs": []
    },
    {
      "cell_type": "code",
      "metadata": {
        "id": "voCg7Th1YbRy",
        "outputId": "9331e688-a797-4dcd-d5e7-e9f66df09ac3",
        "colab": {
          "base_uri": "https://localhost:8080/"
        }
      },
      "source": [
        "df.show()"
      ],
      "execution_count": 5,
      "outputs": [
        {
          "output_type": "stream",
          "name": "stdout",
          "text": [
            "+-----------+-----+------+----+------+---------+----------+------------+-----------------+---------+---------+-----------------+\n",
            "|Observation| Year| Month| Day|  Date| Latitude| Longitude| Zonal Winds| Meridional Winds| Humidity| Air Temp| Sea Surface Temp|\n",
            "+-----------+-----+------+----+------+---------+----------+------------+-----------------+---------+---------+-----------------+\n",
            "|          1|   80|     3|   7|800307|    -0.02|   -109.46|        -6.8|              0.7|        .|    26.14|            26.24|\n",
            "|          2|   80|     3|   8|800308|    -0.02|   -109.46|        -4.9|              1.1|        .|    25.66|            25.97|\n",
            "|          3|   80|     3|   9|800309|    -0.02|   -109.46|        -4.5|              2.2|        .|    25.69|            25.28|\n",
            "|          4|   80|     3|  10|800310|    -0.02|   -109.46|        -3.8|              1.9|        .|    25.57|            24.31|\n",
            "|          5|   80|     3|  11|800311|    -0.02|   -109.46|        -4.2|              1.5|        .|     25.3|            23.19|\n",
            "|          6|   80|     3|  12|800312|    -0.02|   -109.46|        -4.4|              0.3|        .|    24.72|            23.64|\n",
            "|          7|   80|     3|  13|800313|    -0.02|   -109.46|        -3.2|              0.1|        .|    24.66|            24.34|\n",
            "|          8|   80|     3|  14|800314|    -0.02|   -109.46|        -3.1|              0.6|        .|    25.17|            24.14|\n",
            "|          9|   80|     3|  15|800315|    -0.02|   -109.46|          -3|                1|        .|    25.59|            24.24|\n",
            "|         10|   80|     3|  16|800316|    -0.02|   -109.46|        -1.2|                1|        .|    26.71|            25.94|\n",
            "|         11|   80|     3|  17|800317|    -0.02|   -109.46|        -0.1|              0.7|        .|    27.28|            26.65|\n",
            "|         12|   80|     3|  18|800318|    -0.02|   -109.46|        -1.2|              2.3|        .|    26.86|            27.13|\n",
            "|         13|   80|     3|  19|800319|    -0.02|   -109.46|        -4.1|             -0.3|        .|    26.38|            26.35|\n",
            "|         14|   80|     3|  20|800320|    -0.02|   -109.46|        -4.8|             -0.8|        .|    26.19|            25.87|\n",
            "|         15|   80|     3|  21|800321|    -0.02|   -109.46|        -5.2|                2|        .|    26.08|            25.38|\n",
            "|         16|   80|     3|  22|800322|    -0.02|   -109.46|        -2.7|              2.7|        .|    26.24|                .|\n",
            "|         17|   80|     3|  23|800323|    -0.02|   -109.46|        -4.4|              1.1|        .|    26.05|                .|\n",
            "|         18|   80|     3|  24|800324|    -0.02|   -109.46|        -4.3|              0.7|        .|    25.67|                .|\n",
            "|         19|   80|     3|  25|800325|    -0.02|   -109.46|        -3.8|              0.5|        .|    25.39|                .|\n",
            "|         20|   80|     3|  26|800326|    -0.02|   -109.46|          -3|              0.2|        .|    25.17|                .|\n",
            "+-----------+-----+------+----+------+---------+----------+------------+-----------------+---------+---------+-----------------+\n",
            "only showing top 20 rows\n",
            "\n"
          ]
        }
      ]
    },
    {
      "cell_type": "code",
      "metadata": {
        "id": "VViAW_XQSEH9",
        "outputId": "80d6e891-60be-4a73-bafd-785a9d7cf24f",
        "colab": {
          "base_uri": "https://localhost:8080/"
        }
      },
      "source": [
        "df.summary().show()"
      ],
      "execution_count": 4,
      "outputs": [
        {
          "output_type": "stream",
          "name": "stdout",
          "text": [
            "+-------+-----------------+------------------+-----------------+------------------+------------------+------------------+------------------+-------------------+-------------------+-----------------+------------------+------------------+\n",
            "|summary|      Observation|              Year|            Month|               Day|              Date|          Latitude|         Longitude|        Zonal Winds|   Meridional Winds|         Humidity|          Air Temp|  Sea Surface Temp|\n",
            "+-------+-----------------+------------------+-----------------+------------------+------------------+------------------+------------------+-------------------+-------------------+-----------------+------------------+------------------+\n",
            "|  count|           178080|            178080|           178080|            178080|            178080|            178080|            178080|             178080|             178080|           178080|            178080|            178080|\n",
            "|   mean|          89040.5| 93.30232479784367| 6.50486859838275|15.720535714285715| 933689.4553739892|0.4736255053908537|  -54.025233322105|-3.3047718697071216|0.24976196392837605| 81.2365245417054| 26.88756686248396|27.715308835124837|\n",
            "| stddev|51407.41230600895|3.3938175082769146|3.459656904856482| 8.800487238623559|33900.474319613866| 4.583040867227938|135.36399362306005| 3.3734917089233782| 2.9992021913892493|5.313061231423386|1.8164290448418543| 2.057428072631302|\n",
            "|    min|                1|                80|                1|                 1|            800307|             -0.01|           -105.19|               -0.1|               -0.1|                .|                 .|                 .|\n",
            "|    25%|          44507.0|              92.0|              4.0|               8.0|          920116.0|             -2.01|           -154.95|               -5.8|               -1.7|             77.7|             26.06|             26.77|\n",
            "|    50%|          89029.0|              94.0|              6.0|              16.0|          940601.0|              0.01|           -111.29|               -4.0|                0.3|             81.2|             27.34|             28.29|\n",
            "|    75%|         133558.0|              96.0|             10.0|              23.0|          960617.0|              4.98|            147.01|               -1.4|                2.3|             84.8|             31.66|             29.23|\n",
            "|    max|            99999|                98|                9|                 9|            980623|              9.05|            171.08|                9.9|                9.9|             99.9|             31.66|             31.26|\n",
            "+-------+-----------------+------------------+-----------------+------------------+------------------+------------------+------------------+-------------------+-------------------+-----------------+------------------+------------------+\n",
            "\n"
          ]
        }
      ]
    },
    {
      "cell_type": "code",
      "metadata": {
        "id": "NSBBvlDDSHR8"
      },
      "source": [
        "df.printSchema()"
      ],
      "execution_count": null,
      "outputs": []
    },
    {
      "cell_type": "code",
      "metadata": {
        "id": "3HzjQStfS8-c"
      },
      "source": [
        ""
      ],
      "execution_count": null,
      "outputs": []
    }
  ]
}