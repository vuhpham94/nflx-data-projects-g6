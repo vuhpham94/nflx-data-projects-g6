{
  "nbformat": 4,
  "nbformat_minor": 0,
  "metadata": {
    "colab": {
      "name": "project2-g6-elnino.ipynb",
      "provenance": [],
      "collapsed_sections": [],
      "toc_visible": true,
      "include_colab_link": true
    },
    "kernelspec": {
      "name": "python3",
      "display_name": "Python 3"
    },
    "language_info": {
      "name": "python"
    }
  },
  "cells": [
    {
      "cell_type": "markdown",
      "metadata": {
        "id": "view-in-github",
        "colab_type": "text"
      },
      "source": [
        "<a href=\"https://colab.research.google.com/github/vuhpham94/nflx-data-projects-g6/blob/AL/project2/notebooks/project2_g6_elnino.ipynb\" target=\"_parent\"><img src=\"https://colab.research.google.com/assets/colab-badge.svg\" alt=\"Open In Colab\"/></a>"
      ]
    },
    {
      "cell_type": "code",
      "metadata": {
        "id": "7mQw6xPkQv8C"
      },
      "source": [
        "# drive connection\n",
        "# from google.colab import drive\n",
        "# drive.mount('/content/drive')"
      ],
      "execution_count": 27,
      "outputs": []
    },
    {
      "cell_type": "code",
      "metadata": {
        "id": "nrh6ic5PRonM",
        "colab": {
          "base_uri": "https://localhost:8080/"
        },
        "outputId": "749aeb08-c3c8-4986-cfcf-6ddc839c5cef"
      },
      "source": [
        "import os\n",
        "# Find the latest version of spark 3.0  from http://www-us.apache.org/dist/spark/ and enter as the spark version\n",
        "# For example:\n",
        "# spark_version = 'spark-3.0.1'\n",
        "spark_version = 'spark-3.0.1'\n",
        "os.environ['SPARK_VERSION']=spark_version\n",
        "\n",
        "# Install Spark and Java\n",
        "!apt-get update\n",
        "!apt-get install openjdk-11-jdk-headless -qq > /dev/null\n",
        "!wget -q https://archive.apache.org/dist/spark/$SPARK_VERSION/$SPARK_VERSION-bin-hadoop2.7.tgz\n",
        "!tar xf $SPARK_VERSION-bin-hadoop2.7.tgz\n",
        "!pip install -q findspark\n",
        "\n",
        "# Set Environment Variables\n",
        "os.environ[\"JAVA_HOME\"] = \"/usr/lib/jvm/java-11-openjdk-amd64\"\n",
        "os.environ[\"SPARK_HOME\"] = f\"/content/{spark_version}-bin-hadoop2.7\"\n",
        "\n",
        "# Start a SparkSession\n",
        "import findspark\n",
        "findspark.init()"
      ],
      "execution_count": 26,
      "outputs": [
        {
          "output_type": "stream",
          "name": "stdout",
          "text": [
            "\r0% [Working]\r            \rHit:1 https://cloud.r-project.org/bin/linux/ubuntu bionic-cran40/ InRelease\n",
            "\r0% [Connecting to archive.ubuntu.com (91.189.88.142)] [Waiting for headers] [Co\r0% [1 InRelease gpgv 3,626 B] [Connecting to archive.ubuntu.com (91.189.88.142)\r                                                                               \rIgn:2 https://developer.download.nvidia.com/compute/cuda/repos/ubuntu1804/x86_64  InRelease\n",
            "\r0% [1 InRelease gpgv 3,626 B] [Connecting to archive.ubuntu.com (91.189.88.142)\r                                                                               \rIgn:3 https://developer.download.nvidia.com/compute/machine-learning/repos/ubuntu1804/x86_64  InRelease\n",
            "\r0% [1 InRelease gpgv 3,626 B] [Connecting to archive.ubuntu.com (91.189.88.142)\r                                                                               \rGet:4 http://security.ubuntu.com/ubuntu bionic-security InRelease [88.7 kB]\n",
            "\r0% [1 InRelease gpgv 3,626 B] [Connecting to archive.ubuntu.com (91.189.88.142)\r                                                                               \rHit:5 https://developer.download.nvidia.com/compute/cuda/repos/ubuntu1804/x86_64  Release\n",
            "Hit:6 https://developer.download.nvidia.com/compute/machine-learning/repos/ubuntu1804/x86_64  Release\n",
            "Hit:7 http://ppa.launchpad.net/c2d4u.team/c2d4u4.0+/ubuntu bionic InRelease\n",
            "Hit:8 http://archive.ubuntu.com/ubuntu bionic InRelease\n",
            "Get:9 http://archive.ubuntu.com/ubuntu bionic-updates InRelease [88.7 kB]\n",
            "Hit:11 http://ppa.launchpad.net/cran/libgit2/ubuntu bionic InRelease\n",
            "Hit:13 http://ppa.launchpad.net/deadsnakes/ppa/ubuntu bionic InRelease\n",
            "Get:14 http://archive.ubuntu.com/ubuntu bionic-backports InRelease [74.6 kB]\n",
            "Hit:15 http://ppa.launchpad.net/graphics-drivers/ppa/ubuntu bionic InRelease\n",
            "Fetched 252 kB in 2s (107 kB/s)\n",
            "\n"
          ]
        }
      ]
    },
    {
      "cell_type": "code",
      "metadata": {
        "id": "zz9OckdZR4qc"
      },
      "source": [
        " #import packages\n",
        "from pyspark.sql import SparkSession\n",
        "from pyspark.sql import Row\n",
        "from pyspark.sql.types import StructType,StructField,StringType, DateType,IntegerType\n",
        "\n",
        "# we are going to use this to time our queries.\n",
        "import time\n",
        "\n",
        "# Create a SparkSession\n",
        "spark = SparkSession.builder.appName(\"SparkSQL\").getOrCreate()"
      ],
      "execution_count": 36,
      "outputs": []
    },
    {
      "cell_type": "code",
      "metadata": {
        "id": "I4ejNDbZR-i7"
      },
      "source": [
        "# Read in data from S3 Bucket\n",
        "\n",
        "from pyspark import SparkFiles\n",
        "url = \"https://raw.githubusercontent.com/vuhpham94/nflx-data-projects-g6/main/project2/resources/dataset/elnino.csv\"\n",
        "spark.sparkContext.addFile(url)\n",
        "df = spark.read.csv(SparkFiles.get(\"elnino.csv\"), sep=\",\", header=True)"
      ],
      "execution_count": 37,
      "outputs": []
    },
    {
      "cell_type": "code",
      "metadata": {
        "id": "hG2Cd7ZdiSqH"
      },
      "source": [
        ""
      ],
      "execution_count": null,
      "outputs": []
    },
    {
      "cell_type": "code",
      "metadata": {
        "colab": {
          "base_uri": "https://localhost:8080/"
        },
        "id": "uLLtLjCQYe4Z",
        "outputId": "4f9c4894-af4a-4d6a-a6dc-c5455a4d4f70"
      },
      "source": [
        "df.show()"
      ],
      "execution_count": 38,
      "outputs": [
        {
          "output_type": "stream",
          "name": "stdout",
          "text": [
            "+-----------+-----+------+----+------+---------+----------+------------+-----------------+---------+---------+-----------------+\n",
            "|Observation| Year| Month| Day|  Date| Latitude| Longitude| Zonal Winds| Meridional Winds| Humidity| Air Temp| Sea Surface Temp|\n",
            "+-----------+-----+------+----+------+---------+----------+------------+-----------------+---------+---------+-----------------+\n",
            "|          1|   80|     3|   7|800307|    -0.02|   -109.46|        -6.8|              0.7|        .|    26.14|            26.24|\n",
            "|          2|   80|     3|   8|800308|    -0.02|   -109.46|        -4.9|              1.1|        .|    25.66|            25.97|\n",
            "|          3|   80|     3|   9|800309|    -0.02|   -109.46|        -4.5|              2.2|        .|    25.69|            25.28|\n",
            "|          4|   80|     3|  10|800310|    -0.02|   -109.46|        -3.8|              1.9|        .|    25.57|            24.31|\n",
            "|          5|   80|     3|  11|800311|    -0.02|   -109.46|        -4.2|              1.5|        .|     25.3|            23.19|\n",
            "|          6|   80|     3|  12|800312|    -0.02|   -109.46|        -4.4|              0.3|        .|    24.72|            23.64|\n",
            "|          7|   80|     3|  13|800313|    -0.02|   -109.46|        -3.2|              0.1|        .|    24.66|            24.34|\n",
            "|          8|   80|     3|  14|800314|    -0.02|   -109.46|        -3.1|              0.6|        .|    25.17|            24.14|\n",
            "|          9|   80|     3|  15|800315|    -0.02|   -109.46|          -3|                1|        .|    25.59|            24.24|\n",
            "|         10|   80|     3|  16|800316|    -0.02|   -109.46|        -1.2|                1|        .|    26.71|            25.94|\n",
            "|         11|   80|     3|  17|800317|    -0.02|   -109.46|        -0.1|              0.7|        .|    27.28|            26.65|\n",
            "|         12|   80|     3|  18|800318|    -0.02|   -109.46|        -1.2|              2.3|        .|    26.86|            27.13|\n",
            "|         13|   80|     3|  19|800319|    -0.02|   -109.46|        -4.1|             -0.3|        .|    26.38|            26.35|\n",
            "|         14|   80|     3|  20|800320|    -0.02|   -109.46|        -4.8|             -0.8|        .|    26.19|            25.87|\n",
            "|         15|   80|     3|  21|800321|    -0.02|   -109.46|        -5.2|                2|        .|    26.08|            25.38|\n",
            "|         16|   80|     3|  22|800322|    -0.02|   -109.46|        -2.7|              2.7|        .|    26.24|                .|\n",
            "|         17|   80|     3|  23|800323|    -0.02|   -109.46|        -4.4|              1.1|        .|    26.05|                .|\n",
            "|         18|   80|     3|  24|800324|    -0.02|   -109.46|        -4.3|              0.7|        .|    25.67|                .|\n",
            "|         19|   80|     3|  25|800325|    -0.02|   -109.46|        -3.8|              0.5|        .|    25.39|                .|\n",
            "|         20|   80|     3|  26|800326|    -0.02|   -109.46|          -3|              0.2|        .|    25.17|                .|\n",
            "+-----------+-----+------+----+------+---------+----------+------------+-----------------+---------+---------+-----------------+\n",
            "only showing top 20 rows\n",
            "\n"
          ]
        }
      ]
    },
    {
      "cell_type": "code",
      "metadata": {
        "id": "VViAW_XQSEH9",
        "colab": {
          "base_uri": "https://localhost:8080/"
        },
        "outputId": "def8ca0e-8e9a-48bb-9c53-dc9e739bed9b"
      },
      "source": [
        "df.summary().show()"
      ],
      "execution_count": 39,
      "outputs": [
        {
          "output_type": "stream",
          "name": "stdout",
          "text": [
            "+-------+-----------------+------------------+-----------------+------------------+------------------+------------------+------------------+-------------------+-------------------+-----------------+------------------+------------------+\n",
            "|summary|      Observation|              Year|            Month|               Day|              Date|          Latitude|         Longitude|        Zonal Winds|   Meridional Winds|         Humidity|          Air Temp|  Sea Surface Temp|\n",
            "+-------+-----------------+------------------+-----------------+------------------+------------------+------------------+------------------+-------------------+-------------------+-----------------+------------------+------------------+\n",
            "|  count|           178080|            178080|           178080|            178080|            178080|            178080|            178080|             178080|             178080|           178080|            178080|            178080|\n",
            "|   mean|          89040.5| 93.30232479784367| 6.50486859838275|15.720535714285715| 933689.4553739892|0.4736255053908537|  -54.025233322105|-3.3047718697071216|0.24976196392837605| 81.2365245417054| 26.88756686248396|27.715308835124837|\n",
            "| stddev|51407.41230600895|3.3938175082769146|3.459656904856482| 8.800487238623559|33900.474319613866| 4.583040867227938|135.36399362306005| 3.3734917089233782| 2.9992021913892493|5.313061231423386|1.8164290448418543| 2.057428072631302|\n",
            "|    min|                1|                80|                1|                 1|            800307|             -0.01|           -105.19|               -0.1|               -0.1|                .|                 .|                 .|\n",
            "|    25%|          44507.0|              92.0|              4.0|               8.0|          920116.0|             -2.01|           -154.95|               -5.8|               -1.7|             77.7|             26.06|             26.77|\n",
            "|    50%|          89029.0|              94.0|              6.0|              16.0|          940601.0|              0.01|           -111.29|               -4.0|                0.3|             81.2|             27.34|             28.29|\n",
            "|    75%|         133558.0|              96.0|             10.0|              23.0|          960617.0|              4.98|            147.01|               -1.4|                2.3|             84.8|             31.66|             29.23|\n",
            "|    max|            99999|                98|                9|                 9|            980623|              9.05|            171.08|                9.9|                9.9|             99.9|             31.66|             31.26|\n",
            "+-------+-----------------+------------------+-----------------+------------------+------------------+------------------+------------------+-------------------+-------------------+-----------------+------------------+------------------+\n",
            "\n"
          ]
        }
      ]
    },
    {
      "cell_type": "code",
      "metadata": {
        "id": "NSBBvlDDSHR8",
        "colab": {
          "base_uri": "https://localhost:8080/"
        },
        "outputId": "40b53ca3-17c0-4f33-efe4-2b6060ba00ff"
      },
      "source": [
        "df.printSchema()"
      ],
      "execution_count": 40,
      "outputs": [
        {
          "output_type": "stream",
          "name": "stdout",
          "text": [
            "root\n",
            " |-- Observation: string (nullable = true)\n",
            " |--  Year: string (nullable = true)\n",
            " |--  Month: string (nullable = true)\n",
            " |--  Day: string (nullable = true)\n",
            " |--  Date: string (nullable = true)\n",
            " |--  Latitude: string (nullable = true)\n",
            " |--  Longitude: string (nullable = true)\n",
            " |--  Zonal Winds: string (nullable = true)\n",
            " |--  Meridional Winds: string (nullable = true)\n",
            " |--  Humidity: string (nullable = true)\n",
            " |--  Air Temp: string (nullable = true)\n",
            " |--  Sea Surface Temp: string (nullable = true)\n",
            "\n"
          ]
        }
      ]
    },
    {
      "cell_type": "code",
      "metadata": {
        "id": "3HzjQStfS8-c"
      },
      "source": [
        ""
      ],
      "execution_count": null,
      "outputs": []
    },
    {
      "cell_type": "markdown",
      "metadata": {
        "id": "oDdp6uA0YSFR"
      },
      "source": [
        "# New Section\n",
        "<p>Cleaning data</p>"
      ]
    },
    {
      "cell_type": "code",
      "metadata": {
        "id": "QrCebh6NYTdr"
      },
      "source": [
        "df =df.drop(\" Date\")\n",
        "from pyspark.sql.types import IntegerType,BooleanType,DateType"
      ],
      "execution_count": 81,
      "outputs": []
    },
    {
      "cell_type": "code",
      "metadata": {
        "id": "xTYfq6O1o80E",
        "outputId": "4e43a0f6-69af-4ee4-e761-82afb8b248cd",
        "colab": {
          "base_uri": "https://localhost:8080/"
        }
      },
      "source": [
        "df.printSchema()"
      ],
      "execution_count": 84,
      "outputs": [
        {
          "output_type": "stream",
          "name": "stdout",
          "text": [
            "root\n",
            " |-- Observation: string (nullable = true)\n",
            " |--  Year: string (nullable = true)\n",
            " |--  Month: string (nullable = true)\n",
            " |--  Day: string (nullable = true)\n",
            " |--  Latitude: string (nullable = true)\n",
            " |--  Longitude: string (nullable = true)\n",
            " |--  Zonal Winds: string (nullable = true)\n",
            " |--  Meridional Winds: string (nullable = true)\n",
            " |--  Humidity: string (nullable = true)\n",
            " |--  Air Temp: string (nullable = true)\n",
            " |--  Sea Surface Temp: string (nullable = true)\n",
            "\n"
          ]
        }
      ]
    },
    {
      "cell_type": "code",
      "metadata": {
        "id": "TGx4MdJif5Ul",
        "outputId": "2de6face-0263-4281-ced4-7ff5a5cc705f",
        "colab": {
          "base_uri": "https://localhost:8080/"
        }
      },
      "source": [
        "df.show()"
      ],
      "execution_count": 67,
      "outputs": [
        {
          "output_type": "stream",
          "name": "stdout",
          "text": [
            "+-----------+-----+------+----+---------+----------+------------+-----------------+---------+---------+-----------------+\n",
            "|Observation| Year| Month| Day| Latitude| Longitude| Zonal Winds| Meridional Winds| Humidity| Air Temp| Sea Surface Temp|\n",
            "+-----------+-----+------+----+---------+----------+------------+-----------------+---------+---------+-----------------+\n",
            "|          1|   80|     3|   7|    -0.02|   -109.46|        -6.8|              0.7|        .|    26.14|            26.24|\n",
            "|          2|   80|     3|   8|    -0.02|   -109.46|        -4.9|              1.1|        .|    25.66|            25.97|\n",
            "|          3|   80|     3|   9|    -0.02|   -109.46|        -4.5|              2.2|        .|    25.69|            25.28|\n",
            "|          4|   80|     3|  10|    -0.02|   -109.46|        -3.8|              1.9|        .|    25.57|            24.31|\n",
            "|          5|   80|     3|  11|    -0.02|   -109.46|        -4.2|              1.5|        .|     25.3|            23.19|\n",
            "|          6|   80|     3|  12|    -0.02|   -109.46|        -4.4|              0.3|        .|    24.72|            23.64|\n",
            "|          7|   80|     3|  13|    -0.02|   -109.46|        -3.2|              0.1|        .|    24.66|            24.34|\n",
            "|          8|   80|     3|  14|    -0.02|   -109.46|        -3.1|              0.6|        .|    25.17|            24.14|\n",
            "|          9|   80|     3|  15|    -0.02|   -109.46|          -3|                1|        .|    25.59|            24.24|\n",
            "|         10|   80|     3|  16|    -0.02|   -109.46|        -1.2|                1|        .|    26.71|            25.94|\n",
            "|         11|   80|     3|  17|    -0.02|   -109.46|        -0.1|              0.7|        .|    27.28|            26.65|\n",
            "|         12|   80|     3|  18|    -0.02|   -109.46|        -1.2|              2.3|        .|    26.86|            27.13|\n",
            "|         13|   80|     3|  19|    -0.02|   -109.46|        -4.1|             -0.3|        .|    26.38|            26.35|\n",
            "|         14|   80|     3|  20|    -0.02|   -109.46|        -4.8|             -0.8|        .|    26.19|            25.87|\n",
            "|         15|   80|     3|  21|    -0.02|   -109.46|        -5.2|                2|        .|    26.08|            25.38|\n",
            "|         16|   80|     3|  22|    -0.02|   -109.46|        -2.7|              2.7|        .|    26.24|                .|\n",
            "|         17|   80|     3|  23|    -0.02|   -109.46|        -4.4|              1.1|        .|    26.05|                .|\n",
            "|         18|   80|     3|  24|    -0.02|   -109.46|        -4.3|              0.7|        .|    25.67|                .|\n",
            "|         19|   80|     3|  25|    -0.02|   -109.46|        -3.8|              0.5|        .|    25.39|                .|\n",
            "|         20|   80|     3|  26|    -0.02|   -109.46|          -3|              0.2|        .|    25.17|                .|\n",
            "+-----------+-----+------+----+---------+----------+------------+-----------------+---------+---------+-----------------+\n",
            "only showing top 20 rows\n",
            "\n"
          ]
        }
      ]
    },
    {
      "cell_type": "code",
      "metadata": {
        "id": "xLrL0rQTj3Mb",
        "outputId": "80272a80-004e-47a2-f520-7e437a113d5d",
        "colab": {
          "base_uri": "https://localhost:8080/",
          "height": 283
        }
      },
      "source": [
        ""
      ],
      "execution_count": 83,
      "outputs": [
        {
          "output_type": "error",
          "ename": "AttributeError",
          "evalue": "ignored",
          "traceback": [
            "\u001b[0;31m---------------------------------------------------------------------------\u001b[0m",
            "\u001b[0;31mAttributeError\u001b[0m                            Traceback (most recent call last)",
            "\u001b[0;32m<ipython-input-83-246e3b6bec7f>\u001b[0m in \u001b[0;36m<module>\u001b[0;34m()\u001b[0m\n\u001b[0;32m----> 1\u001b[0;31m \u001b[0mdf\u001b[0m\u001b[0;34m.\u001b[0m\u001b[0mwithColumn\u001b[0m\u001b[0;34m(\u001b[0m\u001b[0;34m\" Year\"\u001b[0m\u001b[0;34m,\u001b[0m\u001b[0mdf\u001b[0m\u001b[0;34m.\u001b[0m \u001b[0mYear\u001b[0m\u001b[0;34m.\u001b[0m\u001b[0mcast\u001b[0m\u001b[0;34m(\u001b[0m\u001b[0mIntegerType\u001b[0m\u001b[0;34m(\u001b[0m\u001b[0;34m)\u001b[0m\u001b[0;34m)\u001b[0m\u001b[0;34m)\u001b[0m\u001b[0;34m\u001b[0m\u001b[0;34m\u001b[0m\u001b[0m\n\u001b[0m",
            "\u001b[0;32m/content/spark-3.0.1-bin-hadoop2.7/python/pyspark/sql/dataframe.py\u001b[0m in \u001b[0;36m__getattr__\u001b[0;34m(self, name)\u001b[0m\n\u001b[1;32m   1399\u001b[0m         \u001b[0;32mif\u001b[0m \u001b[0mname\u001b[0m \u001b[0;32mnot\u001b[0m \u001b[0;32min\u001b[0m \u001b[0mself\u001b[0m\u001b[0;34m.\u001b[0m\u001b[0mcolumns\u001b[0m\u001b[0;34m:\u001b[0m\u001b[0;34m\u001b[0m\u001b[0;34m\u001b[0m\u001b[0m\n\u001b[1;32m   1400\u001b[0m             raise AttributeError(\n\u001b[0;32m-> 1401\u001b[0;31m                 \"'%s' object has no attribute '%s'\" % (self.__class__.__name__, name))\n\u001b[0m\u001b[1;32m   1402\u001b[0m         \u001b[0mjc\u001b[0m \u001b[0;34m=\u001b[0m \u001b[0mself\u001b[0m\u001b[0;34m.\u001b[0m\u001b[0m_jdf\u001b[0m\u001b[0;34m.\u001b[0m\u001b[0mapply\u001b[0m\u001b[0;34m(\u001b[0m\u001b[0mname\u001b[0m\u001b[0;34m)\u001b[0m\u001b[0;34m\u001b[0m\u001b[0;34m\u001b[0m\u001b[0m\n\u001b[1;32m   1403\u001b[0m         \u001b[0;32mreturn\u001b[0m \u001b[0mColumn\u001b[0m\u001b[0;34m(\u001b[0m\u001b[0mjc\u001b[0m\u001b[0;34m)\u001b[0m\u001b[0;34m\u001b[0m\u001b[0;34m\u001b[0m\u001b[0m\n",
            "\u001b[0;31mAttributeError\u001b[0m: 'DataFrame' object has no attribute 'Year'"
          ]
        }
      ]
    }
  ]
}